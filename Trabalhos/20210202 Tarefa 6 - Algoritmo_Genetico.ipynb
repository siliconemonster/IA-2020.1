{
  "nbformat": 4,
  "nbformat_minor": 0,
  "metadata": {
    "colab": {
      "name": "Algoritmo_Genetico.ipynb",
      "provenance": []
    },
    "kernelspec": {
      "name": "python3",
      "display_name": "Python 3"
    }
  },
  "cells": [
    {
      "cell_type": "markdown",
      "metadata": {
        "id": "cCOIhvIrVvn-"
      },
      "source": [
        "**<h1> ALGORITMO GENÉTICO**\r\n"
      ]
    },
    {
      "cell_type": "markdown",
      "metadata": {
        "id": "6SlymY5BV3Fh"
      },
      "source": [
        "Aline Freire de Rezende - 116110571<br>\r\n",
        "Larissa Monteiro da Fonseca Galeno - 116083017"
      ]
    },
    {
      "cell_type": "code",
      "metadata": {
        "id": "t37IR2eR7m2D"
      },
      "source": [
        "import numpy as np\r\n",
        "import random\r\n",
        "import math\r\n",
        "import matplotlib.pyplot as plt "
      ],
      "execution_count": 2,
      "outputs": []
    },
    {
      "cell_type": "markdown",
      "metadata": {
        "id": "OYx-24cEUioU"
      },
      "source": [
        "<h2>1 - Modelagem do Indivíduo"
      ]
    },
    {
      "cell_type": "markdown",
      "metadata": {
        "id": "A7JsZ08FUnZZ"
      },
      "source": [
        "<h3>a) Utilize a mesma representação de tabuleiro usada na tarefa do Hill Climbing."
      ]
    },
    {
      "cell_type": "markdown",
      "metadata": {
        "id": "1k_c8RE0VhNv"
      },
      "source": [
        "No caso de um tabuleiro 4x4, temos um vetor de 1x4.. Só pode haver uma rainha por coluna, então a coluna em que existir uma, será representada pelo número da linha.<br>\r\n",
        "**Por exemplo:**<br>\r\n",
        "Um tabuleiro do tipo: <br>\r\n",
        "[R &nbsp; 0 &nbsp; 0 &nbsp; 0]<br>\r\n",
        "[0 &nbsp; 0 &nbsp; 0 &nbsp; R]<br>\r\n",
        "[0 &nbsp; R &nbsp; 0 &nbsp; 0]<br>\r\n",
        "[0 &nbsp; 0 &nbsp; R &nbsp; 0]<br>\r\n",
        "onde 0 representa onde está vazio, e R representa onde há uma rainha; na modelagem em questão, é representado por: <br>\r\n",
        "[0 &nbsp; 2 &nbsp; 3 &nbsp; 1]"
      ]
    },
    {
      "cell_type": "markdown",
      "metadata": {
        "id": "lhYP_YmIVjK1"
      },
      "source": [
        "<h3>b) Proponha uma representação binária para o tabuleiro."
      ]
    },
    {
      "cell_type": "markdown",
      "metadata": {
        "id": "gGgSCwzK5_ES"
      },
      "source": [
        "No caso de um tabuleiro 4x4, temos uma string de tamanho Combinação de 4, tomados 2 a 2. Só pode haver uma rainha por coluna, então a coluna em que existir uma, será representada pelo número em binário da linha.<br>\r\n",
        "**Por exemplo:**<br>\r\n",
        "Um tabuleiro do tipo: <br>\r\n",
        "[R &nbsp; 0 &nbsp; 0 &nbsp; 0]<br>\r\n",
        "[0 &nbsp; 0 &nbsp; 0 &nbsp; R]<br>\r\n",
        "[0 &nbsp; R &nbsp; 0 &nbsp; 0]<br>\r\n",
        "[0 &nbsp; 0 &nbsp; R &nbsp; 0]<br>\r\n",
        "onde 0 representa onde está vazio, e R representa onde há uma rainha; na modelagem em questão, é representado por: <br>\r\n",
        "**00101101**"
      ]
    },
    {
      "cell_type": "markdown",
      "metadata": {
        "id": "GcBDP9Y0WPx6"
      },
      "source": [
        "<h2>2 - Geração População Inicial"
      ]
    },
    {
      "cell_type": "markdown",
      "metadata": {
        "id": "iiqNdMtDWLwX"
      },
      "source": [
        "<h3>a) Defina uma função que dado o tamanho n de uma população, gera aleatoriamente um conjunto de n indivíduos. A função deve funcionar para os dois tipos de indivíduos definidos no item anterior."
      ]
    },
    {
      "cell_type": "code",
      "metadata": {
        "colab": {
          "base_uri": "https://localhost:8080/"
        },
        "id": "P6NHgZ_u4dCK",
        "outputId": "288bea1a-65df-4bbf-b9e3-407eb4985d04"
      },
      "source": [
        "def geraTabuleiro(n):\r\n",
        "  tabuleiro = []\r\n",
        "\r\n",
        "  for x in range(n):\r\n",
        "    posicaoRainha = random.randint(0, n-1) \r\n",
        "    tabuleiro.append(posicaoRainha)\r\n",
        "\r\n",
        "  return tabuleiro\r\n",
        "\r\n",
        "geraTabuleiro(4)"
      ],
      "execution_count": 3,
      "outputs": [
        {
          "output_type": "execute_result",
          "data": {
            "text/plain": [
              "[1, 1, 0, 0]"
            ]
          },
          "metadata": {
            "tags": []
          },
          "execution_count": 3
        }
      ]
    },
    {
      "cell_type": "code",
      "metadata": {
        "colab": {
          "base_uri": "https://localhost:8080/"
        },
        "id": "gWA09Xq912zp",
        "outputId": "41e33eb2-0cc5-4259-b53d-40fb9fdae594"
      },
      "source": [
        "# GERA TABULEIRO SEM NINGUÉM NA MESMA LINHA\r\n",
        "def geraTabuleiroSemLinhaRepetida(n):\r\n",
        "\r\n",
        "  modelo = []\r\n",
        "  for i in range(n):\r\n",
        "    modelo.append(i)\r\n",
        "  \r\n",
        "  tabuleiro = []\r\n",
        "\r\n",
        "  for x in range(n):\r\n",
        "    pos = random.randint(0, len(modelo)-1) \r\n",
        "    tabuleiro.append(modelo[pos])\r\n",
        "    modelo.pop(pos)\r\n",
        "\r\n",
        "  return tabuleiro\r\n",
        "\r\n",
        "def geraTabuleiro_Binario(n):\r\n",
        "  tabuleiro = ''\r\n",
        "  tam_numero = int(math.log(n, 2))\r\n",
        "  #print(tam_numero)\r\n",
        "\r\n",
        "  for i in range(n):\r\n",
        "    for j in range(tam_numero):\r\n",
        "      num = random.randint(0,1)\r\n",
        "      tabuleiro = str(num) + tabuleiro #concatena a string\r\n",
        "  \r\n",
        "  return tabuleiro\r\n",
        "\r\n",
        "geraTabuleiroSemLinhaRepetida(4)"
      ],
      "execution_count": 4,
      "outputs": [
        {
          "output_type": "execute_result",
          "data": {
            "text/plain": [
              "[1, 2, 3, 0]"
            ]
          },
          "metadata": {
            "tags": []
          },
          "execution_count": 4
        }
      ]
    },
    {
      "cell_type": "code",
      "metadata": {
        "colab": {
          "base_uri": "https://localhost:8080/",
          "height": 35
        },
        "id": "_bbcXhvl2vnr",
        "outputId": "106bd7e9-d313-409a-8eb0-bde3317e3654"
      },
      "source": [
        "def geraTabuleiro_Binario(n):\r\n",
        "  tabuleiro = ''\r\n",
        "  tam_numero = int(math.log(n, 2))\r\n",
        "  #print(tam_numero)\r\n",
        "\r\n",
        "  for i in range(n):\r\n",
        "    for j in range(tam_numero):\r\n",
        "      num = random.randint(0,1)\r\n",
        "      tabuleiro = str(num) + tabuleiro #concatena a string\r\n",
        "  \r\n",
        "  return tabuleiro\r\n",
        "\r\n",
        "geraTabuleiro_Binario(4)"
      ],
      "execution_count": 5,
      "outputs": [
        {
          "output_type": "execute_result",
          "data": {
            "application/vnd.google.colaboratory.intrinsic+json": {
              "type": "string"
            },
            "text/plain": [
              "'01101100'"
            ]
          },
          "metadata": {
            "tags": []
          },
          "execution_count": 5
        }
      ]
    },
    {
      "cell_type": "code",
      "metadata": {
        "colab": {
          "base_uri": "https://localhost:8080/"
        },
        "id": "fb88lDPE6PDL",
        "outputId": "ed86a259-5923-4853-b699-7e42dba369d9"
      },
      "source": [
        "def geraPopulacao(numIndividuos, n):\r\n",
        "  populacao = []\r\n",
        "\r\n",
        "  for i in range(numIndividuos):\r\n",
        "    populacao.append(geraTabuleiro(n)) ##### FALTA LIDAR COM ELEMENTOS REPETIDOS\r\n",
        "\r\n",
        "  return populacao\r\n",
        "\r\n",
        "geraPopulacao(10, 4)"
      ],
      "execution_count": 6,
      "outputs": [
        {
          "output_type": "execute_result",
          "data": {
            "text/plain": [
              "[[1, 2, 2, 0],\n",
              " [0, 0, 2, 3],\n",
              " [1, 1, 0, 3],\n",
              " [1, 1, 1, 3],\n",
              " [2, 0, 0, 1],\n",
              " [0, 2, 0, 1],\n",
              " [0, 3, 3, 3],\n",
              " [2, 3, 1, 3],\n",
              " [1, 1, 0, 0],\n",
              " [3, 1, 0, 3]]"
            ]
          },
          "metadata": {
            "tags": []
          },
          "execution_count": 6
        }
      ]
    },
    {
      "cell_type": "code",
      "metadata": {
        "colab": {
          "base_uri": "https://localhost:8080/"
        },
        "id": "NzUosF9-2slT",
        "outputId": "e7e00340-7a9f-4d25-b3c6-5ac75b3ad911"
      },
      "source": [
        "def geraPopulacao_Binario(numIndividuos, n):\r\n",
        "  populacao = []\r\n",
        "  for i in range(numIndividuos):\r\n",
        "    populacao.append(geraTabuleiro_Binario(n))\r\n",
        "  \r\n",
        "  return populacao\r\n",
        "\r\n",
        "geraPopulacao_Binario(10, 4)"
      ],
      "execution_count": 7,
      "outputs": [
        {
          "output_type": "execute_result",
          "data": {
            "text/plain": [
              "['11001011',\n",
              " '11100100',\n",
              " '01010111',\n",
              " '10100100',\n",
              " '11100000',\n",
              " '01001110',\n",
              " '01110010',\n",
              " '00101100',\n",
              " '00110010',\n",
              " '01000000']"
            ]
          },
          "metadata": {
            "tags": []
          },
          "execution_count": 7
        }
      ]
    },
    {
      "cell_type": "code",
      "metadata": {
        "colab": {
          "base_uri": "https://localhost:8080/"
        },
        "id": "4ipGAaLBzX91",
        "outputId": "914c60dd-4d27-4f67-b800-6ace4088b4bf"
      },
      "source": [
        "def transformaBinparaDecimal(populacao, tam_tabuleiro):\r\n",
        "  n = len(populacao)\r\n",
        "  tam_numero = int(math.log(tam_tabuleiro, 2))\r\n",
        "  populacao_decimal = []\r\n",
        "  aux = ''\r\n",
        "  \r\n",
        "  #transoformar populacao de binário para decimal\r\n",
        "  for i in range(n): #i representa em qual individuo da populacao eu to\r\n",
        "    tabuleiro_decimal = []\r\n",
        "    elemento = 0\r\n",
        "    for k in range(tam_tabuleiro):\r\n",
        "      aux = ''\r\n",
        "      for j in range(tam_numero):\r\n",
        "        aux = aux + populacao[i][elemento]\r\n",
        "        elemento = elemento + 1\r\n",
        "      num_decimal = int(aux, 2) #transforma de binário paradecimal\r\n",
        "      tabuleiro_decimal.append(num_decimal)\r\n",
        "    populacao_decimal.append(tabuleiro_decimal)\r\n",
        "  \r\n",
        "  return populacao_decimal\r\n",
        "\r\n",
        "populacao = ['11001011','11100100','01010111','10100100','11100000','01001110','01110010','00101100','00110010','01000000']\r\n",
        "transformaBinparaDecimal(populacao, 4)"
      ],
      "execution_count": 9,
      "outputs": [
        {
          "output_type": "execute_result",
          "data": {
            "text/plain": [
              "[[3, 0, 2, 3],\n",
              " [3, 2, 1, 0],\n",
              " [1, 1, 1, 3],\n",
              " [2, 2, 1, 0],\n",
              " [3, 2, 0, 0],\n",
              " [1, 0, 3, 2],\n",
              " [1, 3, 0, 2],\n",
              " [0, 2, 3, 0],\n",
              " [0, 3, 0, 2],\n",
              " [1, 0, 0, 0]]"
            ]
          },
          "metadata": {
            "tags": []
          },
          "execution_count": 9
        }
      ]
    },
    {
      "cell_type": "markdown",
      "metadata": {
        "id": "QX9dkrx4W3pm"
      },
      "source": [
        "<h2>3 - Operadores: Para os dois tipos de indivíduos definidos acima:"
      ]
    },
    {
      "cell_type": "markdown",
      "metadata": {
        "id": "yx4qFt-3W9lp"
      },
      "source": [
        "<h3>a) Defina a função de adaptação usada para avaliar um tabuleiro T."
      ]
    },
    {
      "cell_type": "code",
      "metadata": {
        "colab": {
          "base_uri": "https://localhost:8080/"
        },
        "id": "62DtKCnZBm9Y",
        "outputId": "bed6c6e3-ef71-419e-93c1-55abc84064af"
      },
      "source": [
        "def avaliaAtaques(tabuleiro):\r\n",
        "  n = len(tabuleiro)\r\n",
        "  ataques = 0\r\n",
        "\r\n",
        "  for i in range(n-1): # caso esteja na mesma coluna\r\n",
        "    for j in range(i+1, n):\r\n",
        "      if (tabuleiro[i] == tabuleiro[j]):\r\n",
        "        ataques = ataques + 1\r\n",
        "\r\n",
        "  for i in range(n-1): # caso esteja na mesma diagonal. Para baixo e para cima, respectivamente\r\n",
        "    for j in range(i+1, n):\r\n",
        "      if ((tabuleiro[i] == tabuleiro[j] + (j - i)) or (tabuleiro[i] == tabuleiro[j] - (j - i))):\r\n",
        "        ataques = ataques + 1\r\n",
        "\r\n",
        "  #print(\"Número de ataques:\")\r\n",
        "  #print(ataques)\r\n",
        "  return ataques\r\n",
        "\r\n",
        "tabuleiro = geraTabuleiro(4)\r\n",
        "avaliaAtaques(tabuleiro)"
      ],
      "execution_count": 10,
      "outputs": [
        {
          "output_type": "execute_result",
          "data": {
            "text/plain": [
              "4"
            ]
          },
          "metadata": {
            "tags": []
          },
          "execution_count": 10
        }
      ]
    },
    {
      "cell_type": "code",
      "metadata": {
        "colab": {
          "base_uri": "https://localhost:8080/"
        },
        "id": "aMgiy62FI6bv",
        "outputId": "8a7672d2-ebb5-4191-a1b7-aa1b77de44cc"
      },
      "source": [
        "def funcaoFitness(tabuleiro):\r\n",
        "  qtd_rainhas = len(tabuleiro)\r\n",
        "  max_ataques = math.factorial(qtd_rainhas)/(math.factorial(qtd_rainhas - 2) * 2) #combinação para saber o total de ataques\r\n",
        "  #print(max_ataques)\r\n",
        "  num_ataques = avaliaAtaques(tabuleiro)\r\n",
        "  #inverte a quantidade de ataques\r\n",
        "  valorFitness = max_ataques - num_ataques\r\n",
        "\r\n",
        "  return valorFitness\r\n",
        "\r\n",
        "  \r\n",
        "tabuleiro = geraTabuleiro(4)\r\n",
        "funcaoFitness(tabuleiro)"
      ],
      "execution_count": 11,
      "outputs": [
        {
          "output_type": "execute_result",
          "data": {
            "text/plain": [
              "3.0"
            ]
          },
          "metadata": {
            "tags": []
          },
          "execution_count": 11
        }
      ]
    },
    {
      "cell_type": "markdown",
      "metadata": {
        "id": "dvIK6ZhVXMT_"
      },
      "source": [
        "<h3>b) Defina a função que dada uma população P, constrói a roleta viciada correspondente a P.\r\n"
      ]
    },
    {
      "cell_type": "code",
      "metadata": {
        "id": "Cuhk-aqN15HQ",
        "colab": {
          "base_uri": "https://localhost:8080/"
        },
        "outputId": "337461ef-bbf4-44b2-f38f-8780470539df"
      },
      "source": [
        "def roletaViciada(populacao):\r\n",
        "  #print(populacao)\r\n",
        "  n = len(populacao)\r\n",
        "  roleta = []\r\n",
        "\r\n",
        "  for i in range(n):\r\n",
        "    #print(populacao[i])\r\n",
        "    valor = funcaoFitness(populacao[i])\r\n",
        "    #print(valor)\r\n",
        "    roleta.append(valor)\r\n",
        "  \r\n",
        "  total = sum(roleta)\r\n",
        "  \r\n",
        "  #print(roleta, total)\r\n",
        "  return roleta, total\r\n",
        "\r\n",
        "roletaViciada(geraPopulacao(6, 4))"
      ],
      "execution_count": 12,
      "outputs": [
        {
          "output_type": "execute_result",
          "data": {
            "text/plain": [
              "([2.0, 2.0, 3.0, 4.0, 4.0, 3.0], 18.0)"
            ]
          },
          "metadata": {
            "tags": []
          },
          "execution_count": 12
        }
      ]
    },
    {
      "cell_type": "markdown",
      "metadata": {
        "id": "58pQ7MXVXpYm"
      },
      "source": [
        "<h3>c) Defina a função que dada uma população P constrói uma população intermediária correspondente a P. (seleção)\r\n"
      ]
    },
    {
      "cell_type": "code",
      "metadata": {
        "colab": {
          "base_uri": "https://localhost:8080/"
        },
        "id": "FeUDk_Y_6wFz",
        "outputId": "d5052afc-a65e-463c-fb9b-b896bcf3a3c7"
      },
      "source": [
        "def selecao(populacao):\r\n",
        "  #print(\"Populacao Inicial\" + str(populacao))\r\n",
        "  n = len(populacao)\r\n",
        "  populacao_int = []\r\n",
        "\r\n",
        "  roleta, total = roletaViciada(populacao)\r\n",
        "\r\n",
        "  for i in range(n):\r\n",
        "    sorteado = random.randint(0, total)\r\n",
        "    #print(\"Sorteado \" + str(sorteado))\r\n",
        "    esquerda = 0\r\n",
        "    direita = roleta[0]\r\n",
        "    j = 0\r\n",
        "    while True:\r\n",
        "      if sorteado == 0:\r\n",
        "        populacao_int.append(populacao[j])\r\n",
        "        break\r\n",
        "      elif sorteado > esquerda and sorteado <= direita:\r\n",
        "        populacao_int.append(populacao[j])\r\n",
        "        break\r\n",
        "      esquerda = direita\r\n",
        "      direita = direita + roleta[j+1]\r\n",
        "      j = j + 1\r\n",
        "  \r\n",
        "  return populacao_int\r\n",
        "\r\n",
        "selecao(geraPopulacao(6, 4))"
      ],
      "execution_count": 14,
      "outputs": [
        {
          "output_type": "execute_result",
          "data": {
            "text/plain": [
              "[[3, 0, 1, 3],\n",
              " [2, 0, 3, 0],\n",
              " [1, 1, 1, 3],\n",
              " [2, 2, 0, 2],\n",
              " [2, 0, 3, 0],\n",
              " [3, 1, 2, 1]]"
            ]
          },
          "metadata": {
            "tags": []
          },
          "execution_count": 14
        }
      ]
    },
    {
      "cell_type": "code",
      "metadata": {
        "colab": {
          "base_uri": "https://localhost:8080/"
        },
        "id": "ELxdkumC2oR6",
        "outputId": "a3cf2367-f3dd-49d7-f6fb-61d6bbfe6022"
      },
      "source": [
        "def selecao_Binario(populacao, tam_tabuleiro): #populacao tá em binário\r\n",
        "  #print(\"Populacao \" + str(populacao))\r\n",
        "  n = len(populacao)\r\n",
        "  populacao_decimal = []\r\n",
        "  populacao_int = []\r\n",
        "\r\n",
        "  #transoformar populacao de binário para decimal\r\n",
        "  populacao_decimal = transformaBinparaDecimal(populacao, tam_tabuleiro)\r\n",
        "  #print(populacao_decimal)\r\n",
        "\r\n",
        "  roleta, total = roletaViciada(populacao_decimal)\r\n",
        "  #print(roleta, total)\r\n",
        "\r\n",
        "  for i in range(n):\r\n",
        "    sorteado = random.randint(0, total)\r\n",
        "    #print(\"Sorteado \" + str(sorteado))\r\n",
        "    esquerda = 0\r\n",
        "    direita = roleta[0]\r\n",
        "    j = 0\r\n",
        "    while True:\r\n",
        "      if sorteado == 0:\r\n",
        "        populacao_int.append(populacao[j])\r\n",
        "        break\r\n",
        "      elif sorteado > esquerda and sorteado <= direita:\r\n",
        "        populacao_int.append(populacao[j])\r\n",
        "        break\r\n",
        "      esquerda = direita\r\n",
        "      direita = direita + roleta[j+1]\r\n",
        "      j = j + 1\r\n",
        "  \r\n",
        "  return populacao_int\r\n",
        "\r\n",
        "selecao_Binario(geraPopulacao_Binario(6, 4), 4)"
      ],
      "execution_count": 15,
      "outputs": [
        {
          "output_type": "execute_result",
          "data": {
            "text/plain": [
              "['11001101', '10011101', '10100000', '10011001', '11001101', '11001101']"
            ]
          },
          "metadata": {
            "tags": []
          },
          "execution_count": 15
        }
      ]
    },
    {
      "cell_type": "markdown",
      "metadata": {
        "id": "VctPk_0KXra0"
      },
      "source": [
        "<h3>d) Defina a função que faz o crossover entre dois indivíduos. (crossover)\r\n"
      ]
    },
    {
      "cell_type": "code",
      "metadata": {
        "id": "nD7iYoOl8nJ4",
        "colab": {
          "base_uri": "https://localhost:8080/"
        },
        "outputId": "9f08814b-ad5d-4192-a8ff-720d4b1eeb23"
      },
      "source": [
        "def crossover(mae1, mae2):\r\n",
        "  n = len(mae1)\r\n",
        "  pontoCorte = random.randint(0, n-2) #ponto corte\r\n",
        "  #print(pontoCorte)\r\n",
        "\r\n",
        "  inicio1 = mae1[:pontoCorte+1]\r\n",
        "  final1 = mae2[pontoCorte+1:]\r\n",
        "  filha1 = inicio1 + final1\r\n",
        "\r\n",
        "  inicio2 = mae2[:pontoCorte+1] \r\n",
        "  final2 = mae1[pontoCorte+1:]\r\n",
        "  filha2 = inicio2 + final2\r\n",
        "\r\n",
        "  return filha1, filha2\r\n",
        "\r\n",
        "crossover([1, 2, 3, 3], [2, 3, 3, 4])"
      ],
      "execution_count": 16,
      "outputs": [
        {
          "output_type": "execute_result",
          "data": {
            "text/plain": [
              "([1, 2, 3, 4], [2, 3, 3, 3])"
            ]
          },
          "metadata": {
            "tags": []
          },
          "execution_count": 16
        }
      ]
    },
    {
      "cell_type": "code",
      "metadata": {
        "colab": {
          "base_uri": "https://localhost:8080/"
        },
        "id": "nn_KzcKH1j6U",
        "outputId": "d2e47ab8-144f-4400-9865-ca99edcf310b"
      },
      "source": [
        "# CROSSOVER COM MÁSCARA\r\n",
        "def crossoverMascara(mae1, mae2):\r\n",
        "  n = len(mae1)\r\n",
        "  filha1 = [None] * n\r\n",
        "  filha2 = [None] * n\r\n",
        "\r\n",
        "  mascara = []\r\n",
        "  for i in range(n):\r\n",
        "    mascara.append(random.randint(0, 1))\r\n",
        "  \r\n",
        "  #print(\"MASCARA \" + str(mascara))\r\n",
        "  \r\n",
        "  for i in range(n):\r\n",
        "    if mascara[i] == 1:\r\n",
        "      filha1[i] = mae1[i]\r\n",
        "      filha2[i] = mae2[i]\r\n",
        "\r\n",
        "  for i in range(n):\r\n",
        "    #preenchendo filha1\r\n",
        "    j = 0\r\n",
        "    if mae2[i] not in filha1:\r\n",
        "      while filha1[j] != None:\r\n",
        "        j = j+1\r\n",
        "      filha1[j] = mae2[i]\r\n",
        "\r\n",
        "  for i in range(n):\r\n",
        "    #preenchendo filha2\r\n",
        "    j = 0\r\n",
        "    if mae1[i] not in filha2:\r\n",
        "      while filha2[j] != None:\r\n",
        "        j = j+1\r\n",
        "      filha2[j] = mae1[i]\r\n",
        "\r\n",
        "\r\n",
        "  return filha1, filha2\r\n",
        "\r\n",
        "crossoverMascara([1, 0, 3, 2], [3, 1, 2, 0])"
      ],
      "execution_count": 20,
      "outputs": [
        {
          "output_type": "execute_result",
          "data": {
            "text/plain": [
              "([3, 0, 1, 2], [0, 1, 3, 2])"
            ]
          },
          "metadata": {
            "tags": []
          },
          "execution_count": 20
        }
      ]
    },
    {
      "cell_type": "code",
      "metadata": {
        "colab": {
          "base_uri": "https://localhost:8080/"
        },
        "id": "yWaxGiiY39fF",
        "outputId": "746bd1a0-794d-45ac-82ad-de190978cf6b"
      },
      "source": [
        "def crossover_Binario(mae1, mae2):\r\n",
        "  n = len(mae1)\r\n",
        "  pontoCorte = random.randint(0, n-2) #ponto corte\r\n",
        "  #print(pontoCorte)\r\n",
        "\r\n",
        "  inicio1 = mae1[:pontoCorte+1]\r\n",
        "  final1 = mae2[pontoCorte+1:]\r\n",
        "  filha1 = inicio1 + final1\r\n",
        "\r\n",
        "  inicio2 = mae2[:pontoCorte+1] \r\n",
        "  final2 = mae1[pontoCorte+1:]\r\n",
        "  filha2 = inicio2 + final2\r\n",
        "\r\n",
        "\r\n",
        "  return filha1, filha2\r\n",
        "\r\n",
        "crossover_Binario('00001001', '01100011')"
      ],
      "execution_count": 31,
      "outputs": [
        {
          "output_type": "execute_result",
          "data": {
            "text/plain": [
              "('00001011', '01100001')"
            ]
          },
          "metadata": {
            "tags": []
          },
          "execution_count": 31
        }
      ]
    },
    {
      "cell_type": "markdown",
      "metadata": {
        "id": "n71WPwhDXvT4"
      },
      "source": [
        "<h3>e) Defina a função que faz a mutação em um dado indivíduo. (mutação)"
      ]
    },
    {
      "cell_type": "code",
      "metadata": {
        "colab": {
          "base_uri": "https://localhost:8080/"
        },
        "id": "kdRNJ5vF85Xr",
        "outputId": "7be22a46-170a-4f7c-a2d2-66cc87c9df1d"
      },
      "source": [
        "#Troca o aleatorio escolhido por quem tá do lado direito, se o aleatorio for o ultimo troca com o primeiro\r\n",
        "def mutacao(individuo):  #### EXISTEM OUTROS TIPOS DE MUTAÇÃO\r\n",
        "  n = len(individuo)\r\n",
        "  aleatorio = random.randint(0, n-1)\r\n",
        "  #print(aleatorio)\r\n",
        "\r\n",
        "  if (aleatorio == n-1):\r\n",
        "    aux = individuo[aleatorio]\r\n",
        "    individuo[aleatorio] = individuo[0]\r\n",
        "    individuo[0] = aux\r\n",
        "\r\n",
        "  else:\r\n",
        "    aux = individuo[aleatorio]\r\n",
        "    individuo[aleatorio] = individuo[aleatorio + 1]\r\n",
        "    individuo[aleatorio + 1] = aux\r\n",
        "\r\n",
        "  return individuo\r\n",
        "\r\n",
        "mutacao([1,2,3,4,5,6,7,8])"
      ],
      "execution_count": 21,
      "outputs": [
        {
          "output_type": "execute_result",
          "data": {
            "text/plain": [
              "[1, 2, 3, 4, 5, 7, 6, 8]"
            ]
          },
          "metadata": {
            "tags": []
          },
          "execution_count": 21
        }
      ]
    },
    {
      "cell_type": "code",
      "metadata": {
        "colab": {
          "base_uri": "https://localhost:8080/"
        },
        "id": "uV2FxZ6n0V8e",
        "outputId": "7ce45a00-c250-4900-abcf-c3d25dcee166"
      },
      "source": [
        "def mutacao_b(individuo): #segunda opção de mutação\r\n",
        "  n = len(individuo)\r\n",
        "  pos_aleatorio = random.randint(0, n-1)\r\n",
        "  #print(pos_aleatorio)\r\n",
        "\r\n",
        "  troca = random.randint(0, n-1)\r\n",
        "  #print(troca)\r\n",
        "  individuo[pos_aleatorio] = troca\r\n",
        "\r\n",
        "  return individuo\r\n",
        "\r\n",
        "b = mutacao_b([1,2,3,4,5,6,7,8])\r\n",
        "print(b)"
      ],
      "execution_count": 22,
      "outputs": [
        {
          "output_type": "stream",
          "text": [
            "[1, 6, 3, 4, 5, 6, 7, 8]\n"
          ],
          "name": "stdout"
        }
      ]
    },
    {
      "cell_type": "code",
      "metadata": {
        "colab": {
          "base_uri": "https://localhost:8080/",
          "height": 35
        },
        "id": "N0vnxPE30Ytx",
        "outputId": "c98aacba-ce1e-4530-879c-9cc1650a6188"
      },
      "source": [
        "def mutacao_Binario(individuo):\r\n",
        "  n = len(individuo)\r\n",
        "  aleatorio = random.randint(0, n-1)\r\n",
        "  #print(aleatorio)\r\n",
        "  aux = list(individuo)\r\n",
        "\r\n",
        "  #um cuidado extra para fazer a troca já que strings em python são imutáveis, logo transformo a string em lista, altero e retorno para string\r\n",
        "  if individuo[aleatorio] == '1':\r\n",
        "    aux[aleatorio] = '0'\r\n",
        "    individuo = \"\".join(aux)\r\n",
        "  else:\r\n",
        "    aux[aleatorio] = '1'\r\n",
        "    individuo = \"\".join(aux)\r\n",
        "  \r\n",
        "  return individuo\r\n",
        "\r\n",
        "mutacao_Binario('11011111')"
      ],
      "execution_count": 23,
      "outputs": [
        {
          "output_type": "execute_result",
          "data": {
            "application/vnd.google.colaboratory.intrinsic+json": {
              "type": "string"
            },
            "text/plain": [
              "'11001111'"
            ]
          },
          "metadata": {
            "tags": []
          },
          "execution_count": 23
        }
      ]
    },
    {
      "cell_type": "markdown",
      "metadata": {
        "id": "seR9BWQV3EnK"
      },
      "source": [
        "<h2>4 - Algoritmo Genético Básico"
      ]
    },
    {
      "cell_type": "markdown",
      "metadata": {
        "id": "DRoTfLpNYVVe"
      },
      "source": [
        "<h2>a) Implemente o algoritmo genético básico. Sua implementação deve ter como parâmetros de entrada:\r\n",
        "\r\n",
        "* Tamanho da população\r\n",
        "* Número de gerações\r\n",
        "* Probabilidade de Crossover\r\n",
        "* Probabilidade de Mutação\r\n",
        "* Utilização de Elitismo: no elitismo, uma cópia do melhor indivíduo da geração Pi−1 é passada para a geração Pi, sem passar pelos operadores.\r\n",
        "\r\n",
        "\r\n",
        "<h2>A saída do programa deve ser composta por 2 gráficos:\r\n",
        "\r\n",
        "* geração × função de adaptação do melhor indivíduo da geração\r\n",
        "* geração × média da função de adaptação dos indivíduos da geração\r\n",
        "\r\n",
        "<h2>e o melhor indivíduo da última geração e o valor da sua função de adaptação."
      ]
    },
    {
      "cell_type": "code",
      "metadata": {
        "colab": {
          "base_uri": "https://localhost:8080/"
        },
        "id": "QcU5ucnRKXPq",
        "outputId": "1680e0b9-ab09-40a1-c720-445a5fe566e4"
      },
      "source": [
        "def achaMelhorIndividuo(populacao):\r\n",
        "  n = len(populacao)\r\n",
        "  melhor = populacao[0]\r\n",
        "  melhor_atq = avaliaAtaques(melhor)\r\n",
        "  \r\n",
        "  #achar a quantidade de ataques de um tabuleiro \r\n",
        "  #ver quem tem menos ataques (mais perto da solução)\r\n",
        "  #quem tiver menos ataques, calcular a funca de fitness\r\n",
        "  for i in range(1, n):\r\n",
        "    aux = avaliaAtaques(populacao[i])\r\n",
        "    if melhor_atq > aux:\r\n",
        "      melhor_atq = aux\r\n",
        "      melhor = populacao[i]\r\n",
        "  \r\n",
        "  melhor_f = funcaoFitness(melhor)\r\n",
        "\r\n",
        "  return melhor, melhor_f\r\n",
        "\r\n",
        "pop = geraPopulacao(6, 4)\r\n",
        "achaMelhorIndividuo(pop)"
      ],
      "execution_count": 24,
      "outputs": [
        {
          "output_type": "execute_result",
          "data": {
            "text/plain": [
              "([3, 0, 2, 1], 5.0)"
            ]
          },
          "metadata": {
            "tags": []
          },
          "execution_count": 24
        }
      ]
    },
    {
      "cell_type": "code",
      "metadata": {
        "colab": {
          "base_uri": "https://localhost:8080/"
        },
        "id": "YeaRYxiP0ml6",
        "outputId": "83fd03cb-a6c6-457f-f605-4874200e5a8d"
      },
      "source": [
        "def achaMelhorIndividuo_Binario(populacao, tam_tabuleiro):\r\n",
        "  n = len(populacao)\r\n",
        "  melhor = populacao[0]\r\n",
        "  populacao_decimal = transformaBinparaDecimal(populacao, tam_tabuleiro)\r\n",
        "  melhor_decimal = populacao_decimal[0]\r\n",
        "  melhor_atq =avaliaAtaques(populacao_decimal[0])\r\n",
        "\r\n",
        "  for i in range(1, n):\r\n",
        "    aux = avaliaAtaques(populacao_decimal[i])\r\n",
        "    if melhor_atq > aux:\r\n",
        "      melhor_atq = aux\r\n",
        "      melhor = populacao[i]\r\n",
        "      melhor_decimal = populacao_decimal[i]\r\n",
        "    \r\n",
        "  melhor_f = funcaoFitness(melhor_decimal)\r\n",
        "\r\n",
        "  return melhor, melhor_f\r\n",
        "\r\n",
        "pop = geraPopulacao_Binario(6, 4)\r\n",
        "achaMelhorIndividuo_Binario(pop, 4)"
      ],
      "execution_count": 28,
      "outputs": [
        {
          "output_type": "execute_result",
          "data": {
            "text/plain": [
              "('01110110', 4.0)"
            ]
          },
          "metadata": {
            "tags": []
          },
          "execution_count": 28
        }
      ]
    },
    {
      "cell_type": "code",
      "metadata": {
        "id": "jPDl34Y929Cb",
        "colab": {
          "base_uri": "https://localhost:8080/",
          "height": 624
        },
        "outputId": "ac1f7b46-7683-477b-bef6-9890e10446bf"
      },
      "source": [
        "def genetico(tam_populacao, max_geracoes, probCrossover, probMutacao, elitismo):\r\n",
        "  n = 4\r\n",
        "  populacao = geraPopulacao(tam_populacao, n)\r\n",
        "  geracao = 0\r\n",
        "  #print(populacao)\r\n",
        "\r\n",
        "  x_geracao = [geracao]\r\n",
        "  y_media = []\r\n",
        "  y_melhorF = []\r\n",
        "  \r\n",
        "  if elitismo == False:\r\n",
        "\r\n",
        "    melhor, melhor_f = achaMelhorIndividuo(populacao)\r\n",
        "    y_melhorF.append(melhor_f)\r\n",
        "\r\n",
        "    while geracao <= max_geracoes:\r\n",
        "      #print(\"POPULACAO\" + str(populacao))\r\n",
        "      # FAZ A SELEÇÃO\r\n",
        "      pop_inter1 = selecao(populacao)\r\n",
        "      #print(\"Pop inter1\" + str(pop_inter1))\r\n",
        "\r\n",
        "      #FAZ O CROSSOVER na populacao intermedária e retorna uma nova pop intermediária\r\n",
        "      pop_inter2 = [] #vai armazenar o que veio do crossover\r\n",
        "      while len(pop_inter1) > 0:\r\n",
        "        aux1 = random.randint(0, len(pop_inter1)-1) #sorteio as mães\r\n",
        "        mae1 = pop_inter1[aux1] \r\n",
        "        pop_inter1.pop(aux1) #já retiro para não ter chance de sortear o mesmo duas vezes\r\n",
        "\r\n",
        "        aux2 = random.randint(0, len(pop_inter1)-1)\r\n",
        "        mae2 = pop_inter1[aux2] \r\n",
        "        pop_inter1.pop(aux2)\r\n",
        "        \r\n",
        "        probCalculada = random.uniform(0, 1)\r\n",
        "        if probCalculada <= probCrossover: #se for menor ou igual sofre o crossover\r\n",
        "          filha1, filha2 = crossover(mae1, mae2)\r\n",
        "          pop_inter2.append(filha1)\r\n",
        "          pop_inter2.append(filha2)\r\n",
        "        else:\r\n",
        "          pop_inter2.append(mae1) #se não sofreu corssover copia\r\n",
        "          pop_inter2.append(mae2)\r\n",
        "      \r\n",
        "      #print(\"Pop inter2\" + str(pop_inter2))\r\n",
        "      #FAZ MUTAÇÃO NA pop intermediária e retorna a nova geração\r\n",
        "      nova_geracao = []\r\n",
        "      for i in range(len(pop_inter2)): #ver quem vai sofrer mutacao\r\n",
        "        probCalculada = random.uniform(0, 1)\r\n",
        "        if probCalculada <= probMutacao:\r\n",
        "          novo_individuo = mutacao(pop_inter2[i])\r\n",
        "          #novo_individuo = mutacao_b(pop_inter2[i])\r\n",
        "          nova_geracao.append(novo_individuo)\r\n",
        "        else:\r\n",
        "          nova_geracao.append(pop_inter2[i])\r\n",
        "      \r\n",
        "      #CALCULAR A MEDIA\r\n",
        "      t, soma_total = roletaViciada(populacao)\r\n",
        "      media_pop = soma_total/tam_populacao\r\n",
        "      y_media.append(media_pop)\r\n",
        "      t, soma_total_nova = roletaViciada(nova_geracao)\r\n",
        "      media_nova = soma_total_nova/tam_populacao\r\n",
        "\r\n",
        "      '''\r\n",
        "      delta = media_nova - media_pop\r\n",
        "      #print(delta)\r\n",
        "      if delta < 0: #se delta for negativo, significa que a média da pop atual é melhor\r\n",
        "        print(\"delta < 0\")\r\n",
        "        break\r\n",
        "      \r\n",
        "      elif delta <= 0.11: #se a diferença entre as médias for menor que ou igual a 5\r\n",
        "        print(\"delta <= 0.01\")\r\n",
        "        #print(\"NOVA GERACAO\" + str(nova_geracao))\r\n",
        "        populacao = nova_geracao #chegamos a uma geracao interessante\r\n",
        "        geracao = geracao + 1\r\n",
        "        x_geracao.append(geracao)\r\n",
        "        melhor, melhor_f = achaMelhorIndividuo(populacao)\r\n",
        "        y_melhorF.append(melhor_f)\r\n",
        "        y_media.append(media_nova)\r\n",
        "        break\r\n",
        "  \r\n",
        "      else:\r\n",
        "        print(\"Proxima geracao\")\r\n",
        "        #print(\"NOVA GERACAO\" + str(nova_geracao))\r\n",
        "        populacao = nova_geracao\r\n",
        "        geracao = geracao + 1\r\n",
        "        x_geracao.append(geracao)\r\n",
        "        melhor, melhor_f = achaMelhorIndividuo(populacao)\r\n",
        "        y_melhorF.append(melhor_f)\r\n",
        "      '''\r\n",
        "      populacao = nova_geracao\r\n",
        "      geracao = geracao + 1\r\n",
        "      x_geracao.append(geracao)\r\n",
        "      melhor, melhor_f = achaMelhorIndividuo(populacao)\r\n",
        "      y_melhorF.append(melhor_f)\r\n",
        "    \r\n",
        "    y_media.append(media_nova)\r\n",
        "\r\n",
        "  else:\r\n",
        "    \r\n",
        "    while geracao < max_geracoes:\r\n",
        "      #print(\"POPULACAO INICIO \" + str(populacao))\r\n",
        "      nova_geracao = []\r\n",
        "      melhor, melhor_f = achaMelhorIndividuo(populacao)\r\n",
        "      #print(\"MELHOR \" + str(melhor) + \"FITNESS \" + str(melhor_f))\r\n",
        "      nova_geracao.append(melhor) #ocupamos um espaço na nova geração, sendo que nova geração tem no máximo tam_populacao\r\n",
        "      #print(\"NOVA GERACAO INICIO \" + str(nova_geracao))\r\n",
        "      y_melhorF.append(melhor_f)\r\n",
        "\r\n",
        "      # FAZ A SELEÇÃO\r\n",
        "      pop_inter1 = []\r\n",
        "      pop_inter1 = selecao(populacao)\r\n",
        "      #print(\"POP INTER1: \" + str(pop_inter1))\r\n",
        "      #print(\"Pop inter1\" + str(pop_inter1))\r\n",
        "\r\n",
        "      #FAZ O CROSSOVER na populacao intermedária e retorna uma nova pop intermediária\r\n",
        "      pop_inter2 = [] #vai armazenar o que veio do crossover\r\n",
        "      while len(pop_inter1) > 0:\r\n",
        "        aux1 = random.randint(0, len(pop_inter1)-1) #sorteio as mães\r\n",
        "        mae1 = pop_inter1[aux1].copy() \r\n",
        "        pop_inter1.pop(aux1) #já retiro para não ter chance de sortear o mesmo duas vezes\r\n",
        "\r\n",
        "        aux2 = random.randint(0, len(pop_inter1)-1)\r\n",
        "        mae2 = pop_inter1[aux2].copy()\r\n",
        "        pop_inter1.pop(aux2)\r\n",
        "        \r\n",
        "        probCalculada = random.uniform(0, 1)\r\n",
        "        if probCalculada <= probCrossover: #se for menor ou igual sofre o crossover\r\n",
        "          filha1, filha2 = crossover(mae1, mae2)\r\n",
        "          pop_inter2.append(filha1)\r\n",
        "          pop_inter2.append(filha2)\r\n",
        "        else:\r\n",
        "          pop_inter2.append(mae1) #se não sofreu corssover copia\r\n",
        "          pop_inter2.append(mae2)\r\n",
        "      \r\n",
        "      #print(\"Pop inter2\" + str(pop_inter2))\r\n",
        "      #FAZ MUTAÇÃO NA pop intermediária e retorna a nova geração\r\n",
        "      pop_inter3 = []\r\n",
        "      for i in range(len(pop_inter2)): #ver quem vai sofrer mutacao\r\n",
        "        probCalculada = random.uniform(0, 1)\r\n",
        "        novo_individuo = []\r\n",
        "        if probCalculada <= probMutacao:\r\n",
        "          novo_individuo = mutacao(pop_inter2[i])\r\n",
        "          #novo_individuo = mutacao_b(pop_inter2[i])\r\n",
        "          pop_inter3.append(novo_individuo)\r\n",
        "        else:\r\n",
        "          pop_inter3.append(pop_inter2[i])\r\n",
        "\r\n",
        "      #pop_inter3 tem todo mundo mutado ou não\r\n",
        "      #print(\"POP INTER 3 \" + str(pop_inter3))\r\n",
        "      for i in range(tam_populacao):\r\n",
        "        if i == tam_populacao - 2: #caso seja o último espaço vago em geração\r\n",
        "          #print(\"ULTIMO\")\r\n",
        "          penultimo = funcaoFitness(pop_inter3[-2])\r\n",
        "          ultimo = funcaoFitness(pop_inter3[-1])\r\n",
        "          if penultimo > ultimo:\r\n",
        "            nova_geracao.append(pop_inter3[-2])\r\n",
        "          else:\r\n",
        "            nova_geracao.append(pop_inter3[-1])\r\n",
        "          break\r\n",
        "        else: #caso não seja o último\r\n",
        "          #print('NÃO TO NO ULTIMO')\r\n",
        "          nova_geracao.append(pop_inter3[i])\r\n",
        "\r\n",
        "        #print(\"NOVA GERACAO \" + str(nova_geracao))\r\n",
        "      \r\n",
        "      #CALCULAR A MEDIA\r\n",
        "      t, soma_total = roletaViciada(populacao)\r\n",
        "      media_pop = soma_total/tam_populacao\r\n",
        "      y_media.append(media_pop)\r\n",
        "      t, soma_total_nova = roletaViciada(nova_geracao)\r\n",
        "      media_nova = soma_total_nova/tam_populacao\r\n",
        "\r\n",
        "      populacao = nova_geracao.copy()\r\n",
        "      #print(\"POP NOVA \" + str(populacao))\r\n",
        "      geracao = geracao + 1\r\n",
        "      x_geracao.append(geracao)\r\n",
        "      #print(\"---------------------------------------------------------------------------------------------\")\r\n",
        "    \r\n",
        "    y_melhorF.append(melhor_f)\r\n",
        "    y_media.append(media_nova)\r\n",
        "      \r\n",
        "\r\n",
        "  ## PLOTANDO O GRÁFICO 1\r\n",
        "  plt.plot(x_geracao, y_melhorF) \r\n",
        "  plt.xlabel('Geração')  \r\n",
        "  plt.ylabel('Função de adaptação do melhor indivíduo da geração') \r\n",
        "  plt.title('Geração X Função de adaptação melhor indivíduo') \r\n",
        "  plt.show()\r\n",
        "\r\n",
        "  ## PLOTANDO O GRÁFICO 2\r\n",
        "  plt.plot(x_geracao, y_media) \r\n",
        "  plt.xlabel('Geração')  \r\n",
        "  plt.ylabel('Média da função de adaptação dos indivíduos da geração') \r\n",
        "  plt.title('Geração X Média') \r\n",
        "  plt.show()\r\n",
        "\r\n",
        "  #print(x_geracao)\r\n",
        "  #print(y_melhorF)\r\n",
        "  #print(\"GERACAO \" + str(geracao))\r\n",
        "  return melhor, melhor_f\r\n",
        "\r\n",
        "sucesso = 0\r\n",
        "for tentativa in range(1):\r\n",
        "  melhor, melhor_f = genetico(100, 500, 0.85, 0.02, True)\r\n",
        "  if melhor_f == 6.0:\r\n",
        "    sucesso = sucesso+1\r\n",
        "\r\n",
        "print(\"SUCESSOS \" + str(sucesso))"
      ],
      "execution_count": 29,
      "outputs": [
        {
          "output_type": "display_data",
          "data": {
            "image/png": "[encoded data removed]",
            "text/plain": [
              "<Figure size 432x288 with 1 Axes>"
            ]
          },
          "metadata": {
            "tags": [],
            "needs_background": "light"
          }
        },
        {
          "output_type": "display_data",
          "data": {
            "image/png": "[encoded data removed]",
            "text/plain": [
              "<Figure size 432x288 with 1 Axes>"
            ]
          },
          "metadata": {
            "tags": [],
            "needs_background": "light"
          }
        },
        {
          "output_type": "stream",
          "text": [
            "SUCESSOS 1\n"
          ],
          "name": "stdout"
        }
      ]
    },
    {
      "cell_type": "code",
      "metadata": {
        "colab": {
          "base_uri": "https://localhost:8080/",
          "height": 624
        },
        "id": "rUvDyBy50x7T",
        "outputId": "73630c0d-c4f6-423b-90c0-6ab1c4ede1a8"
      },
      "source": [
        "def genetico_Binario(tam_populacao, max_geracoes, probCrossover, probMutacao, elitismo):\r\n",
        "  n = 4\r\n",
        "  populacao = geraPopulacao_Binario(tam_populacao, n)\r\n",
        "  geracao = 0\r\n",
        "  #print(populacao)\r\n",
        "\r\n",
        "  x_geracao = [geracao]\r\n",
        "  y_media = []\r\n",
        "  y_melhorF = []\r\n",
        "\r\n",
        "  if elitismo == False:\r\n",
        "    melhor, melhor_f = achaMelhorIndividuo_Binario(populacao, n)\r\n",
        "    y_melhorF.append(melhor_f)\r\n",
        "\r\n",
        "    while geracao <= max_geracoes:\r\n",
        "      pop_inter1 = selecao_Binario(populacao, n)\r\n",
        "      pop_inter2 = []\r\n",
        "\r\n",
        "      while len(pop_inter1) > 0:\r\n",
        "        aux1 = random.randint(0, len(pop_inter1)-1)\r\n",
        "        mae1 = pop_inter1[aux1]\r\n",
        "        pop_inter1.pop(aux1)\r\n",
        "\r\n",
        "        aux2 = random.randint(0, len(pop_inter1)-1)\r\n",
        "        mae2 = pop_inter1[aux2]\r\n",
        "        pop_inter1.pop(aux2)\r\n",
        "\r\n",
        "        probCalculada = random.uniform(0,1)\r\n",
        "        if probCalculada <= probCrossover:  # se for menor ou igual sofre o crossover\r\n",
        "          filha1, filha2 = crossover(mae1, mae2)\r\n",
        "          pop_inter2.append(filha1)\r\n",
        "          pop_inter2.append(filha2)\r\n",
        "\r\n",
        "        else:\r\n",
        "          pop_inter2.append(mae1)  # se não sofreu corssover copia\r\n",
        "          pop_inter2.append(mae2) \r\n",
        "        \r\n",
        "      #FAZ A MUTAÇÃO\r\n",
        "      nova_geracao = []\r\n",
        "      for i in range(len(pop_inter2)):\r\n",
        "        probCalculada = random.uniform(0, 1)\r\n",
        "        if probCalculada <= probMutacao:\r\n",
        "          novo_individuo = mutacao_Binario(pop_inter2[i])\r\n",
        "          nova_geracao.append(novo_individuo)\r\n",
        "        else:\r\n",
        "          nova_geracao.append(pop_inter2[i])\r\n",
        "        \r\n",
        "      #CALCULA A MEDIA\r\n",
        "      populacao_decimal = transformaBinparaDecimal(populacao, n)\r\n",
        "      nova_geracao_decimal = transformaBinparaDecimal(nova_geracao, n)\r\n",
        "      t, soma_total = roletaViciada(populacao_decimal)\r\n",
        "      media_pop = soma_total / tam_populacao\r\n",
        "      y_media.append(media_pop)\r\n",
        "      t, soma_total_nova = roletaViciada(nova_geracao_decimal)\r\n",
        "      media_nova = soma_total_nova / tam_populacao\r\n",
        "\r\n",
        "      populacao = nova_geracao\r\n",
        "      geracao = geracao + 1\r\n",
        "      x_geracao.append(geracao)\r\n",
        "      melhor, melhor_f = achaMelhorIndividuo_Binario(populacao, n)\r\n",
        "      y_melhorF.append(melhor_f)\r\n",
        "      \r\n",
        "    y_media.append(media_nova)\r\n",
        "    \r\n",
        "  #COM ELITISMO\r\n",
        "  else:\r\n",
        "    while geracao < max_geracoes:\r\n",
        "      nova_geracao = []\r\n",
        "      melhor, melhor_f = achaMelhorIndividuo_Binario(populacao, n)\r\n",
        "      nova_geracao.append(melhor)\r\n",
        "      y_melhorF.append(melhor_f)\r\n",
        "\r\n",
        "      pop_inter1 = selecao_Binario(populacao, n)\r\n",
        "      pop_inter2 = []\r\n",
        "\r\n",
        "      #FAZ O CROSSOVER\r\n",
        "      while len(pop_inter1) > 0:\r\n",
        "        aux1 = random.randint(0, len(pop_inter1)-1)\r\n",
        "        mae1 = pop_inter1[aux1]\r\n",
        "        pop_inter1.pop(aux1)\r\n",
        "\r\n",
        "        aux2 = random.randint(0, len(pop_inter1)-1)\r\n",
        "        mae2 = pop_inter1[aux2]\r\n",
        "        pop_inter1.pop(aux2)\r\n",
        "\r\n",
        "        probCalculada = random.uniform(0, 1)\r\n",
        "        if probCalculada <= probCrossover:\r\n",
        "          filha1, filha2 = crossover_Binario(mae1, mae2)\r\n",
        "          pop_inter2.append(filha1)\r\n",
        "          pop_inter2.append(filha2)\r\n",
        "        else:\r\n",
        "          pop_inter2.append(mae1)\r\n",
        "          pop_inter2.append(mae2)\r\n",
        "      \r\n",
        "      #FAZ A MUTAÇÃO\r\n",
        "      pop_inter3 = []\r\n",
        "      for i in range(len(pop_inter2)):\r\n",
        "        probCalculada = random.uniform(0, 1)\r\n",
        "        if probCalculada <= probMutacao:\r\n",
        "          novo_individuo = mutacao_Binario(pop_inter2[i])\r\n",
        "          pop_inter3.append(novo_individuo)\r\n",
        "        else:\r\n",
        "          pop_inter3.append(pop_inter2[i])\r\n",
        "      \r\n",
        "      #adiciona na nova geração, testando para ver se tem espaço\r\n",
        "      pop_interDecimal = transformaBinparaDecimal(pop_inter3, n)\r\n",
        "      for i in range(tam_populacao):\r\n",
        "        if i == tam_populacao - 2:  # caso seja o último espaço vago em geração\r\n",
        "          #print(\"ULTIMO\")\r\n",
        "          penultimo = funcaoFitness(pop_interDecimal[-2])\r\n",
        "          ultimo = funcaoFitness(pop_interDecimal[-1])\r\n",
        "          if penultimo > ultimo:\r\n",
        "            nova_geracao.append(pop_inter3[-2])\r\n",
        "          else:\r\n",
        "            nova_geracao.append(pop_inter3[-1])\r\n",
        "          break\r\n",
        "        else:  # caso não seja o último\r\n",
        "          #print('NÃO TO NO ULTIMO')\r\n",
        "          nova_geracao.append(pop_inter3[i])\r\n",
        "      \r\n",
        "\r\n",
        "      populacao_decimal = transformaBinparaDecimal(populacao, n)\r\n",
        "      nova_geracao_decimal = transformaBinparaDecimal(nova_geracao, n)\r\n",
        "      t, soma_total = roletaViciada(populacao_decimal)\r\n",
        "      media_pop = soma_total / tam_populacao\r\n",
        "      y_media.append(media_pop)\r\n",
        "      t, soma_total_nova = roletaViciada(nova_geracao_decimal)\r\n",
        "      media_nova = soma_total_nova / tam_populacao\r\n",
        "\r\n",
        "      populacao = nova_geracao.copy()\r\n",
        "      geracao = geracao + 1\r\n",
        "      x_geracao.append(geracao)\r\n",
        "    \r\n",
        "    y_melhorF.append(melhor_f)\r\n",
        "    y_media.append(media_nova)\r\n",
        "\r\n",
        "      \r\n",
        "  ## PLOTANDO O GRÁFICO 1\r\n",
        "  plt.plot(x_geracao, y_melhorF)\r\n",
        "  plt.xlabel('Geração')\r\n",
        "  plt.ylabel('Função de adaptação do melhor indivíduo da geração')\r\n",
        "  plt.title('Geração X Função de adaptação melhor indivíduo')\r\n",
        "  plt.show()\r\n",
        "\r\n",
        "  ## PLOTANDO O GRÁFICO 2\r\n",
        "  plt.plot(x_geracao, y_media)\r\n",
        "  plt.xlabel('Geração')\r\n",
        "  plt.ylabel('Média da função de adaptação dos indivíduos da geração')\r\n",
        "  plt.title('Geração X Média')\r\n",
        "  plt.show()\r\n",
        "  \r\n",
        "\r\n",
        "  return melhor, melhor_f\r\n",
        "\r\n",
        "sucesso = 0\r\n",
        "for tentativa in range(1):\r\n",
        "  melhor, melhor_f = genetico_Binario(100, 200, 0.95, 0.2, True)\r\n",
        "  if melhor_f == 6.0:\r\n",
        "    sucesso = sucesso+1\r\n",
        "\r\n",
        "print(\"SUCESSOS \" + str(sucesso))"
      ],
      "execution_count": 33,
      "outputs": [
        {
          "output_type": "display_data",
          "data": {
            "image/png": "[encoded data removed]",
            "text/plain": [
              "<Figure size 432x288 with 1 Axes>"
            ]
          },
          "metadata": {
            "tags": [],
            "needs_background": "light"
          }
        },
        {
          "output_type": "display_data",
          "data": {
            "image/png": "[encoded data removed]",
            "text/plain": [
              "<Figure size 432x288 with 1 Axes>"
            ]
          },
          "metadata": {
            "tags": [],
            "needs_background": "light"
          }
        },
        {
          "output_type": "stream",
          "text": [
            "SUCESSOS 1\n"
          ],
          "name": "stdout"
        }
      ]
    },
    {
      "cell_type": "markdown",
      "metadata": {
        "id": "4F45syi8ZuGG"
      },
      "source": [
        "<h2>5 - Utilizando diferentes valores para os parâmetros de entrada, diferentes representações de indivíduos e diferentes tamanhos de tabuleiro (4,8,16,32), compare e discuta os resultados obtidos."
      ]
    },
    {
      "cell_type": "markdown",
      "metadata": {
        "id": "iKAq9xJZ02QC"
      },
      "source": [
        "Link para o [Google Sheets](https://docs.google.com/spreadsheets/d/1axdvzWmageNpcpAxOB7_Wjjz30wYLRf1CfoS5vACOIY/edit?usp=sharing)\r\n",
        "\r\n",
        "\r\n",
        "**ressaltar que as mutações no binário e no decimal são diferentes**<br>\r\n",
        "**chega um ponto que subir o valor da mutação volta a fazer o número de sucessos cair**\r\n",
        "\r\n",
        "A partir do tabuleiro 8x8 ficou cada vez dificil encontrar um caso que encontre a solução, além de que aumentando os parâmetros deora ainda mais para chegar a um resultado. Com isso, ficou inviável realizar os testes para 16x16 e 32x32."
      ]
    }
  ]
}