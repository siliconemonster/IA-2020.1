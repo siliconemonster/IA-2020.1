{
  "nbformat": 4,
  "nbformat_minor": 0,
  "metadata": {
    "colab": {
      "name": "Algoritmo_Genetico.ipynb",
      "provenance": [],
      "include_colab_link": true
    },
    "kernelspec": {
      "name": "python3",
      "display_name": "Python 3"
    }
  },
  "cells": [
    {
      "cell_type": "markdown",
      "metadata": {
        "id": "view-in-github",
        "colab_type": "text"
      },
      "source": [
        "<a href=\"https://colab.research.google.com/github/siliconemonster/IA-2020.1/blob/main/Algoritmo_Genetico.ipynb\" target=\"_parent\"><img src=\"https://colab.research.google.com/assets/colab-badge.svg\" alt=\"Open In Colab\"/></a>"
      ]
    },
    {
      "cell_type": "code",
      "metadata": {
        "id": "t37IR2eR7m2D"
      },
      "source": [
        "import numpy as np\r\n",
        "import random"
      ],
      "execution_count": 2,
      "outputs": []
    },
    {
      "cell_type": "code",
      "metadata": {
        "colab": {
          "base_uri": "https://localhost:8080/"
        },
        "id": "P6NHgZ_u4dCK",
        "outputId": "7cf1d245-9cf5-4a8d-bcc3-c29ab66c7ad1"
      },
      "source": [
        "def geraTabuleiro(n):\r\n",
        "  tabuleiro = []\r\n",
        "\r\n",
        "  for x in range(n):\r\n",
        "    posicaoRainha = random.randint(1, n)\r\n",
        "    tabuleiro.append(posicaoRainha)\r\n",
        "\r\n",
        "  return tabuleiro\r\n",
        "\r\n",
        "geraTabuleiro(4)"
      ],
      "execution_count": 9,
      "outputs": [
        {
          "output_type": "execute_result",
          "data": {
            "text/plain": [
              "[4, 3, 4, 1]"
            ]
          },
          "metadata": {
            "tags": []
          },
          "execution_count": 9
        }
      ]
    },
    {
      "cell_type": "code",
      "metadata": {
        "colab": {
          "base_uri": "https://localhost:8080/"
        },
        "id": "62DtKCnZBm9Y",
        "outputId": "652c6028-398b-4a8c-9f90-8ba658af7670"
      },
      "source": [
        "def avaliaAtaques(tabuleiro):\r\n",
        "  n = len(tabuleiro)\r\n",
        "  ataques = 0\r\n",
        "\r\n",
        "  for i in range(n-1): # caso esteja na mesma coluna\r\n",
        "    for j in range(i+1, n):\r\n",
        "      if (tabuleiro[i] == tabuleiro[j]):\r\n",
        "        ataques = ataques + 1\r\n",
        "\r\n",
        "  for i in range(n-1): # caso esteja na mesma diagonal. Para baixo e para cima, respectivamente\r\n",
        "    for j in range(i+1, n):\r\n",
        "      if ((tabuleiro[i] == tabuleiro[j] + (j - i)) or (tabuleiro[i] == tabuleiro[j] - (j - i))):\r\n",
        "        ataques = ataques + 1\r\n",
        "\r\n",
        "  #print(\"Número de ataques:\")\r\n",
        "  #print(ataques)\r\n",
        "  return ataques\r\n",
        "\r\n",
        "tabuleiro = geraTabuleiro(4)\r\n",
        "avaliaAtaques(tabuleiro)"
      ],
      "execution_count": 11,
      "outputs": [
        {
          "output_type": "execute_result",
          "data": {
            "text/plain": [
              "2"
            ]
          },
          "metadata": {
            "tags": []
          },
          "execution_count": 11
        }
      ]
    },
    {
      "cell_type": "code",
      "metadata": {
        "colab": {
          "base_uri": "https://localhost:8080/"
        },
        "id": "fb88lDPE6PDL",
        "outputId": "b1026e39-d9c1-4cb1-b096-340f724d1c7f"
      },
      "source": [
        "def geraPopulacao(numIndividuos, n):\r\n",
        "  populacao = []\r\n",
        "\r\n",
        "  for i in range(numIndividuos):\r\n",
        "    populacao.append(geraTabuleiro(n)) ##### FALTA LIDAR COM ELEMENTOS REPETIDOS\r\n",
        "\r\n",
        "  return populacao\r\n",
        "\r\n",
        "geraPopulacao(10, 4)"
      ],
      "execution_count": 12,
      "outputs": [
        {
          "output_type": "execute_result",
          "data": {
            "text/plain": [
              "[[2, 4, 1, 1],\n",
              " [1, 3, 1, 1],\n",
              " [1, 2, 1, 1],\n",
              " [3, 3, 1, 4],\n",
              " [1, 2, 4, 1],\n",
              " [2, 4, 1, 1],\n",
              " [4, 1, 2, 3],\n",
              " [4, 1, 2, 2],\n",
              " [1, 4, 4, 4],\n",
              " [1, 1, 1, 4]]"
            ]
          },
          "metadata": {
            "tags": []
          },
          "execution_count": 12
        }
      ]
    },
    {
      "cell_type": "code",
      "metadata": {
        "id": "nD7iYoOl8nJ4",
        "colab": {
          "base_uri": "https://localhost:8080/"
        },
        "outputId": "937dfe7d-01cc-425c-b3a9-b8600a69bb38"
      },
      "source": [
        "def crossover(pai1, pai2):\r\n",
        "  filhos = []\r\n",
        "  n = len(pai1)\r\n",
        "  pontoCorte = random.randint(0, n-2) #ponto corte\r\n",
        "  print(pontoCorte)\r\n",
        "\r\n",
        "  inicio1 = pai1[:pontoCorte+1]\r\n",
        "  final1 = pai2[pontoCorte+1:]\r\n",
        "  filho1 = inicio1 + final1\r\n",
        "  filhos.append(filho1)\r\n",
        "\r\n",
        "  inicio2 = pai2[:pontoCorte+1] \r\n",
        "  final2 = pai1[pontoCorte+1:]\r\n",
        "  filho2 = inicio2 + final2\r\n",
        "  filhos.append(filho2)\r\n",
        "\r\n",
        "\r\n",
        "  return filhos\r\n",
        "\r\n",
        "crossover([1, 2, 3, 3], [2, 3, 3, 4])"
      ],
      "execution_count": 13,
      "outputs": [
        {
          "output_type": "stream",
          "text": [
            "0\n"
          ],
          "name": "stdout"
        },
        {
          "output_type": "execute_result",
          "data": {
            "text/plain": [
              "[[1, 3, 3, 4], [2, 2, 3, 3]]"
            ]
          },
          "metadata": {
            "tags": []
          },
          "execution_count": 13
        }
      ]
    },
    {
      "cell_type": "code",
      "metadata": {
        "colab": {
          "base_uri": "https://localhost:8080/"
        },
        "id": "kdRNJ5vF85Xr",
        "outputId": "1bcbbfe9-ef08-4be1-bb70-eb76ef874119"
      },
      "source": [
        "#Troca o aleatorio escolhido por quem tá do lado direito, se o aleatorio for o ultimo troca com o primeiro\r\n",
        "def mutacao(individuo):  #### EXISTEM OUTROS TIPOS DE MUTAÇÃO\r\n",
        "  n = len(individuo)\r\n",
        "  aleatorio = random.randint(0, n-1)\r\n",
        "  #print(aleatorio)\r\n",
        "\r\n",
        "  if (aleatorio == n-1):\r\n",
        "    aux = individuo[aleatorio]\r\n",
        "    individuo[aleatorio] = individuo[0]\r\n",
        "    individuo[0] = aux\r\n",
        "\r\n",
        "  else:\r\n",
        "    aux = individuo[aleatorio]\r\n",
        "    individuo[aleatorio] = individuo[aleatorio + 1]\r\n",
        "    individuo[aleatorio + 1] = aux\r\n",
        "\r\n",
        "  return individuo\r\n",
        "\r\n",
        "mutacao([1,2,3,4,5,6,7,8])"
      ],
      "execution_count": 15,
      "outputs": [
        {
          "output_type": "execute_result",
          "data": {
            "text/plain": [
              "[1, 2, 3, 4, 5, 7, 6, 8]"
            ]
          },
          "metadata": {
            "tags": []
          },
          "execution_count": 15
        }
      ]
    },
    {
      "cell_type": "markdown",
      "metadata": {
        "id": "seR9BWQV3EnK"
      },
      "source": [
        "O algoritmo genético:"
      ]
    },
    {
      "cell_type": "code",
      "metadata": {
        "id": "jPDl34Y929Cb",
        "colab": {
          "base_uri": "https://localhost:8080/",
          "height": 195
        },
        "outputId": "212fc1d8-7c71-4cbf-ca54-cf6eb1c239cb"
      },
      "source": [
        "def genetico(populacao, probCrossover, probMutacao):\r\n",
        "\r\n",
        "  novaPopulacao = []\r\n",
        "\r\n",
        "  while True:\r\n",
        "    for i in range(len(populacao)):\r\n",
        "      aux1 = random.randint(0, (len(populacao)))\r\n",
        "      aux2 = random.randint(0, (len(populacao)))\r\n",
        "      pai1 = populacao[aux1]\r\n",
        "      pai2 = populacao[aux2] ##### FALTA GARANTIR QUE PAIS NÃO SÃO REPETIDOS\r\n",
        "      \r\n",
        "      probCalculada = random.uniform(0, probCrossover)\r\n",
        "      if probCalculada < probCrossover:\r\n",
        "        filho = crossover(pai1, pai2)\r\n",
        "      \r\n",
        "      probCalculada = random.uniform(0, probMutacao)\r\n",
        "      if (probCalculada <= probMutacao):\r\n",
        "        filho = mutacao(filho)\r\n",
        "      novaPopulacao[i] = filho\r\n",
        "    \r\n",
        "    populacao = novaPopulacao # acho que isso está errado\r\n",
        "    if (condicoesDeParada): # determinar condições de parada\r\n",
        "      return melhorElemento # determinar quem é o melhor elemento\r\n",
        "\r\n",
        "populacao = geraPopulacao(10, 4)\r\n",
        "genetico(populacao)"
      ],
      "execution_count": 8,
      "outputs": [
        {
          "output_type": "error",
          "ename": "TypeError",
          "evalue": "ignored",
          "traceback": [
            "\u001b[0;31m---------------------------------------------------------------------------\u001b[0m",
            "\u001b[0;31mTypeError\u001b[0m                                 Traceback (most recent call last)",
            "\u001b[0;32m<ipython-input-8-c1862fcd1eac>\u001b[0m in \u001b[0;36m<module>\u001b[0;34m()\u001b[0m\n\u001b[1;32m     24\u001b[0m \u001b[0;34m\u001b[0m\u001b[0m\n\u001b[1;32m     25\u001b[0m \u001b[0mpopulacao\u001b[0m \u001b[0;34m=\u001b[0m \u001b[0mgeraPopulacao\u001b[0m\u001b[0;34m(\u001b[0m\u001b[0;36m10\u001b[0m\u001b[0;34m,\u001b[0m \u001b[0;36m4\u001b[0m\u001b[0;34m)\u001b[0m\u001b[0;34m\u001b[0m\u001b[0;34m\u001b[0m\u001b[0m\n\u001b[0;32m---> 26\u001b[0;31m \u001b[0mgenetico\u001b[0m\u001b[0;34m(\u001b[0m\u001b[0mpopulacao\u001b[0m\u001b[0;34m)\u001b[0m\u001b[0;34m\u001b[0m\u001b[0;34m\u001b[0m\u001b[0m\n\u001b[0m",
            "\u001b[0;31mTypeError\u001b[0m: genetico() missing 2 required positional arguments: 'probCrossover' and 'probMutacao'"
          ]
        }
      ]
    },
    {
      "cell_type": "code",
      "metadata": {
        "id": "Cuhk-aqN15HQ",
        "colab": {
          "base_uri": "https://localhost:8080/"
        },
        "outputId": "4ee12ed8-0910-4a6b-f201-c523943435d3"
      },
      "source": [
        "def roletaViciada(populacao):\r\n",
        "  n = len(populacao)\r\n",
        "  roleta = []\r\n",
        "\r\n",
        "  for i in range(n):\r\n",
        "    #print(populacao[i])\r\n",
        "    r = avaliaAtaques(populacao[i])\r\n",
        "    #print(r)\r\n",
        "    roleta.append(r)\r\n",
        "  \r\n",
        "  total = sum(roleta)\r\n",
        "  \r\n",
        "  #print(roleta, total)\r\n",
        "  return roleta, total\r\n",
        "\r\n",
        "roletaViciada(geraPopulacao(10, 4))"
      ],
      "execution_count": 17,
      "outputs": [
        {
          "output_type": "execute_result",
          "data": {
            "text/plain": [
              "([3, 5, 4, 3, 5, 2, 2, 6, 4, 3], 37)"
            ]
          },
          "metadata": {
            "tags": []
          },
          "execution_count": 17
        }
      ]
    },
    {
      "cell_type": "code",
      "metadata": {
        "colab": {
          "base_uri": "https://localhost:8080/"
        },
        "id": "FeUDk_Y_6wFz",
        "outputId": "95d71a1a-5a3a-4132-d330-9e3dfb7280f0"
      },
      "source": [
        "def selecao(populacao):\r\n",
        "  #print(\"Populacao Inicial\" + str(populacao))\r\n",
        "  n = len(populacao)\r\n",
        "  populacao_int = []\r\n",
        "\r\n",
        "  roleta, total = roletaViciada(populacao)\r\n",
        "\r\n",
        "  for i in range(n):\r\n",
        "    sorteado = random.randint(0, total)\r\n",
        "    #print(\"Sorteado \" + str(sorteado))\r\n",
        "    esquerda = 0\r\n",
        "    direita = roleta[0]\r\n",
        "    j = 0\r\n",
        "    while(True):\r\n",
        "      if sorteado == 0:\r\n",
        "        populacao_int.append(populacao[j])\r\n",
        "        break\r\n",
        "      elif sorteado > esquerda and sorteado <= direita:\r\n",
        "        populacao_int.append(populacao[j])\r\n",
        "        break\r\n",
        "      esquerda = direita\r\n",
        "      direita = direita + roleta[j+1]\r\n",
        "      j = j + 1\r\n",
        "  \r\n",
        "  return populacao_int\r\n",
        "\r\n",
        "selecao(geraPopulacao(6, 4))"
      ],
      "execution_count": 18,
      "outputs": [
        {
          "output_type": "execute_result",
          "data": {
            "text/plain": [
              "[[2, 4, 3, 3],\n",
              " [2, 1, 1, 2],\n",
              " [2, 3, 1, 4],\n",
              " [2, 2, 2, 3],\n",
              " [2, 1, 1, 2],\n",
              " [2, 1, 1, 2]]"
            ]
          },
          "metadata": {
            "tags": []
          },
          "execution_count": 18
        }
      ]
    }
  ]
}