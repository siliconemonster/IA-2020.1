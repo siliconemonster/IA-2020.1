{
  "nbformat": 4,
  "nbformat_minor": 0,
  "metadata": {
    "colab": {
      "name": "Algoritmo_Genetico.ipynb",
      "provenance": [],
      "include_colab_link": true
    },
    "kernelspec": {
      "name": "python3",
      "display_name": "Python 3"
    }
  },
  "cells": [
    {
      "cell_type": "markdown",
      "metadata": {
        "id": "view-in-github",
        "colab_type": "text"
      },
      "source": [
        "<a href=\"https://colab.research.google.com/github/siliconemonster/IA-2020.1/blob/main/Algoritmo_Genetico.ipynb\" target=\"_parent\"><img src=\"https://colab.research.google.com/assets/colab-badge.svg\" alt=\"Open In Colab\"/></a>"
      ]
    },
    {
      "cell_type": "markdown",
      "metadata": {
        "id": "cCOIhvIrVvn-"
      },
      "source": [
        "**<h1> ALGORITMO GENÉTICO**\r\n"
      ]
    },
    {
      "cell_type": "markdown",
      "metadata": {
        "id": "6SlymY5BV3Fh"
      },
      "source": [
        "Aline Freire de Rezende - 116110571<br>\r\n",
        "Larissa Monteiro da Fonseca Galeno - 116083017"
      ]
    },
    {
      "cell_type": "code",
      "metadata": {
        "id": "t37IR2eR7m2D"
      },
      "source": [
        "import numpy as np\r\n",
        "import random\r\n",
        "import math\r\n",
        "import matplotlib.pyplot as plt "
      ],
      "execution_count": 1,
      "outputs": []
    },
    {
      "cell_type": "markdown",
      "metadata": {
        "id": "OYx-24cEUioU"
      },
      "source": [
        "<h2>1 - Modelagem do Indivíduo"
      ]
    },
    {
      "cell_type": "markdown",
      "metadata": {
        "id": "A7JsZ08FUnZZ"
      },
      "source": [
        "<h3>a) Utilize a mesma representação de tabuleiro usada na tarefa do Hill Climbing."
      ]
    },
    {
      "cell_type": "markdown",
      "metadata": {
        "id": "1k_c8RE0VhNv"
      },
      "source": [
        "No caso de um tabuleiro 4x4, como o caso acima, temos um vetor de 1x4, vazio. Só pode haver uma rainha por coluna, então a coluna em que existir uma, será representada pelo número da linha.<br>\r\n",
        "**Por exemplo:**<br>\r\n",
        "Um tabuleiro do tipo: <br>\r\n",
        "[0 &nbsp; 0 &nbsp; 0 &nbsp; 0]<br>\r\n",
        "[R &nbsp; 0 &nbsp; 0 &nbsp; R]<br>\r\n",
        "[0 &nbsp; R &nbsp; 0 &nbsp; 0]<br>\r\n",
        "[0 &nbsp; 0 &nbsp; R &nbsp; 0]<br>\r\n",
        "onde 0 representa onde está vazio, e R representa onde há uma rainha; na modelagem em questão, é representado por: <br>\r\n",
        "[2 &nbsp; 3 &nbsp; 4 &nbsp; 2]"
      ]
    },
    {
      "cell_type": "markdown",
      "metadata": {
        "id": "lhYP_YmIVjK1"
      },
      "source": [
        "<h3>b) Proponha uma representação binária para o tabuleiro."
      ]
    },
    {
      "cell_type": "markdown",
      "metadata": {
        "id": "GcBDP9Y0WPx6"
      },
      "source": [
        "<h2>2 - Geração População Inicial"
      ]
    },
    {
      "cell_type": "markdown",
      "metadata": {
        "id": "iiqNdMtDWLwX"
      },
      "source": [
        "<h3>a) Defina uma função que dado o tamanho n de uma população, gera aleatoriamente um conjunto de n indivíduos. A função deve funcionar para os dois tipos de indivíduos definidos no item anterior."
      ]
    },
    {
      "cell_type": "code",
      "metadata": {
        "colab": {
          "base_uri": "https://localhost:8080/"
        },
        "id": "P6NHgZ_u4dCK",
        "outputId": "80aa0eb2-b8bf-439a-9324-2e0acaa0e9ca"
      },
      "source": [
        "def geraTabuleiro(n):\r\n",
        "  tabuleiro = []\r\n",
        "\r\n",
        "  for x in range(n):\r\n",
        "    posicaoRainha = random.randint(1, n) \r\n",
        "    tabuleiro.append(posicaoRainha)\r\n",
        "\r\n",
        "  return tabuleiro\r\n",
        "\r\n",
        "geraTabuleiro(4)"
      ],
      "execution_count": 17,
      "outputs": [
        {
          "output_type": "execute_result",
          "data": {
            "text/plain": [
              "[3, 3, 3, 1]"
            ]
          },
          "metadata": {
            "tags": []
          },
          "execution_count": 17
        }
      ]
    },
    {
      "cell_type": "code",
      "metadata": {
        "colab": {
          "base_uri": "https://localhost:8080/",
          "height": 35
        },
        "id": "_bbcXhvl2vnr",
        "outputId": "2c080afb-1c22-456c-a206-50409217033c"
      },
      "source": [
        "def geraTabuleiro_Binario(n):\r\n",
        "  tabuleiro = ''\r\n",
        "  tam_numero = int(math.log(n, 2))\r\n",
        "  #print(tam_numero)\r\n",
        "\r\n",
        "  for i in range(n):\r\n",
        "    for j in range(tam_numero):\r\n",
        "      num = random.randint(0,1)\r\n",
        "      tabuleiro = str(num) + tabuleiro #concatena a string\r\n",
        "  \r\n",
        "  return tabuleiro\r\n",
        "\r\n",
        "geraTabuleiro_Binario(4)"
      ],
      "execution_count": 18,
      "outputs": [
        {
          "output_type": "execute_result",
          "data": {
            "application/vnd.google.colaboratory.intrinsic+json": {
              "type": "string"
            },
            "text/plain": [
              "'11101010'"
            ]
          },
          "metadata": {
            "tags": []
          },
          "execution_count": 18
        }
      ]
    },
    {
      "cell_type": "code",
      "metadata": {
        "colab": {
          "base_uri": "https://localhost:8080/"
        },
        "id": "fb88lDPE6PDL",
        "outputId": "70c366e3-f63d-4e18-eae9-c29d3065b70d"
      },
      "source": [
        "def geraPopulacao(numIndividuos, n):\r\n",
        "  populacao = []\r\n",
        "\r\n",
        "  for i in range(numIndividuos):\r\n",
        "    populacao.append(geraTabuleiro(n)) ##### FALTA LIDAR COM ELEMENTOS REPETIDOS\r\n",
        "\r\n",
        "  return populacao\r\n",
        "\r\n",
        "geraPopulacao(10, 4)"
      ],
      "execution_count": 21,
      "outputs": [
        {
          "output_type": "execute_result",
          "data": {
            "text/plain": [
              "[[2, 3, 4, 4],\n",
              " [3, 1, 4, 4],\n",
              " [3, 4, 3, 4],\n",
              " [4, 4, 3, 3],\n",
              " [4, 3, 1, 4],\n",
              " [2, 3, 4, 4],\n",
              " [2, 1, 2, 3],\n",
              " [2, 2, 4, 3],\n",
              " [4, 4, 2, 4],\n",
              " [3, 4, 1, 1]]"
            ]
          },
          "metadata": {
            "tags": []
          },
          "execution_count": 21
        }
      ]
    },
    {
      "cell_type": "code",
      "metadata": {
        "colab": {
          "base_uri": "https://localhost:8080/"
        },
        "id": "NzUosF9-2slT",
        "outputId": "f6caf00b-2075-44cf-f31d-07b7dd9acab2"
      },
      "source": [
        "def geraPopulacao_Binario(numIndividuos, n):\r\n",
        "  populacao =[]\r\n",
        "  for i in range(numIndividuos):\r\n",
        "    populacao.append(geraTabuleiro_Binario(n))\r\n",
        "  \r\n",
        "  return populacao\r\n",
        "\r\n",
        "geraPopulacao_Binario(10, 4)"
      ],
      "execution_count": 20,
      "outputs": [
        {
          "output_type": "execute_result",
          "data": {
            "text/plain": [
              "['00010000',\n",
              " '10110001',\n",
              " '11100001',\n",
              " '11000100',\n",
              " '11110000',\n",
              " '11001011',\n",
              " '00110110',\n",
              " '11111000',\n",
              " '01010100',\n",
              " '11010100']"
            ]
          },
          "metadata": {
            "tags": []
          },
          "execution_count": 20
        }
      ]
    },
    {
      "cell_type": "markdown",
      "metadata": {
        "id": "QX9dkrx4W3pm"
      },
      "source": [
        "<h2>3 - Operadores: Para os dois tipos de indivíduos definidos acima:"
      ]
    },
    {
      "cell_type": "markdown",
      "metadata": {
        "id": "yx4qFt-3W9lp"
      },
      "source": [
        "<h3>a) Defina a função de adaptação usada para avaliar um tabuleiro T."
      ]
    },
    {
      "cell_type": "code",
      "metadata": {
        "colab": {
          "base_uri": "https://localhost:8080/"
        },
        "id": "62DtKCnZBm9Y",
        "outputId": "e5d1b06d-5a42-46e4-9502-36e3dbd756c6"
      },
      "source": [
        "def avaliaAtaques(tabuleiro):\r\n",
        "  n = len(tabuleiro)\r\n",
        "  ataques = 0\r\n",
        "\r\n",
        "  for i in range(n-1): # caso esteja na mesma coluna\r\n",
        "    for j in range(i+1, n):\r\n",
        "      if (tabuleiro[i] == tabuleiro[j]):\r\n",
        "        ataques = ataques + 1\r\n",
        "\r\n",
        "  for i in range(n-1): # caso esteja na mesma diagonal. Para baixo e para cima, respectivamente\r\n",
        "    for j in range(i+1, n):\r\n",
        "      if ((tabuleiro[i] == tabuleiro[j] + (j - i)) or (tabuleiro[i] == tabuleiro[j] - (j - i))):\r\n",
        "        ataques = ataques + 1\r\n",
        "\r\n",
        "  #print(\"Número de ataques:\")\r\n",
        "  #print(ataques)\r\n",
        "  return ataques\r\n",
        "\r\n",
        "tabuleiro = geraTabuleiro(4)\r\n",
        "avaliaAtaques(tabuleiro)"
      ],
      "execution_count": 22,
      "outputs": [
        {
          "output_type": "execute_result",
          "data": {
            "text/plain": [
              "3"
            ]
          },
          "metadata": {
            "tags": []
          },
          "execution_count": 22
        }
      ]
    },
    {
      "cell_type": "code",
      "metadata": {
        "colab": {
          "base_uri": "https://localhost:8080/"
        },
        "id": "aMgiy62FI6bv",
        "outputId": "56229faa-7203-411e-c6fa-fb845f5f8c96"
      },
      "source": [
        "def funcaoFitness(tabuleiro):\r\n",
        "  qtd_rainhas = len(tabuleiro)\r\n",
        "  max_ataques = math.factorial(qtd_rainhas)/(math.factorial(qtd_rainhas - 2) * 2) #combinação para saber o total de ataques\r\n",
        "  #print(max_ataques)\r\n",
        "  num_ataques = avaliaAtaques(tabuleiro)\r\n",
        "  #inverte a quantidade de ataques\r\n",
        "  valorFitness = max_ataques - num_ataques\r\n",
        "\r\n",
        "  return valorFitness\r\n",
        "\r\n",
        "  \r\n",
        "tabuleiro = geraTabuleiro(4)\r\n",
        "funcaoFitness(tabuleiro)"
      ],
      "execution_count": 24,
      "outputs": [
        {
          "output_type": "execute_result",
          "data": {
            "text/plain": [
              "5.0"
            ]
          },
          "metadata": {
            "tags": []
          },
          "execution_count": 24
        }
      ]
    },
    {
      "cell_type": "markdown",
      "metadata": {
        "id": "dvIK6ZhVXMT_"
      },
      "source": [
        "<h3>b) Defina a função que dada uma população P, constrói a roleta viciada correspondente a P.\r\n"
      ]
    },
    {
      "cell_type": "code",
      "metadata": {
        "id": "Cuhk-aqN15HQ",
        "colab": {
          "base_uri": "https://localhost:8080/"
        },
        "outputId": "c4901fb4-d087-4da7-83ff-091aee1fed52"
      },
      "source": [
        "def roletaViciada(populacao):\r\n",
        "  #print(populacao)\r\n",
        "  n = len(populacao)\r\n",
        "  roleta = []\r\n",
        "\r\n",
        "  for i in range(n):\r\n",
        "    #print(populacao[i])\r\n",
        "    valor = funcaoFitness(populacao[i])\r\n",
        "    #print(valor)\r\n",
        "    roleta.append(valor)\r\n",
        "  \r\n",
        "  total = sum(roleta)\r\n",
        "  \r\n",
        "  #print(roleta, total)\r\n",
        "  return roleta, total\r\n",
        "\r\n",
        "roletaViciada(geraPopulacao(6, 4))"
      ],
      "execution_count": 25,
      "outputs": [
        {
          "output_type": "execute_result",
          "data": {
            "text/plain": [
              "([2.0, 4.0, 3.0, 4.0, 3.0, 4.0], 20.0)"
            ]
          },
          "metadata": {
            "tags": []
          },
          "execution_count": 25
        }
      ]
    },
    {
      "cell_type": "markdown",
      "metadata": {
        "id": "58pQ7MXVXpYm"
      },
      "source": [
        "<h3>c) Defina a função que dada uma população P constrói uma população intermediária correspondente a P. (seleção)\r\n"
      ]
    },
    {
      "cell_type": "code",
      "metadata": {
        "colab": {
          "base_uri": "https://localhost:8080/"
        },
        "id": "FeUDk_Y_6wFz",
        "outputId": "81b8d071-e79b-40a2-e0f1-0bb1c940461e"
      },
      "source": [
        "def selecao(populacao):\r\n",
        "  #print(\"Populacao Inicial\" + str(populacao))\r\n",
        "  n = len(populacao)\r\n",
        "  populacao_int = []\r\n",
        "\r\n",
        "  roleta, total = roletaViciada(populacao)\r\n",
        "\r\n",
        "  for i in range(n):\r\n",
        "    sorteado = random.randint(0, total)\r\n",
        "    #print(\"Sorteado \" + str(sorteado))\r\n",
        "    esquerda = 0\r\n",
        "    direita = roleta[0]\r\n",
        "    j = 0\r\n",
        "    while(True):\r\n",
        "      if sorteado == 0:\r\n",
        "        populacao_int.append(populacao[j])\r\n",
        "        break\r\n",
        "      elif sorteado > esquerda and sorteado <= direita:\r\n",
        "        populacao_int.append(populacao[j])\r\n",
        "        break\r\n",
        "      esquerda = direita\r\n",
        "      direita = direita + roleta[j+1]\r\n",
        "      j = j + 1\r\n",
        "  \r\n",
        "  return populacao_int\r\n",
        "\r\n",
        "selecao(geraPopulacao(6, 4))"
      ],
      "execution_count": 26,
      "outputs": [
        {
          "output_type": "execute_result",
          "data": {
            "text/plain": [
              "[[2, 2, 1, 1],\n",
              " [1, 4, 2, 4],\n",
              " [3, 1, 3, 4],\n",
              " [2, 1, 1, 4],\n",
              " [1, 4, 2, 4],\n",
              " [2, 2, 1, 1]]"
            ]
          },
          "metadata": {
            "tags": []
          },
          "execution_count": 26
        }
      ]
    },
    {
      "cell_type": "code",
      "metadata": {
        "colab": {
          "base_uri": "https://localhost:8080/"
        },
        "id": "ELxdkumC2oR6",
        "outputId": "e15a7fd2-5333-4f52-ac52-7b59b24797e6"
      },
      "source": [
        "def selecao_Binario(populacao, tam_tabuleiro): #populacao tá em binário\r\n",
        "  print(\"Populacao Inicial\" + str(populacao))\r\n",
        "  n = len(populacao)\r\n",
        "  #tam_individuo = len(populacao[0])\r\n",
        "  #tam_tabuleiro = 4\r\n",
        "  tam_numero = int(math.log(tam_tabuleiro, 2))\r\n",
        "  populacao_decimal = []\r\n",
        "  populacao_int = []\r\n",
        "  aux = ''\r\n",
        "\r\n",
        "  #transoformar populacao de binário para decimal\r\n",
        "  for i in range(n): #i representa em qual individuo da populacao eu to\r\n",
        "    tabuleiro_decimal = []\r\n",
        "    elemento = 0\r\n",
        "    for k in range(tam_tabuleiro):\r\n",
        "      aux = ''\r\n",
        "      for j in range(tam_numero):\r\n",
        "        aux = aux + populacao[i][elemento]\r\n",
        "        elemento = elemento + 1\r\n",
        "      num_decimal = int(aux, 2) #transforma de binário paradecimal\r\n",
        "      tabuleiro_decimal.append(num_decimal)\r\n",
        "    populacao_decimal.append(tabuleiro_decimal)\r\n",
        "  \r\n",
        "  print(populacao_decimal) \r\n",
        "\r\n",
        "\r\n",
        "  roleta, total = roletaViciada(populacao_decimal)\r\n",
        "  print(roleta)\r\n",
        "\r\n",
        "  for i in range(n):\r\n",
        "    sorteado = random.randint(0, total)\r\n",
        "    #print(\"Sorteado \" + str(sorteado))\r\n",
        "    esquerda = 0\r\n",
        "    direita = roleta[0]\r\n",
        "    j = 0\r\n",
        "    while True:\r\n",
        "      if sorteado == 0:\r\n",
        "        populacao_int.append(populacao[j])\r\n",
        "        break\r\n",
        "      elif sorteado > esquerda and sorteado <= direita:\r\n",
        "        populacao_int.append(populacao[j])\r\n",
        "        break\r\n",
        "      esquerda = direita\r\n",
        "      direita = direita + roleta[j+1]\r\n",
        "      j = j + 1\r\n",
        "  \r\n",
        "  return populacao_int\r\n",
        "\r\n",
        "selecao_Binario(geraPopulacao_Binario(6, 4), 4)"
      ],
      "execution_count": 27,
      "outputs": [
        {
          "output_type": "stream",
          "text": [
            "Populacao Inicial['10010001', '01100100', '11111110', '10100101', '01111001', '11011001']\n",
            "[[2, 1, 0, 1], [1, 2, 1, 0], [3, 3, 3, 2], [2, 2, 1, 1], [1, 3, 2, 1], [3, 1, 2, 1]]\n",
            "[1.0, 1.0, 2.0, 3.0, 2.0, 3.0]\n"
          ],
          "name": "stdout"
        },
        {
          "output_type": "execute_result",
          "data": {
            "text/plain": [
              "['10100101', '11011001', '11011001', '11011001', '10100101', '11111110']"
            ]
          },
          "metadata": {
            "tags": []
          },
          "execution_count": 27
        }
      ]
    },
    {
      "cell_type": "markdown",
      "metadata": {
        "id": "VctPk_0KXra0"
      },
      "source": [
        "<h3>d) Defina a função que faz o crossover entre dois indivíduos. (crossover)\r\n"
      ]
    },
    {
      "cell_type": "code",
      "metadata": {
        "id": "nD7iYoOl8nJ4",
        "colab": {
          "base_uri": "https://localhost:8080/"
        },
        "outputId": "fd8c359d-e4d4-4ec7-9d24-11bdde334eee"
      },
      "source": [
        "def crossover(mae1, mae2):\r\n",
        "  n = len(mae1)\r\n",
        "  pontoCorte = random.randint(0, n-2) #ponto corte\r\n",
        "  #print(pontoCorte)\r\n",
        "\r\n",
        "  inicio1 = mae1[:pontoCorte+1]\r\n",
        "  final1 = mae2[pontoCorte+1:]\r\n",
        "  filha1 = inicio1 + final1\r\n",
        "\r\n",
        "  inicio2 = mae2[:pontoCorte+1] \r\n",
        "  final2 = mae1[pontoCorte+1:]\r\n",
        "  filha2 = inicio2 + final2\r\n",
        "\r\n",
        "  return filha1, filha2\r\n",
        "\r\n",
        "crossover([1, 2, 3, 3], [2, 3, 3, 4])"
      ],
      "execution_count": 28,
      "outputs": [
        {
          "output_type": "execute_result",
          "data": {
            "text/plain": [
              "([1, 3, 3, 4], [2, 2, 3, 3])"
            ]
          },
          "metadata": {
            "tags": []
          },
          "execution_count": 28
        }
      ]
    },
    {
      "cell_type": "markdown",
      "metadata": {
        "id": "n71WPwhDXvT4"
      },
      "source": [
        "<h3>e) Defina a função que faz a mutação em um dado indivíduo. (mutação)"
      ]
    },
    {
      "cell_type": "code",
      "metadata": {
        "colab": {
          "base_uri": "https://localhost:8080/"
        },
        "id": "kdRNJ5vF85Xr",
        "outputId": "ae13b18c-386d-4a91-94ab-b38e3f8516d1"
      },
      "source": [
        "#Troca o aleatorio escolhido por quem tá do lado direito, se o aleatorio for o ultimo troca com o primeiro\r\n",
        "def mutacao(individuo):  #### EXISTEM OUTROS TIPOS DE MUTAÇÃO\r\n",
        "  n = len(individuo)\r\n",
        "  aleatorio = random.randint(0, n-1)\r\n",
        "  #print(aleatorio)\r\n",
        "\r\n",
        "  if (aleatorio == n-1):\r\n",
        "    aux = individuo[aleatorio]\r\n",
        "    individuo[aleatorio] = individuo[0]\r\n",
        "    individuo[0] = aux\r\n",
        "\r\n",
        "  else:\r\n",
        "    aux = individuo[aleatorio]\r\n",
        "    individuo[aleatorio] = individuo[aleatorio + 1]\r\n",
        "    individuo[aleatorio + 1] = aux\r\n",
        "\r\n",
        "  return individuo\r\n",
        "\r\n",
        "mutacao([1,2,3,4,5,6,7,8])"
      ],
      "execution_count": 29,
      "outputs": [
        {
          "output_type": "execute_result",
          "data": {
            "text/plain": [
              "[2, 1, 3, 4, 5, 6, 7, 8]"
            ]
          },
          "metadata": {
            "tags": []
          },
          "execution_count": 29
        }
      ]
    },
    {
      "cell_type": "markdown",
      "metadata": {
        "id": "seR9BWQV3EnK"
      },
      "source": [
        "<h2>4 - Algoritmo Genético Básico"
      ]
    },
    {
      "cell_type": "markdown",
      "metadata": {
        "id": "DRoTfLpNYVVe"
      },
      "source": [
        "<h2>a) Implemente o algoritmo genético básico. Sua implementação deve ter como parâmetros de entrada:\r\n",
        "\r\n",
        "* Tamanho da população\r\n",
        "* Número de gerações\r\n",
        "* Probabilidade de Crossover\r\n",
        "* Probabilidade de Mutação\r\n",
        "* Utilização de Elitismo: no elitismo, uma cópia do melhor indivíduo da geração Pi−1 é passada para a geração Pi, sem passar pelos operadores.\r\n",
        "\r\n",
        "\r\n",
        "<h2>A saída do programa deve ser composta por 2 gráficos:\r\n",
        "\r\n",
        "* geração × função de adaptação do melhor indivíduo da geração\r\n",
        "* geração × média da função de adaptação dos indivíduos da geração\r\n",
        "\r\n",
        "<h2>e o melhor indivíduo da última geração e o valor da sua função de adaptação."
      ]
    },
    {
      "cell_type": "code",
      "metadata": {
        "colab": {
          "base_uri": "https://localhost:8080/"
        },
        "id": "QcU5ucnRKXPq",
        "outputId": "ac0a529d-9cd6-439d-b6df-89859010aa76"
      },
      "source": [
        "def achaMelhorIndividuo(populacao):\r\n",
        "  n = len(populacao)\r\n",
        "  melhor = populacao[0]\r\n",
        "  melhor_atq = avaliaAtaques(melhor)\r\n",
        "  \r\n",
        "  #achar a quantidade de ataques de um tabuleiro \r\n",
        "  #ver quem tem menos ataques (mais perto da solução)\r\n",
        "  #quem tiver menos ataques, calcular a funca de fitness\r\n",
        "  for i in range(1, n):\r\n",
        "    aux = avaliaAtaques(populacao[i])\r\n",
        "    if melhor_atq > aux:\r\n",
        "      melhor_atq = aux\r\n",
        "      melhor = populacao[i]\r\n",
        "  \r\n",
        "  melhor_f = funcaoFitness(melhor)\r\n",
        "\r\n",
        "  return melhor, melhor_f\r\n",
        "\r\n",
        "pop = geraPopulacao(6, 4)\r\n",
        "achaMelhorIndividuo(pop)"
      ],
      "execution_count": 31,
      "outputs": [
        {
          "output_type": "execute_result",
          "data": {
            "text/plain": [
              "([1, 2, 2, 3], 3.0)"
            ]
          },
          "metadata": {
            "tags": []
          },
          "execution_count": 31
        }
      ]
    },
    {
      "cell_type": "code",
      "metadata": {
        "id": "jPDl34Y929Cb",
        "colab": {
          "base_uri": "https://localhost:8080/",
          "height": 661
        },
        "outputId": "a57ec3e6-f7c5-48df-8748-c78986daa52f"
      },
      "source": [
        "def genetico(tam_populacao, max_geracoes, probCrossover, probMutacao, elitismo):\r\n",
        "  n = 8\r\n",
        "  populacao = geraPopulacao(tam_populacao, n)\r\n",
        "  geracao = 0\r\n",
        "  print(populacao)\r\n",
        "\r\n",
        "  x_geracao = [geracao]\r\n",
        "  y_media = []\r\n",
        "  y_melhorF = []\r\n",
        "  \r\n",
        "  if elitismo == False:\r\n",
        "\r\n",
        "    melhor, melhor_f = achaMelhorIndividuo(populacao)\r\n",
        "    y_melhorF.append(melhor_f)\r\n",
        "\r\n",
        "    while geracao <= max_geracoes:\r\n",
        "      #print(\"POPULACAO\" + str(populacao))\r\n",
        "      # FAZ A SELEÇÃO\r\n",
        "      pop_inter1 = selecao(populacao)\r\n",
        "      #print(\"Pop inter1\" + str(pop_inter1))\r\n",
        "\r\n",
        "      #FAZ O CROSSOVER na populacao intermedária e retorna uma nova pop intermediária\r\n",
        "      pop_inter2 = [] #vai armazenar o que veio do crossover\r\n",
        "      while len(pop_inter1) > 0:\r\n",
        "        aux1 = random.randint(0, len(pop_inter1)-1) #sorteio as mães\r\n",
        "        mae1 = pop_inter1[aux1] \r\n",
        "        pop_inter1.pop(aux1) #já retiro para não ter chance de sortear o mesmo duas vezes\r\n",
        "\r\n",
        "        aux2 = random.randint(0, len(pop_inter1)-1)\r\n",
        "        mae2 = pop_inter1[aux2] \r\n",
        "        pop_inter1.pop(aux2)\r\n",
        "        \r\n",
        "        probCalculada = random.uniform(0, 1)\r\n",
        "        if probCalculada <= probCrossover: #se for menor ou igual sofre o crossover\r\n",
        "          filha1, filha2 = crossover(mae1, mae2)\r\n",
        "          pop_inter2.append(filha1)\r\n",
        "          pop_inter2.append(filha2)\r\n",
        "        else:\r\n",
        "          pop_inter2.append(mae1) #se não sofreu corssover copia\r\n",
        "          pop_inter2.append(mae2)\r\n",
        "      \r\n",
        "      #print(\"Pop inter2\" + str(pop_inter2))\r\n",
        "      #FAZ MUTAÇÃO NA pop intermediária e retorna a nova geração\r\n",
        "      nova_geracao = []\r\n",
        "      for i in range(len(pop_inter2)): #ver quem vai sofrer mutacao\r\n",
        "        probCalculada = random.uniform(0, 1)\r\n",
        "        if probCalculada <= probMutacao:\r\n",
        "          novo_individuo = mutacao(pop_inter2[i])\r\n",
        "          nova_geracao.append(novo_individuo)\r\n",
        "        else:\r\n",
        "          nova_geracao.append(pop_inter2[i])\r\n",
        "      \r\n",
        "      #CALCULAR A MEDIA\r\n",
        "      t, soma_total = roletaViciada(populacao)\r\n",
        "      media_pop = soma_total/tam_populacao\r\n",
        "      y_media.append(media_pop)\r\n",
        "      t, soma_total_nova = roletaViciada(nova_geracao)\r\n",
        "      media_nova = soma_total_nova/tam_populacao\r\n",
        "\r\n",
        "      '''\r\n",
        "      delta = media_nova - media_pop\r\n",
        "      #print(delta)\r\n",
        "      if delta < 0: #se delta for negativo, significa que a média da pop atual é melhor\r\n",
        "        print(\"delta < 0\")\r\n",
        "        break\r\n",
        "      \r\n",
        "      elif delta <= 0.11: #se a diferença entre as médias for menor que ou igual a 5\r\n",
        "        print(\"delta <= 0.01\")\r\n",
        "        #print(\"NOVA GERACAO\" + str(nova_geracao))\r\n",
        "        populacao = nova_geracao #chegamos a uma geracao interessante\r\n",
        "        geracao = geracao + 1\r\n",
        "        x_geracao.append(geracao)\r\n",
        "        melhor, melhor_f = achaMelhorIndividuo(populacao)\r\n",
        "        y_melhorF.append(melhor_f)\r\n",
        "        y_media.append(media_nova)\r\n",
        "        break\r\n",
        "  \r\n",
        "      else:\r\n",
        "        print(\"Proxima geracao\")\r\n",
        "        #print(\"NOVA GERACAO\" + str(nova_geracao))\r\n",
        "        populacao = nova_geracao\r\n",
        "        geracao = geracao + 1\r\n",
        "        x_geracao.append(geracao)\r\n",
        "        melhor, melhor_f = achaMelhorIndividuo(populacao)\r\n",
        "        y_melhorF.append(melhor_f)\r\n",
        "      '''\r\n",
        "      populacao = nova_geracao\r\n",
        "      geracao = geracao + 1\r\n",
        "      x_geracao.append(geracao)\r\n",
        "      melhor, melhor_f = achaMelhorIndividuo(populacao)\r\n",
        "      y_melhorF.append(melhor_f)\r\n",
        "    \r\n",
        "    y_media.append(media_nova)\r\n",
        "\r\n",
        "  else:\r\n",
        "    \r\n",
        "    while geracao < max_geracoes:\r\n",
        "      nova_geracao = []\r\n",
        "      melhor, melhor_f = achaMelhorIndividuo(populacao)\r\n",
        "      nova_geracao.append(melhor) #ocupamos um espaço na nova geração, sendo que nova geração tem no máximo tam_populacao\r\n",
        "      #print(\"NOVA GERACAO \" + str(nova_geracao))\r\n",
        "      y_melhorF.append(melhor_f)\r\n",
        "\r\n",
        "      # FAZ A SELEÇÃO\r\n",
        "      #pop_inter1 = []\r\n",
        "      pop_inter1 = selecao(populacao)\r\n",
        "      #print(\"POP INTER1: \" + str(pop_inter1))\r\n",
        "      #print(\"Pop inter1\" + str(pop_inter1))\r\n",
        "\r\n",
        "      #FAZ O CROSSOVER na populacao intermedária e retorna uma nova pop intermediária\r\n",
        "      pop_inter2 = [] #vai armazenar o que veio do crossover\r\n",
        "      while len(pop_inter1) > 0:\r\n",
        "        aux1 = random.randint(0, len(pop_inter1)-1) #sorteio as mães\r\n",
        "        mae1 = pop_inter1[aux1] \r\n",
        "        pop_inter1.pop(aux1) #já retiro para não ter chance de sortear o mesmo duas vezes\r\n",
        "\r\n",
        "        aux2 = random.randint(0, len(pop_inter1)-1)\r\n",
        "        mae2 = pop_inter1[aux2] \r\n",
        "        pop_inter1.pop(aux2)\r\n",
        "        \r\n",
        "        probCalculada = random.uniform(0, 1)\r\n",
        "        if probCalculada <= probCrossover: #se for menor ou igual sofre o crossover\r\n",
        "          filha1, filha2 = crossover(mae1, mae2)\r\n",
        "          pop_inter2.append(filha1)\r\n",
        "          pop_inter2.append(filha2)\r\n",
        "        else:\r\n",
        "          pop_inter2.append(mae1) #se não sofreu corssover copia\r\n",
        "          pop_inter2.append(mae2)\r\n",
        "      \r\n",
        "      #print(\"Pop inter2\" + str(pop_inter2))\r\n",
        "      #FAZ MUTAÇÃO NA pop intermediária e retorna a nova geração\r\n",
        "      pop_inter3 = []\r\n",
        "      for i in range(len(pop_inter2)): #ver quem vai sofrer mutacao\r\n",
        "        probCalculada = random.uniform(0, 1)\r\n",
        "        if probCalculada <= probMutacao:\r\n",
        "          novo_individuo = mutacao(pop_inter2[i])\r\n",
        "          pop_inter3.append(novo_individuo)\r\n",
        "        else:\r\n",
        "          pop_inter3.append(pop_inter2[i])\r\n",
        "\r\n",
        "      #pop_inter3 tem todo mundo mutado ou não\r\n",
        "      #print(\"POP INTER 3 \" + str(pop_inter3))\r\n",
        "      for i in range(tam_populacao):\r\n",
        "        if i == tam_populacao - 2: #caso seja o último espaço vago em geração\r\n",
        "          #print(\"ULTIMO\")\r\n",
        "          penultimo = funcaoFitness(pop_inter3[-2])\r\n",
        "          ultimo = funcaoFitness(pop_inter3[-1])\r\n",
        "          if penultimo > ultimo:\r\n",
        "            nova_geracao.append(pop_inter3[-2])\r\n",
        "          else:\r\n",
        "            nova_geracao.append(pop_inter3[-1])\r\n",
        "          break\r\n",
        "        else: #caso não seja o último\r\n",
        "          #print('NÃO TO NO ULTIMO')\r\n",
        "          nova_geracao.append(pop_inter3[i])\r\n",
        "\r\n",
        "        #print(\"NOVA GERACAO \" + str(nova_geracao))\r\n",
        "      \r\n",
        "      #CALCULAR A MEDIA\r\n",
        "      t, soma_total = roletaViciada(populacao)\r\n",
        "      media_pop = soma_total/tam_populacao\r\n",
        "      y_media.append(media_pop)\r\n",
        "      t, soma_total_nova = roletaViciada(nova_geracao)\r\n",
        "      media_nova = soma_total_nova/tam_populacao\r\n",
        "\r\n",
        "      populacao = nova_geracao\r\n",
        "      #print(\"POP NOVA \" + str(populacao))\r\n",
        "      geracao = geracao + 1\r\n",
        "      x_geracao.append(geracao)\r\n",
        "    \r\n",
        "    y_melhorF.append(melhor_f)\r\n",
        "    y_media.append(media_nova)\r\n",
        "      \r\n",
        "\r\n",
        "  ## PLOTANDO O GRÁFICO 1\r\n",
        "  plt.plot(x_geracao, y_melhorF) \r\n",
        "  plt.xlabel('Geração')  \r\n",
        "  plt.ylabel('Função de adaptação do melhor indivíduo da geração') \r\n",
        "  plt.title('Geração X Função de adaptação melhor indivíduo') \r\n",
        "  plt.show()\r\n",
        "\r\n",
        "  ## PLOTANDO O GRÁFICO 2\r\n",
        "  plt.plot(x_geracao, y_media) \r\n",
        "  plt.xlabel('Geração')  \r\n",
        "  plt.ylabel('Média da função de adaptação dos indivíduos da geração') \r\n",
        "  plt.title('Geração X Média') \r\n",
        "  plt.show()\r\n",
        "\r\n",
        "  #print(x_geracao)\r\n",
        "  #print(y_melhorF)\r\n",
        "  #print(\"GERACAO \" + str(geracao))\r\n",
        "  return melhor, melhor_f\r\n",
        "genetico(100, 100, 0.8, 0.01, True)\r\n"
      ],
      "execution_count": 32,
      "outputs": [
        {
          "output_type": "stream",
          "text": [
            "[[8, 6, 3, 1, 2, 6, 7, 4], [1, 3, 7, 5, 4, 4, 6, 4], [1, 5, 5, 2, 3, 7, 7, 6], [4, 5, 2, 2, 8, 3, 6, 6], [7, 5, 1, 2, 2, 5, 4, 1], [4, 7, 5, 2, 5, 2, 6, 6], [1, 3, 1, 1, 2, 7, 2, 8], [4, 2, 1, 8, 8, 1, 1, 4], [3, 3, 6, 2, 1, 4, 5, 1], [4, 7, 4, 7, 3, 4, 3, 8], [1, 7, 5, 1, 8, 1, 1, 4], [3, 5, 8, 4, 2, 4, 3, 8], [7, 3, 6, 7, 8, 4, 1, 3], [2, 1, 4, 5, 2, 5, 3, 3], [2, 8, 7, 2, 1, 4, 6, 8], [2, 6, 2, 8, 7, 8, 2, 6], [5, 1, 5, 4, 4, 7, 7, 4], [8, 1, 8, 6, 6, 5, 5, 4], [7, 3, 3, 6, 2, 6, 6, 5], [2, 3, 1, 8, 5, 2, 6, 5], [3, 1, 7, 5, 6, 4, 2, 1], [7, 7, 4, 5, 4, 3, 2, 8], [5, 8, 7, 5, 3, 4, 5, 2], [6, 7, 6, 5, 5, 8, 3, 4], [1, 3, 7, 4, 1, 7, 8, 3], [6, 8, 2, 3, 2, 7, 3, 2], [3, 6, 6, 4, 8, 4, 2, 7], [4, 6, 2, 5, 3, 2, 3, 3], [4, 1, 8, 8, 1, 8, 7, 1], [1, 2, 6, 4, 2, 6, 7, 6], [8, 1, 5, 4, 1, 1, 6, 3], [1, 6, 5, 6, 6, 4, 4, 8], [5, 3, 3, 2, 2, 7, 7, 1], [1, 1, 3, 6, 7, 3, 8, 4], [4, 7, 8, 6, 3, 1, 1, 6], [6, 6, 5, 3, 6, 7, 8, 3], [1, 5, 1, 3, 5, 1, 7, 6], [4, 7, 4, 7, 8, 1, 1, 2], [4, 4, 7, 7, 6, 3, 8, 5], [3, 8, 6, 6, 5, 6, 5, 3], [2, 4, 6, 6, 2, 1, 5, 8], [2, 2, 4, 7, 8, 6, 5, 6], [1, 5, 7, 2, 2, 6, 6, 3], [7, 3, 4, 3, 2, 7, 5, 8], [6, 4, 2, 3, 5, 2, 2, 2], [4, 7, 4, 4, 1, 5, 7, 3], [5, 3, 3, 2, 7, 5, 7, 8], [7, 4, 5, 5, 2, 3, 8, 6], [3, 6, 6, 3, 8, 7, 1, 4], [8, 4, 2, 7, 4, 5, 6, 4], [4, 8, 2, 6, 1, 4, 6, 3], [7, 2, 1, 1, 6, 3, 8, 5], [5, 8, 7, 4, 4, 3, 4, 4], [7, 2, 6, 8, 4, 2, 1, 2], [5, 2, 5, 1, 1, 8, 3, 2], [6, 7, 1, 2, 3, 8, 1, 4], [5, 5, 2, 1, 6, 2, 8, 7], [8, 8, 7, 1, 7, 4, 4, 8], [1, 6, 5, 7, 6, 5, 2, 5], [4, 4, 7, 2, 5, 6, 2, 8], [2, 3, 5, 5, 4, 5, 7, 4], [8, 8, 6, 5, 2, 2, 6, 4], [2, 2, 6, 7, 7, 4, 1, 1], [7, 8, 8, 3, 5, 2, 5, 1], [7, 2, 6, 1, 3, 4, 4, 7], [8, 4, 3, 5, 1, 1, 4, 1], [7, 3, 3, 5, 3, 1, 3, 5], [4, 8, 3, 1, 1, 7, 6, 6], [8, 3, 1, 8, 8, 2, 1, 7], [5, 2, 7, 8, 2, 2, 5, 5], [7, 3, 2, 7, 7, 8, 8, 3], [3, 1, 7, 8, 2, 6, 7, 8], [3, 5, 2, 7, 6, 4, 5, 5], [6, 4, 6, 8, 7, 5, 1, 3], [6, 1, 3, 4, 3, 3, 2, 3], [5, 2, 5, 4, 2, 3, 2, 1], [2, 3, 8, 6, 1, 1, 5, 6], [5, 1, 2, 8, 2, 1, 2, 5], [2, 2, 7, 4, 2, 8, 2, 6], [4, 1, 3, 1, 6, 5, 8, 2], [1, 4, 8, 8, 4, 2, 6, 4], [4, 8, 6, 4, 4, 2, 5, 5], [2, 4, 4, 6, 8, 1, 3, 8], [6, 7, 8, 8, 4, 1, 1, 6], [3, 5, 3, 2, 4, 3, 5, 6], [3, 6, 1, 4, 3, 1, 1, 1], [8, 6, 1, 7, 2, 4, 3, 8], [2, 2, 5, 2, 5, 8, 5, 5], [8, 4, 6, 1, 2, 4, 7, 5], [6, 3, 7, 4, 5, 6, 1, 4], [4, 1, 4, 8, 3, 1, 8, 5], [7, 3, 6, 4, 3, 3, 1, 3], [1, 7, 2, 6, 3, 7, 8, 7], [4, 1, 6, 4, 6, 2, 1, 7], [8, 1, 8, 5, 4, 2, 4, 2], [4, 8, 3, 1, 3, 1, 7, 3], [7, 6, 7, 8, 1, 4, 2, 1], [6, 2, 4, 7, 7, 3, 3, 2], [3, 4, 3, 5, 7, 5, 5, 3], [4, 4, 2, 2, 2, 1, 6, 5]]\n"
          ],
          "name": "stdout"
        },
        {
          "output_type": "display_data",
          "data": {
            "image/png": "[encoded data removed]",
            "text/plain": [
              "<Figure size 432x288 with 1 Axes>"
            ]
          },
          "metadata": {
            "tags": [],
            "needs_background": "light"
          }
        },
        {
          "output_type": "display_data",
          "data": {
            "image/png": "[encoded data removed]",
            "text/plain": [
              "<Figure size 432x288 with 1 Axes>"
            ]
          },
          "metadata": {
            "tags": [],
            "needs_background": "light"
          }
        },
        {
          "output_type": "execute_result",
          "data": {
            "text/plain": [
              "([8, 4, 7, 5, 2, 6, 1, 3], 27.0)"
            ]
          },
          "metadata": {
            "tags": []
          },
          "execution_count": 32
        }
      ]
    },
    {
      "cell_type": "markdown",
      "metadata": {
        "id": "j8H_iuKJK5BO"
      },
      "source": [
        ""
      ]
    },
    {
      "cell_type": "markdown",
      "metadata": {
        "id": "inWfdeOBK5Zy"
      },
      "source": [
        ""
      ]
    },
    {
      "cell_type": "markdown",
      "metadata": {
        "id": "fBb2boMpK5yr"
      },
      "source": [
        "Entrada sorteada: [[2, 3, 2, 3], [3, 1, 3, 2], [1, 3, 2, 1], [4, 1, 3, 4], [4, 4, 3, 2], [2, 1, 3, 2]]\r\n",
        "\r\n",
        "![image.png](data:image/png;base64,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)\r\n",
        "\r\n",
        "Exemplo de um caso que começou dando certo: [[2, 4, 1, 3], [1, 2, 1, 4], [4, 3, 3, 2], [2, 1, 1, 3], [1, 3, 3, 2], [1, 1, 3, 3]]\r\n",
        "\r\n",
        "![image.png](data:image/png;base64,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)\r\n",
        "\r\n",
        "\r\n",
        "\r\n",
        "Exemplo de um caso estranho (função de adaptação teve o comportamento contrário do esperado): [[5, 8, 1, 3, 7, 1, 8, 6], [6, 7, 5, 3, 3, 8, 1, 6], [8, 1, 1, 4, 2, 7, 5, 3], [1, 4, 4, 3, 3, 7, 3, 3], [3, 8, 7, 7, 2, 2, 7, 4], [5, 5, 4, 6, 6, 2, 4, 5]]\r\n",
        "\r\n",
        "![image.png](data:image/png;base64,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)"
      ]
    },
    {
      "cell_type": "markdown",
      "metadata": {
        "id": "4F45syi8ZuGG"
      },
      "source": [
        "<h2>5 - Utilizando diferentes valores para os parâmetros de entrada, diferentes representações de indivíduos e diferentes tamanhos de tabuleiro (4,8,16,32), compare e discuta os resultados obtidos."
      ]
    }
  ]
}