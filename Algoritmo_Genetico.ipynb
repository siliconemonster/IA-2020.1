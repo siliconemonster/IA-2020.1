{
  "nbformat": 4,
  "nbformat_minor": 0,
  "metadata": {
    "colab": {
      "name": "Algoritmo_Genetico.ipynb",
      "provenance": [],
      "authorship_tag": "ABX9TyPG1AWhzQ3Nx5yW8fSXNdqK",
      "include_colab_link": true
    },
    "kernelspec": {
      "name": "python3",
      "display_name": "Python 3"
    }
  },
  "cells": [
    {
      "cell_type": "markdown",
      "metadata": {
        "id": "view-in-github",
        "colab_type": "text"
      },
      "source": [
        "<a href=\"https://colab.research.google.com/github/siliconemonster/IA-2020.1/blob/main/Algoritmo_Genetico.ipynb\" target=\"_parent\"><img src=\"https://colab.research.google.com/assets/colab-badge.svg\" alt=\"Open In Colab\"/></a>"
      ]
    },
    {
      "cell_type": "code",
      "metadata": {
        "id": "t37IR2eR7m2D"
      },
      "source": [
        "import numpy as np\r\n",
        "import random"
      ],
      "execution_count": 5,
      "outputs": []
    },
    {
      "cell_type": "code",
      "metadata": {
        "colab": {
          "base_uri": "https://localhost:8080/"
        },
        "id": "P6NHgZ_u4dCK",
        "outputId": "ead95769-a638-4ac3-d612-0cd5964d2a6a"
      },
      "source": [
        "def geraTabuleiro(n):\r\n",
        "  tabuleiro = np.zeros(( n), dtype=int)\r\n",
        "  #print(tabuleiro)\r\n",
        "\r\n",
        "  for x in range(n):\r\n",
        "    posicaoRainha = random.randint(1, n)\r\n",
        "    #print(posicaoRainha)\r\n",
        "    tabuleiro[x] = posicaoRainha\r\n",
        "\r\n",
        "  #print(\"Tabuleiro Atual:\")\r\n",
        "  #print(tabuleiro)\r\n",
        "  return tabuleiro\r\n",
        "\r\n",
        "geraTabuleiro(4)"
      ],
      "execution_count": 10,
      "outputs": [
        {
          "output_type": "execute_result",
          "data": {
            "text/plain": [
              "array([3, 3, 1, 1])"
            ]
          },
          "metadata": {
            "tags": []
          },
          "execution_count": 10
        }
      ]
    },
    {
      "cell_type": "code",
      "metadata": {
        "colab": {
          "base_uri": "https://localhost:8080/"
        },
        "id": "62DtKCnZBm9Y",
        "outputId": "e17147dd-1bf0-4754-c6f7-4e322f446d94"
      },
      "source": [
        "def avaliaAtaques(tabuleiro):\r\n",
        "  n = len(tabuleiro)\r\n",
        "  ataques = 0\r\n",
        "\r\n",
        "  for i in range(n-1): # caso esteja na mesma coluna\r\n",
        "    for j in range(i+1, n):\r\n",
        "      if (tabuleiro[i] == tabuleiro[j]):\r\n",
        "        ataques = ataques + 1\r\n",
        "\r\n",
        "  for i in range(n-1): # caso esteja na mesma diagonal. Para baixo e para cima, respectivamente\r\n",
        "    for j in range(i+1, n):\r\n",
        "      if ((tabuleiro[i] == tabuleiro[j] + (j - i)) or (tabuleiro[i] == tabuleiro[j] - (j - i))):\r\n",
        "        ataques = ataques + 1\r\n",
        "\r\n",
        "  #print(\"Número de ataques:\")\r\n",
        "  #print(ataques)\r\n",
        "  return ataques\r\n",
        "\r\n",
        "tabuleiro = geraTabuleiro(4)\r\n",
        "avaliaAtaques(tabuleiro)"
      ],
      "execution_count": 28,
      "outputs": [
        {
          "output_type": "execute_result",
          "data": {
            "text/plain": [
              "3"
            ]
          },
          "metadata": {
            "tags": []
          },
          "execution_count": 28
        }
      ]
    },
    {
      "cell_type": "code",
      "metadata": {
        "colab": {
          "base_uri": "https://localhost:8080/"
        },
        "id": "fb88lDPE6PDL",
        "outputId": "7700808e-4b92-40bd-e7c6-3e0fc5864a8f"
      },
      "source": [
        "def geraPopulacao(numIndividuos, n):\r\n",
        "  populacao = np.zeros((numIndividuos, n), dtype=int)\r\n",
        "\r\n",
        "  for i in range(numIndividuos):\r\n",
        "    populacao[i] = geraTabuleiro(n) ##### FALTA LIDAR COM ELEMENTOS REPETIDOS\r\n",
        "\r\n",
        "  return populacao\r\n",
        "\r\n",
        "geraPopulacao(10, 4)"
      ],
      "execution_count": 26,
      "outputs": [
        {
          "output_type": "execute_result",
          "data": {
            "text/plain": [
              "array([[1, 1, 4, 3],\n",
              "       [1, 2, 4, 1],\n",
              "       [1, 1, 4, 4],\n",
              "       [3, 1, 1, 3],\n",
              "       [2, 2, 4, 3],\n",
              "       [1, 3, 1, 3],\n",
              "       [3, 3, 3, 1],\n",
              "       [2, 4, 3, 2],\n",
              "       [4, 4, 4, 4],\n",
              "       [2, 4, 3, 2]])"
            ]
          },
          "metadata": {
            "tags": []
          },
          "execution_count": 26
        }
      ]
    },
    {
      "cell_type": "code",
      "metadata": {
        "id": "nD7iYoOl8nJ4"
      },
      "source": [
        "def reproduzir(pai1, pai2):\r\n",
        "  filhos = np.zeros(2, dtype=int)\r\n",
        "  n = len(pai1)\r\n",
        "  c = random.randint(1, n)\r\n",
        "\r\n",
        "  filhos = # QUE\r\n",
        "\r\n",
        "  return filhos"
      ],
      "execution_count": 15,
      "outputs": []
    },
    {
      "cell_type": "code",
      "metadata": {
        "colab": {
          "base_uri": "https://localhost:8080/"
        },
        "id": "kdRNJ5vF85Xr",
        "outputId": "2158fc84-4255-4d54-85fa-dd060b7810fe"
      },
      "source": [
        "def mutacao(elemento):  #### EXISTEM OUTROS TIPOS DE MUTAÇÃO\r\n",
        "  n = len(elemento)\r\n",
        "  aleatorio = random.randint(0, n)\r\n",
        "\r\n",
        "  if (aleatorio == n):\r\n",
        "    aux = elemento[aleatorio]\r\n",
        "    elemento[aleatorio] = elemento[0]\r\n",
        "    elemento[0] = aux\r\n",
        "\r\n",
        "  else:\r\n",
        "    aux = elemento[aleatorio]\r\n",
        "    elemento[aleatorio] = elemento[aleatorio + 1]\r\n",
        "    elemento[aleatorio + 1] = aux\r\n",
        "\r\n",
        "  return elemento\r\n",
        "\r\n",
        "#mutacao([1,2,3,4,5,6,7,8])"
      ],
      "execution_count": 30,
      "outputs": [
        {
          "output_type": "execute_result",
          "data": {
            "text/plain": [
              "[1, 3, 2, 4, 5, 6, 7, 8]"
            ]
          },
          "metadata": {
            "tags": []
          },
          "execution_count": 30
        }
      ]
    },
    {
      "cell_type": "markdown",
      "metadata": {
        "id": "seR9BWQV3EnK"
      },
      "source": [
        "O algoritmo genético:"
      ]
    },
    {
      "cell_type": "code",
      "metadata": {
        "id": "jPDl34Y929Cb"
      },
      "source": [
        "def genetico(populacao, probabilidade):\r\n",
        "\r\n",
        "  novaPopulacao = []\r\n",
        "\r\n",
        "  while True:\r\n",
        "    for i in range(len(populacao)):\r\n",
        "      aux1 = random.randint(0, (len(populacao)))\r\n",
        "      aux2 = random.randint(0, (len(populacao)))\r\n",
        "      pai1 = populacao[aux1]\r\n",
        "      pai2 = populacao[aux2] ##### FALTA GARANTIR QUE PAIS NÃO SÃO REPETIDOS\r\n",
        "      filho = reproduzir(pai1, pai2)\r\n",
        "      probCalculada = random.uniform(0, probabilidade)\r\n",
        "      if (probCalculada <= probabilidade):\r\n",
        "        filho = mutacao(filho)\r\n",
        "      novaPopulacao[i] = filho\r\n",
        "    populacao = novaPopulacao # acho que isso está errado\r\n",
        "    if (condicoesDeParada): # determinar condições de parada\r\n",
        "      return melhorElemento # determinar quem é o melhor elemento\r\n",
        "\r\n",
        "populacao = geraPopulacao(10, 4)\r\n",
        "genetico(populacao)"
      ],
      "execution_count": null,
      "outputs": []
    }
  ]
}