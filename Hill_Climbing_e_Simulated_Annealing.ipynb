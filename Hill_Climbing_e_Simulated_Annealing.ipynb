{
  "nbformat": 4,
  "nbformat_minor": 0,
  "metadata": {
    "colab": {
      "name": "Hill Climbing e Simulated Annealing.ipynb",
      "provenance": [],
      "authorship_tag": "ABX9TyNJVszWQGE/LkpKa07OtiU1",
      "include_colab_link": true
    },
    "kernelspec": {
      "name": "python3",
      "display_name": "Python 3"
    }
  },
  "cells": [
    {
      "cell_type": "markdown",
      "metadata": {
        "id": "view-in-github",
        "colab_type": "text"
      },
      "source": [
        "<a href=\"https://colab.research.google.com/github/siliconemonster/IA-2020.1/blob/main/Hill_Climbing_e_Simulated_Annealing.ipynb\" target=\"_parent\"><img src=\"https://colab.research.google.com/assets/colab-badge.svg\" alt=\"Open In Colab\"/></a>"
      ]
    },
    {
      "cell_type": "markdown",
      "metadata": {
        "id": "cfjrbF6HoVpO"
      },
      "source": [
        "## **Nesta tarefa você vai implementar os algoritmos Hill Climbing e Simulated Annealing e usá-los para resolver o problema das N-Rainhas. Os programas devem ser feitos preferencialmente na linguagem Python.**\r\n",
        "1. Modelagem\r\n",
        "<br>(a) Descreva como um tabuleiro N × N com N rainhas é representado no seu programa.\r\n",
        "2. Implementação: As seguintes funções devem ser implementadas de maneira que possam ser testadas individualmente.\r\n",
        "<br>(a) Defina uma função que dado o tamanho do tabuleiro N, retorna um tabuleiro N ×N com N rainhas.\r\n",
        "O tabuleiro deve ser gerado de maneira aleatória.\r\n",
        "<br>(b) Defina uma função que dado um tabuleiro qualquer, retorna todos os seus vizinhos.\r\n",
        "<br>(c) Defina uma função que dado um tabuleiro qualquer, retorna um de seus vizinhos. A escolha do vizinho a ser retornado pela função deve ser aleatória.\r\n",
        "<br>(d) Defina uma função que dado um tabuleiro qualquer, retorna a avaliação deste tabuleiro (número de ataques entre as rainhas).\r\n",
        "3. Hill Climbing\r\n",
        "<br>(a) Implemente uma versão do algoritmo Hill Climbing, onde o tabuleiro sucessor do tabuleiro corrente será o primeiro vizinho dele (tabuleiro corrente) que tem uma avaliação melhor. Assim, se a avaliação do tabuleiro corrente Tc for igual a k, o primeiro tabuleiro vizinho de Tc encontrado com avaliação menor que k deve passar a ser o novo tabuleiro corrente.\r\n",
        "<br>(b) Implemente uma versão do algoritmo Hill Climbing, onde todos os tabuleiros vizinhos do tabuleiro corrente são avaliados e escolha para ser o novo tabuleiro corrente aquele que mais melhora a avaliação do tabuleiro corrente atual. No caso de haver mais de um tabuleiro, a escolha deve ser\r\n",
        "feita de forma aleatória.\r\n",
        "<br>(c) Analise o desempenho de cada umas das implementações. Considere:\r\n",
        " Tabuleiros de tamanho 4, 8, 16 e 32.\r\n",
        " Para cada tamanho de tabuleiro:<br>\r\n",
        "&nbsp; &nbsp; &nbsp; &nbsp; – Indique quantas vezes você precisou executar os programas para encontrar uma solução.<br>\r\n",
        "&nbsp; &nbsp; &nbsp; &nbsp; – Quantos tabuleiros correntes, em média, foram gerados em cada execução dos programas.\r\n",
        "<br>(d) Quais conclusões você consegue tirar destes experimentos?\r\n",
        "4. Simulated Annealing\r\n",
        "<br>(a) Implemente o algoritmo Simulated Annealing. Os parâmetros de entrada do programa devem ser temperatura inicial TempInicial, o número máximo de iterações MaxIt e o fator de decaimento α.\r\n",
        "<br>(b) Determine experimentalmente valores para os parâmetros de entrada que permitam que uma solução\r\n",
        "seja encontrada. Considere apenas tabuleiros de tamanho 4 e 8. Relate como a busca se comportou para os diferentes valores dos parâmetros de entrada que você usou.\r\n",
        "<br>(c) Caso você tenha sido bem sucedido no item anterior (encontrou a solução do problema de 4 e 8 rainhas), use os mesmos parâmetros de entrada usados e execute o programa agora considerando tabuleiros de tamanho 16 e 32. O que acontece?\r\n",
        "5. Comparando os métodos Hill Climbing e Simulated Annealing na resolução do problema das N-rainhas, o que você pode concluir?"
      ]
    },
    {
      "cell_type": "markdown",
      "metadata": {
        "id": "MRoaV3zhtD3a"
      },
      "source": [
        "--------------------------------------------------------------------------------"
      ]
    },
    {
      "cell_type": "markdown",
      "metadata": {
        "id": "KVUpEjris8yq"
      },
      "source": [
        "<h2>1 Modelagem"
      ]
    },
    {
      "cell_type": "markdown",
      "metadata": {
        "id": "pKa7-xBteL4h"
      },
      "source": [
        "<h3>a) Representação inicial do tabuleiro:"
      ]
    },
    {
      "cell_type": "code",
      "metadata": {
        "colab": {
          "base_uri": "https://localhost:8080/"
        },
        "id": "8ZlVmseOsFjq",
        "outputId": "e506e4c4-28ff-4b54-a548-ae63ed0d4088"
      },
      "source": [
        "import numpy as np\r\n",
        "\r\n",
        "x = 4\r\n",
        "tabuleiroVazio = np.zeros((1, x), dtype=int)\r\n",
        "print(tabuleiroVazio)"
      ],
      "execution_count": 200,
      "outputs": [
        {
          "output_type": "stream",
          "text": [
            "[[0 0 0 0]]\n"
          ],
          "name": "stdout"
        }
      ]
    },
    {
      "cell_type": "markdown",
      "metadata": {
        "id": "_jrs5OY-s7dj"
      },
      "source": [
        "No caso de um tabuleiro 4x4, como o caso acima, temos um vetor de 1x4, vazio. Só pode haver uma rainha por coluna, então a coluna em que existir uma, será representada pelo número da linha.<br>\r\n",
        "**Por exemplo:**<br>\r\n",
        "Um tabuleiro do tipo: <br>\r\n",
        "[0 &nbsp; 0 &nbsp; 0 &nbsp; 0]<br>\r\n",
        "[R &nbsp; 0 &nbsp; 0 &nbsp; R]<br>\r\n",
        "[0 &nbsp; R &nbsp; 0 &nbsp; 0]<br>\r\n",
        "[0 &nbsp; 0 &nbsp; R &nbsp; 0]<br>\r\n",
        "onde 0 representa onde está vazio, e R representa onde há uma rainha; na modelagem em questão, é representado por: <br>\r\n",
        "[2 &nbsp; 3 &nbsp; 4 &nbsp; 2]"
      ]
    },
    {
      "cell_type": "markdown",
      "metadata": {
        "id": "xr4kWsaRzarW"
      },
      "source": [
        "<h2> 2 - Implementação"
      ]
    },
    {
      "cell_type": "markdown",
      "metadata": {
        "id": "UpnE8nr0zgAS"
      },
      "source": [
        "<h3>a) Definir uma função que retorna o tabuleiro aleatório:"
      ]
    },
    {
      "cell_type": "code",
      "metadata": {
        "colab": {
          "base_uri": "https://localhost:8080/"
        },
        "id": "eXz91QNZzouu",
        "outputId": "5b555ac5-14d1-48c2-8822-db38f1d52a83"
      },
      "source": [
        "import numpy as np\r\n",
        "import random\r\n",
        "\r\n",
        "def geraTabuleiro(n):\r\n",
        "  tabuleiro = np.zeros((1, n), dtype=int)\r\n",
        "  #print(tabuleiro)\r\n",
        "\r\n",
        "  for x in range(n):\r\n",
        "    posicaoRainha = random.randint(1, n)\r\n",
        "    #print(posicaoRainha)\r\n",
        "    tabuleiro[0][x] = posicaoRainha\r\n",
        "\r\n",
        "  #print(tabuleiro)\r\n",
        "  return tabuleiro\r\n",
        "\r\n",
        "geraTabuleiro(4)"
      ],
      "execution_count": 201,
      "outputs": [
        {
          "output_type": "execute_result",
          "data": {
            "text/plain": [
              "array([[3, 3, 1, 3]])"
            ]
          },
          "metadata": {
            "tags": []
          },
          "execution_count": 201
        }
      ]
    },
    {
      "cell_type": "markdown",
      "metadata": {
        "id": "TDt8mJLRBME5"
      },
      "source": [
        "<h3> b) Definir uma função que retorna vizinhos:"
      ]
    },
    {
      "cell_type": "code",
      "metadata": {
        "colab": {
          "base_uri": "https://localhost:8080/"
        },
        "id": "GuFuBIH-BhU0",
        "outputId": "f32dd52c-df2c-4a99-d24c-f93460f607a7"
      },
      "source": [
        "def geraVizinhos(n, tabuleiroAtual):\r\n",
        "  quantViz = (n-1)*n #cada dama pode ocupar n-1 novas posições, e são n damas. Um vizinho é uma única dama mudar de posição\r\n",
        "  vizinhos = np.zeros((quantViz, n), dtype=int)\r\n",
        "  print(\"Tabuleiro Atual:\")\r\n",
        "  print(tabuleiroAtual)\r\n",
        "\r\n",
        "  for x in range(quantViz): #laço for para salvar o mesmo tabuleiro atual em todas as linhas de vizinhos\r\n",
        "    for y in range(n):\r\n",
        "      vizinhos[x][y] = tabuleiroAtual[0][y]\r\n",
        "\r\n",
        "  for y in range(n):\r\n",
        "    temp = vizinhos[0][y] #é a primeira posição de cada coluna\r\n",
        "    for x in range (n-1): #se temos 3 números, ele já é 1 e teremos 2 alterações\r\n",
        "      temp = ((temp + 1) % n) + 1 #usei o módulo para quando somar ao último número possível, ele ciclar. Somei 1 porque não desejo o valor 0\r\n",
        "      vizinhos[x+y*(n-1)][y] = temp # y*(n-1) serve para pular as linhas onde alterei na iteração anterior\r\n",
        "\r\n",
        "  print(\"Vizinhos:\")\r\n",
        "  print(vizinhos)\r\n",
        "  return vizinhos\r\n",
        "\r\n",
        "tabuleiro = geraTabuleiro(3)\r\n",
        "geraVizinhos(3, tabuleiro)"
      ],
      "execution_count": 222,
      "outputs": [
        {
          "output_type": "stream",
          "text": [
            "Tabuleiro Atual:\n",
            "[[1 3 2]]\n",
            "Vizinhos:\n",
            "[[3 3 2]\n",
            " [2 3 2]\n",
            " [1 2 2]\n",
            " [1 1 2]\n",
            " [1 3 1]\n",
            " [1 3 3]]\n"
          ],
          "name": "stdout"
        },
        {
          "output_type": "execute_result",
          "data": {
            "text/plain": [
              "array([[3, 3, 2],\n",
              "       [2, 3, 2],\n",
              "       [1, 2, 2],\n",
              "       [1, 1, 2],\n",
              "       [1, 3, 1],\n",
              "       [1, 3, 3]])"
            ]
          },
          "metadata": {
            "tags": []
          },
          "execution_count": 222
        }
      ]
    },
    {
      "cell_type": "markdown",
      "metadata": {
        "id": "R9Z1lfEBfwjw"
      },
      "source": [
        "<h3>c) Definir uma função que gera um vizinho aleatório"
      ]
    },
    {
      "cell_type": "code",
      "metadata": {
        "colab": {
          "base_uri": "https://localhost:8080/"
        },
        "id": "woappYf0f8w5",
        "outputId": "0b17b33a-1aef-4e40-d7f5-80dfdb32e8c5"
      },
      "source": [
        "def vizinhoAleatorio(n, vizinhos):\r\n",
        "  quantViz = (n-1)*n #cada dama pode ocupar n-1 novas posições, e são n damas. Um vizinho é uma única dama mudar de posição\r\n",
        "  vizAleatorio = np.zeros((1, n), dtype=int)\r\n",
        "\r\n",
        "  posicao = random.randint(0, (quantViz-1))\r\n",
        "\r\n",
        "  for x in range(n):\r\n",
        "    vizAleatorio[0][x] = vizinhos[posicao][x]\r\n",
        "\r\n",
        "  print(\"Vizinho aleatório:\")\r\n",
        "  print(vizAleatorio)\r\n",
        "  return vizAleatorio\r\n",
        "\r\n",
        "tabuleiro = geraTabuleiro(3)\r\n",
        "vizinhos = geraVizinhos(3, tabuleiro)\r\n",
        "vizinhoAleatorio(3, vizinhos)"
      ],
      "execution_count": 223,
      "outputs": [
        {
          "output_type": "stream",
          "text": [
            "Tabuleiro Atual:\n",
            "[[3 3 2]]\n",
            "Vizinhos:\n",
            "[[2 3 2]\n",
            " [1 3 2]\n",
            " [3 2 2]\n",
            " [3 1 2]\n",
            " [3 3 1]\n",
            " [3 3 3]]\n",
            "Vizinho aleatório:\n",
            "[[2 3 2]]\n"
          ],
          "name": "stdout"
        },
        {
          "output_type": "execute_result",
          "data": {
            "text/plain": [
              "array([[2, 3, 2]])"
            ]
          },
          "metadata": {
            "tags": []
          },
          "execution_count": 223
        }
      ]
    }
  ]
}