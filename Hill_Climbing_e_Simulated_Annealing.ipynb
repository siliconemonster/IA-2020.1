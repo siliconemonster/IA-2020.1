{
  "nbformat": 4,
  "nbformat_minor": 0,
  "metadata": {
    "colab": {
      "name": "Hill Climbing e Simulated Annealing.ipynb",
      "provenance": [],
      "authorship_tag": "ABX9TyNDwICi5yInLlqmW4FzAGwa",
      "include_colab_link": true
    },
    "kernelspec": {
      "name": "python3",
      "display_name": "Python 3"
    }
  },
  "cells": [
    {
      "cell_type": "markdown",
      "metadata": {
        "id": "view-in-github",
        "colab_type": "text"
      },
      "source": [
        "<a href=\"https://colab.research.google.com/github/siliconemonster/IA-2020.1/blob/main/Hill_Climbing_e_Simulated_Annealing.ipynb\" target=\"_parent\"><img src=\"https://colab.research.google.com/assets/colab-badge.svg\" alt=\"Open In Colab\"/></a>"
      ]
    },
    {
      "cell_type": "markdown",
      "metadata": {
        "id": "cfjrbF6HoVpO"
      },
      "source": [
        "## **Nesta tarefa você vai implementar os algoritmos Hill Climbing e Simulated Annealing e usá-los para resolver o problema das N-Rainhas. Os programas devem ser feitos preferencialmente na linguagem Python.**\r\n",
        "1. Modelagem\r\n",
        "* (a) Descreva como um tabuleiro N × N com N rainhas é representado no seu programa.\r\n",
        "2. Implementação: As seguintes funções devem ser implementadas de maneira que possam ser testadas individualmente.\r\n",
        "* (a) Defina uma função que dado o tamanho do tabuleiro N, retorna um tabuleiro N ×N com N rainhas.\r\n",
        "O tabuleiro deve ser gerado de maneira aleatória.\r\n",
        "* (b) Defina uma função que dado um tabuleiro qualquer, retorna todos os seus vizinhos.\r\n",
        "* (c) Defina uma função que dado um tabuleiro qualquer, retorna um de seus vizinhos. A escolha do vizinho a ser retornado pela função deve ser aleatória.\r\n",
        "* (d) Defina uma função que dado um tabuleiro qualquer, retorna a avaliação deste tabuleiro (número de ataques entre as rainhas).\r\n",
        "3. Hill Climbing\r\n",
        "* (a) Implemente uma versão do algoritmo Hill Climbing, onde o tabuleiro sucessor do tabuleiro corrente será o primeiro vizinho dele (tabuleiro corrente) que tem uma avaliação melhor. Assim, se a avaliação do tabuleiro corrente Tc for igual a k, o primeiro tabuleiro vizinho de Tc encontrado com avaliação menor que k deve passar a ser o novo tabuleiro corrente.\r\n",
        "* (b) Implemente uma versão do algoritmo Hill Climbing, onde todos os tabuleiros vizinhos do tabuleiro corrente são avaliados e escolha para ser o novo tabuleiro corrente aquele que mais melhora a avaliação do tabuleiro corrente atual. No caso de haver mais de um tabuleiro, a escolha deve ser\r\n",
        "feita de forma aleatória.\r\n",
        "* (c) Analise o desempenho de cada umas das implementações. Considere:\r\n",
        " Tabuleiros de tamanho 4, 8, 16 e 32.\r\n",
        " Para cada tamanho de tabuleiro:\r\n",
        "* * – Indique quantas vezes você precisou executar os programas para encontrar uma solução.\r\n",
        "* * – Quantos tabuleiros correntes, em média, foram gerados em cada execução dos programas.\r\n",
        "* (d) Quais conclusões você consegue tirar destes experimentos?\r\n",
        "4. Simulated Annealing\r\n",
        "* (a) Implemente o algoritmo Simulated Annealing. Os parâmetros de entrada do programa devem ser temperatura inicial TempInicial, o número máximo de iterações MaxIt e o fator de decaimento α.\r\n",
        "* (b) Determine experimentalmente valores para os parâmetros de entrada que permitam que uma solução\r\n",
        "seja encontrada. Considere apenas tabuleiros de tamanho 4 e 8. Relate como a busca se comportou para os diferentes valores dos parâmetros de entrada que você usou.\r\n",
        "* (c) Caso você tenha sido bem sucedido no item anterior (encontrou a solução do problema de 4 e 8 rainhas), use os mesmos parâmetros de entrada usados e execute o programa agora considerando tabuleiros de tamanho 16 e 32. O que acontece?\r\n",
        "5. Comparando os métodos Hill Climbing e Simulated Annealing na resolução do problema das N-rainhas, o que você pode concluir?"
      ]
    }
  ]
}