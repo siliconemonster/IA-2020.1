{
  "nbformat": 4,
  "nbformat_minor": 0,
  "metadata": {
    "colab": {
      "name": "Hill Climbing e Simulated Annealing.ipynb",
      "provenance": [],
      "authorship_tag": "ABX9TyOXIo+lNcn/iFzK+r3AX4Z8",
      "include_colab_link": true
    },
    "kernelspec": {
      "name": "python3",
      "display_name": "Python 3"
    }
  },
  "cells": [
    {
      "cell_type": "markdown",
      "metadata": {
        "id": "view-in-github",
        "colab_type": "text"
      },
      "source": [
        "<a href=\"https://colab.research.google.com/github/siliconemonster/IA-2020.1/blob/main/Hill_Climbing_e_Simulated_Annealing.ipynb\" target=\"_parent\"><img src=\"https://colab.research.google.com/assets/colab-badge.svg\" alt=\"Open In Colab\"/></a>"
      ]
    },
    {
      "cell_type": "markdown",
      "metadata": {
        "id": "cfjrbF6HoVpO"
      },
      "source": [
        "**<h1> HILL CLIMBING E SIMULATED ANNEALING**\r\n"
      ]
    },
    {
      "cell_type": "markdown",
      "metadata": {
        "id": "S5b3fehXn749"
      },
      "source": [
        "## **Nesta tarefa você vai implementar os algoritmos Hill Climbing e Simulated Annealing e usá-los para resolver o problema das N-Rainhas. Os programas devem ser feitos preferencialmente na linguagem Python.**\r\n",
        "1. Modelagem\r\n",
        "<br>(a) Descreva como um tabuleiro N × N com N rainhas é representado no seu programa.\r\n",
        "2. Implementação: As seguintes funções devem ser implementadas de maneira que possam ser testadas individualmente.\r\n",
        "<br>(a) Defina uma função que dado o tamanho do tabuleiro N, retorna um tabuleiro N ×N com N rainhas.\r\n",
        "O tabuleiro deve ser gerado de maneira aleatória.\r\n",
        "<br>(b) Defina uma função que dado um tabuleiro qualquer, retorna todos os seus vizinhos.\r\n",
        "<br>(c) Defina uma função que dado um tabuleiro qualquer, retorna um de seus vizinhos. A escolha do vizinho a ser retornado pela função deve ser aleatória.\r\n",
        "<br>(d) Defina uma função que dado um tabuleiro qualquer, retorna a avaliação deste tabuleiro (número de ataques entre as rainhas).\r\n",
        "3. Hill Climbing\r\n",
        "<br>(a) Implemente uma versão do algoritmo Hill Climbing, onde o tabuleiro sucessor do tabuleiro corrente será o primeiro vizinho dele (tabuleiro corrente) que tem uma avaliação melhor. Assim, se a avaliação do tabuleiro corrente Tc for igual a k, o primeiro tabuleiro vizinho de Tc encontrado com avaliação menor que k deve passar a ser o novo tabuleiro corrente.\r\n",
        "<br>(b) Implemente uma versão do algoritmo Hill Climbing, onde todos os tabuleiros vizinhos do tabuleiro corrente são avaliados e escolha para ser o novo tabuleiro corrente aquele que mais melhora a avaliação do tabuleiro corrente atual. No caso de haver mais de um tabuleiro, a escolha deve ser\r\n",
        "feita de forma aleatória.\r\n",
        "<br>(c) Analise o desempenho de cada umas das implementações. Considere:\r\n",
        " Tabuleiros de tamanho 4, 8, 16 e 32.\r\n",
        " Para cada tamanho de tabuleiro:<br>\r\n",
        "&nbsp; &nbsp; &nbsp; &nbsp; – Indique quantas vezes você precisou executar os programas para encontrar uma solução.<br>\r\n",
        "&nbsp; &nbsp; &nbsp; &nbsp; – Quantos tabuleiros correntes, em média, foram gerados em cada execução dos programas.\r\n",
        "<br>(d) Quais conclusões você consegue tirar destes experimentos?\r\n",
        "4. Simulated Annealing\r\n",
        "<br>(a) Implemente o algoritmo Simulated Annealing. Os parâmetros de entrada do programa devem ser temperatura inicial TempInicial, o número máximo de iterações MaxIt e o fator de decaimento α.\r\n",
        "<br>(b) Determine experimentalmente valores para os parâmetros de entrada que permitam que uma solução\r\n",
        "seja encontrada. Considere apenas tabuleiros de tamanho 4 e 8. Relate como a busca se comportou para os diferentes valores dos parâmetros de entrada que você usou.\r\n",
        "<br>(c) Caso você tenha sido bem sucedido no item anterior (encontrou a solução do problema de 4 e 8 rainhas), use os mesmos parâmetros de entrada usados e execute o programa agora considerando tabuleiros de tamanho 16 e 32. O que acontece?\r\n",
        "5. Comparando os métodos Hill Climbing e Simulated Annealing na resolução do problema das N-rainhas, o que você pode concluir?"
      ]
    },
    {
      "cell_type": "markdown",
      "metadata": {
        "id": "MRoaV3zhtD3a"
      },
      "source": [
        "--------------------------------------------------------------------------------"
      ]
    },
    {
      "cell_type": "markdown",
      "metadata": {
        "id": "KVUpEjris8yq"
      },
      "source": [
        "<h2>1 - Modelagem"
      ]
    },
    {
      "cell_type": "markdown",
      "metadata": {
        "id": "pKa7-xBteL4h"
      },
      "source": [
        "<h3>a) Representação inicial do tabuleiro:"
      ]
    },
    {
      "cell_type": "code",
      "metadata": {
        "colab": {
          "base_uri": "https://localhost:8080/"
        },
        "id": "8ZlVmseOsFjq",
        "outputId": "d19168fe-f9b2-40ae-c2da-0edff73ccd41"
      },
      "source": [
        "import numpy as np\r\n",
        "\r\n",
        "x = 4\r\n",
        "tabuleiroVazio = np.zeros((1, x), dtype=int)\r\n",
        "print(tabuleiroVazio)"
      ],
      "execution_count": 179,
      "outputs": [
        {
          "output_type": "stream",
          "text": [
            "[[0 0 0 0]]\n"
          ],
          "name": "stdout"
        }
      ]
    },
    {
      "cell_type": "markdown",
      "metadata": {
        "id": "_jrs5OY-s7dj"
      },
      "source": [
        "No caso de um tabuleiro 4x4, como o caso acima, temos um vetor de 1x4, vazio. Só pode haver uma rainha por coluna, então a coluna em que existir uma, será representada pelo número da linha.<br>\r\n",
        "**Por exemplo:**<br>\r\n",
        "Um tabuleiro do tipo: <br>\r\n",
        "[0 &nbsp; 0 &nbsp; 0 &nbsp; 0]<br>\r\n",
        "[R &nbsp; 0 &nbsp; 0 &nbsp; R]<br>\r\n",
        "[0 &nbsp; R &nbsp; 0 &nbsp; 0]<br>\r\n",
        "[0 &nbsp; 0 &nbsp; R &nbsp; 0]<br>\r\n",
        "onde 0 representa onde está vazio, e R representa onde há uma rainha; na modelagem em questão, é representado por: <br>\r\n",
        "[2 &nbsp; 3 &nbsp; 4 &nbsp; 2]"
      ]
    },
    {
      "cell_type": "markdown",
      "metadata": {
        "id": "xr4kWsaRzarW"
      },
      "source": [
        "<h2> 2 - Implementação"
      ]
    },
    {
      "cell_type": "markdown",
      "metadata": {
        "id": "UpnE8nr0zgAS"
      },
      "source": [
        "<h3>a) Definir uma função que retorna o tabuleiro aleatório:"
      ]
    },
    {
      "cell_type": "code",
      "metadata": {
        "colab": {
          "base_uri": "https://localhost:8080/"
        },
        "id": "eXz91QNZzouu",
        "outputId": "35551d90-8691-4f04-8c73-c5943d0147cc"
      },
      "source": [
        "import numpy as np\r\n",
        "import random\r\n",
        "\r\n",
        "def geraTabuleiro(n):\r\n",
        "  tabuleiro = np.zeros(( n), dtype=int)\r\n",
        "  #print(tabuleiro)\r\n",
        "\r\n",
        "  for x in range(n):\r\n",
        "    posicaoRainha = random.randint(1, n)\r\n",
        "    #print(posicaoRainha)\r\n",
        "    tabuleiro[x] = posicaoRainha\r\n",
        "\r\n",
        "  print(\"Tabuleiro Atual:\")\r\n",
        "  print(tabuleiro)\r\n",
        "  return tabuleiro\r\n",
        "\r\n",
        "geraTabuleiro(4)"
      ],
      "execution_count": 214,
      "outputs": [
        {
          "output_type": "stream",
          "text": [
            "Tabuleiro Atual:\n",
            "[3 4 4 3]\n"
          ],
          "name": "stdout"
        },
        {
          "output_type": "execute_result",
          "data": {
            "text/plain": [
              "array([3, 4, 4, 3])"
            ]
          },
          "metadata": {
            "tags": []
          },
          "execution_count": 214
        }
      ]
    },
    {
      "cell_type": "markdown",
      "metadata": {
        "id": "TDt8mJLRBME5"
      },
      "source": [
        "<h3> b) Definir uma função que retorna vizinhos:"
      ]
    },
    {
      "cell_type": "code",
      "metadata": {
        "colab": {
          "base_uri": "https://localhost:8080/"
        },
        "id": "GuFuBIH-BhU0",
        "outputId": "1a4085c7-ccc9-43a4-8295-fb0d2a74727b"
      },
      "source": [
        "def geraVizinhos(n, tabuleiroAtual):\r\n",
        "  quantViz = (n-1)*n # cada dama pode ocupar n-1 novas posições, e são n damas. Um vizinho é uma única dama mudar de posição\r\n",
        "  vizinhos = np.zeros((quantViz, n), dtype=int)\r\n",
        "\r\n",
        "  indice = 0\r\n",
        "  for i in range (n):\r\n",
        "    for j in range (1,n+1):\r\n",
        "      if tabuleiroAtual[i]!=j:\r\n",
        "        aux = []\r\n",
        "        aux = tabuleiroAtual.copy()\r\n",
        "        aux[i] = j\r\n",
        "        vizinhos[indice] = aux\r\n",
        "        indice = indice + 1\r\n",
        "\r\n",
        "  print(\"Vizinhos:\")\r\n",
        "  print(vizinhos)\r\n",
        "  return vizinhos\r\n",
        "\r\n",
        "tabuleiro = geraTabuleiro(4)\r\n",
        "geraVizinhos(4, tabuleiro)"
      ],
      "execution_count": 209,
      "outputs": [
        {
          "output_type": "stream",
          "text": [
            "Tabuleiro Atual:\n",
            "[2 3 2 3]\n",
            "Vizinhos:\n",
            "[[1 3 2 3]\n",
            " [3 3 2 3]\n",
            " [4 3 2 3]\n",
            " [2 1 2 3]\n",
            " [2 2 2 3]\n",
            " [2 4 2 3]\n",
            " [2 3 1 3]\n",
            " [2 3 3 3]\n",
            " [2 3 4 3]\n",
            " [2 3 2 1]\n",
            " [2 3 2 2]\n",
            " [2 3 2 4]]\n"
          ],
          "name": "stdout"
        },
        {
          "output_type": "execute_result",
          "data": {
            "text/plain": [
              "array([[1, 3, 2, 3],\n",
              "       [3, 3, 2, 3],\n",
              "       [4, 3, 2, 3],\n",
              "       [2, 1, 2, 3],\n",
              "       [2, 2, 2, 3],\n",
              "       [2, 4, 2, 3],\n",
              "       [2, 3, 1, 3],\n",
              "       [2, 3, 3, 3],\n",
              "       [2, 3, 4, 3],\n",
              "       [2, 3, 2, 1],\n",
              "       [2, 3, 2, 2],\n",
              "       [2, 3, 2, 4]])"
            ]
          },
          "metadata": {
            "tags": []
          },
          "execution_count": 209
        }
      ]
    },
    {
      "cell_type": "markdown",
      "metadata": {
        "id": "R9Z1lfEBfwjw"
      },
      "source": [
        "<h3>c) Definir uma função que gera um vizinho aleatório"
      ]
    },
    {
      "cell_type": "code",
      "metadata": {
        "colab": {
          "base_uri": "https://localhost:8080/"
        },
        "id": "woappYf0f8w5",
        "outputId": "6b90a7f6-1523-4595-9818-27d382bb3a9f"
      },
      "source": [
        "def vizinhoAleatorio(n, vizinhos):\r\n",
        "  quantViz = (n-1)*n # cada dama pode ocupar n-1 novas posições, e são n damas. Um vizinho é uma única dama mudar de posição\r\n",
        "  vizAleatorio = np.zeros(( n), dtype=int)\r\n",
        "\r\n",
        "  posicao = random.randint(0, (quantViz-1))\r\n",
        "\r\n",
        "  for x in range(n):\r\n",
        "    vizAleatorio[x] = vizinhos[posicao][x]\r\n",
        "\r\n",
        "  print(\"Vizinho aleatório:\")\r\n",
        "  print(vizAleatorio)\r\n",
        "  return vizAleatorio\r\n",
        "\r\n",
        "tabuleiro = geraTabuleiro(4)\r\n",
        "vizinhos = geraVizinhos(4, tabuleiro)\r\n",
        "vizinhoAleatorio(4, vizinhos)"
      ],
      "execution_count": 215,
      "outputs": [
        {
          "output_type": "stream",
          "text": [
            "Tabuleiro Atual:\n",
            "[4 1 1 4]\n",
            "Vizinhos:\n",
            "[[1 1 1 4]\n",
            " [2 1 1 4]\n",
            " [3 1 1 4]\n",
            " [4 2 1 4]\n",
            " [4 3 1 4]\n",
            " [4 4 1 4]\n",
            " [4 1 2 4]\n",
            " [4 1 3 4]\n",
            " [4 1 4 4]\n",
            " [4 1 1 1]\n",
            " [4 1 1 2]\n",
            " [4 1 1 3]]\n",
            "Vizinho aleatório:\n",
            "[4 4 1 4]\n"
          ],
          "name": "stdout"
        },
        {
          "output_type": "execute_result",
          "data": {
            "text/plain": [
              "array([4, 4, 1, 4])"
            ]
          },
          "metadata": {
            "tags": []
          },
          "execution_count": 215
        }
      ]
    },
    {
      "cell_type": "markdown",
      "metadata": {
        "id": "rkeiMIFWjE3J"
      },
      "source": [
        "<h3>d) Definir uma função que conta o número de ataques"
      ]
    },
    {
      "cell_type": "code",
      "metadata": {
        "colab": {
          "base_uri": "https://localhost:8080/"
        },
        "id": "zW9sdK8LjPNf",
        "outputId": "406e4bc6-272f-4ebd-f7f5-dfd8933513ba"
      },
      "source": [
        "def avaliaAtaques(n, tabuleiro):\r\n",
        "  ataques = 0\r\n",
        "\r\n",
        "  for i in range(n-1): # caso esteja na mesma coluna\r\n",
        "    for j in range(i+1, n):\r\n",
        "      if (tabuleiro[i] == tabuleiro[j]):\r\n",
        "        ataques = ataques + 1\r\n",
        "\r\n",
        "  for i in range(n-1): # caso esteja na mesma diagonal. Para baixo e para cima, respectivamente\r\n",
        "    for j in range(i+1, n):\r\n",
        "      if ((tabuleiro[i] == tabuleiro[j] + (j - i)) or (tabuleiro[i] == tabuleiro[j] - (j - i))):\r\n",
        "        ataques = ataques + 1\r\n",
        "\r\n",
        "  #print(\"Número de ataques:\")\r\n",
        "  print(ataques)\r\n",
        "  return ataques\r\n",
        "\r\n",
        "tabuleiro = geraTabuleiro(4)\r\n",
        "avaliaAtaques(4, tabuleiro)"
      ],
      "execution_count": 216,
      "outputs": [
        {
          "output_type": "stream",
          "text": [
            "Tabuleiro Atual:\n",
            "[4 2 1 2]\n",
            "3\n"
          ],
          "name": "stdout"
        },
        {
          "output_type": "execute_result",
          "data": {
            "text/plain": [
              "3"
            ]
          },
          "metadata": {
            "tags": []
          },
          "execution_count": 216
        }
      ]
    },
    {
      "cell_type": "markdown",
      "metadata": {
        "id": "OJtoq_aG6UaM"
      },
      "source": [
        "<h2>3 - Hill Climbing"
      ]
    },
    {
      "cell_type": "markdown",
      "metadata": {
        "id": "eHgXhPiR6Wtn"
      },
      "source": [
        "<h3>a) Definir uma versão do algoritmo Hill Climbing, onde o tabuleiro sucessor do tabuleiro corrente será o primeiro vizinho dele que tem uma avaliação melhor"
      ]
    },
    {
      "cell_type": "code",
      "metadata": {
        "colab": {
          "base_uri": "https://localhost:8080/"
        },
        "id": "-uwp-GpB6No_",
        "outputId": "73b89eab-7998-4fa6-f2b3-f73101f7c1cc"
      },
      "source": [
        "def hillClimbingPrimeiro (n, estadoInicial):\r\n",
        "  corrente = estadoInicial\r\n",
        "  \r\n",
        "  while True:\r\n",
        "    vizinhos = geraVizinhos(n, corrente)\r\n",
        "    size = len(vizinhos)\r\n",
        "    h = np.zeros(size, dtype=int)\r\n",
        "\r\n",
        "    for i in range(size):\r\n",
        "      aux = vizinhos[i]\r\n",
        "      h[i] = avaliaAtaques(n, aux) # h[i] representa a heurística do vizinho[i]\r\n",
        "\r\n",
        "    # hill climbing começa de fato aqui\r\n",
        "    hCorr = avaliaAtaques(n, corrente) # heurística do nó corrente\r\n",
        "    fCorr = -hCorr # função objetivo do nó corrente\r\n",
        "    for i in range(size):\r\n",
        "      if (i == 0):\r\n",
        "        proximo = h[i]\r\n",
        "        pos = 0\r\n",
        "      elif (h[i] < proximo):\r\n",
        "        proximo = h[i] # pega o primeiro menor ataque\r\n",
        "        pos = i # pega a posição onde está o menor ataque\r\n",
        "    vizinho = vizinhos[pos]\r\n",
        "    hViz = h[pos] # heurística do nó vizinho\r\n",
        "    fViz = -hViz # função objetivo do nó vizinho\r\n",
        "    if (fViz <= fCorr):\r\n",
        "      return corrente\r\n",
        "    corrente = vizinho # atualiza o novo estado atual\r\n",
        "    print(\"Novo - Tabuleiro Atual:\")\r\n",
        "    print(corrente)\r\n",
        "\r\n",
        "estadoInicial = geraTabuleiro(4)\r\n",
        "hillClimbingPrimeiro(4, estadoInicial)"
      ],
      "execution_count": 217,
      "outputs": [
        {
          "output_type": "stream",
          "text": [
            "Tabuleiro Atual:\n",
            "[3 3 4 1]\n",
            "Vizinhos:\n",
            "[[1 3 4 1]\n",
            " [2 3 4 1]\n",
            " [4 3 4 1]\n",
            " [3 1 4 1]\n",
            " [3 2 4 1]\n",
            " [3 4 4 1]\n",
            " [3 3 1 1]\n",
            " [3 3 2 1]\n",
            " [3 3 3 1]\n",
            " [3 3 4 2]\n",
            " [3 3 4 3]\n",
            " [3 3 4 4]]\n",
            "3\n",
            "4\n",
            "5\n",
            "1\n",
            "1\n",
            "2\n",
            "4\n",
            "4\n",
            "4\n",
            "2\n",
            "5\n",
            "3\n",
            "3\n",
            "Novo - Tabuleiro Atual:\n",
            "[3 1 4 1]\n",
            "Vizinhos:\n",
            "[[1 1 4 1]\n",
            " [2 1 4 1]\n",
            " [4 1 4 1]\n",
            " [3 2 4 1]\n",
            " [3 3 4 1]\n",
            " [3 4 4 1]\n",
            " [3 1 1 1]\n",
            " [3 1 2 1]\n",
            " [3 1 3 1]\n",
            " [3 1 4 2]\n",
            " [3 1 4 3]\n",
            " [3 1 4 4]]\n",
            "3\n",
            "3\n",
            "3\n",
            "1\n",
            "3\n",
            "2\n",
            "4\n",
            "3\n",
            "2\n",
            "0\n",
            "3\n",
            "1\n",
            "1\n",
            "Novo - Tabuleiro Atual:\n",
            "[3 1 4 2]\n",
            "Vizinhos:\n",
            "[[1 1 4 2]\n",
            " [2 1 4 2]\n",
            " [4 1 4 2]\n",
            " [3 2 4 2]\n",
            " [3 3 4 2]\n",
            " [3 4 4 2]\n",
            " [3 1 1 2]\n",
            " [3 1 2 2]\n",
            " [3 1 3 2]\n",
            " [3 1 4 1]\n",
            " [3 1 4 3]\n",
            " [3 1 4 4]]\n",
            "1\n",
            "3\n",
            "1\n",
            "2\n",
            "2\n",
            "3\n",
            "3\n",
            "2\n",
            "2\n",
            "1\n",
            "3\n",
            "1\n",
            "0\n"
          ],
          "name": "stdout"
        },
        {
          "output_type": "execute_result",
          "data": {
            "text/plain": [
              "array([3, 1, 4, 2])"
            ]
          },
          "metadata": {
            "tags": []
          },
          "execution_count": 217
        }
      ]
    },
    {
      "cell_type": "markdown",
      "metadata": {
        "id": "qqxPPjkEUt5U"
      },
      "source": [
        "<h3>b) Definir uma versão do algoritmo Hill Climbing, onde todos os tabuleiros vizinhos do tabuleiro corrente são avaliados e escolha para ser o novo tabuleiro corrente aquele que mais melhora a avaliação do tabuleiro corrente atual. No caso de haver mais de um tabuleiro, a escolha deve ser\r\n",
        "feita de forma aleatória."
      ]
    },
    {
      "cell_type": "code",
      "metadata": {
        "colab": {
          "base_uri": "https://localhost:8080/"
        },
        "id": "BW292e8tWHDp",
        "outputId": "d80de06b-f173-47b8-e975-df188df293c2"
      },
      "source": [
        "def hillClimbingAleatorio (n, estadoInicial):\r\n",
        "  corrente = estadoInicial\r\n",
        "  \r\n",
        "  while True:\r\n",
        "    vizinhos = geraVizinhos(n, corrente)\r\n",
        "    size = len(vizinhos)\r\n",
        "    h = np.zeros(size, dtype=int)\r\n",
        "    pos = np.zeros(size, dtype=int)\r\n",
        "\r\n",
        "    for i in range(size): # preencher o vetor de posições com -1\r\n",
        "      pos[i] = -1\r\n",
        "\r\n",
        "    for i in range(size):\r\n",
        "      aux = vizinhos[i]\r\n",
        "      h[i] = avaliaAtaques(n, aux) # h[i] representa a heurística do vizinho[i]\r\n",
        "\r\n",
        "    # hill climbing começa de fato aqui\r\n",
        "    hCorr = avaliaAtaques(n, corrente) # heurística do nó corrente\r\n",
        "    fCorr = -hCorr # função objetivo do nó corrente\r\n",
        "\r\n",
        "    for i in range(size):\r\n",
        "      if (i == 0):\r\n",
        "        proximo = h[i]\r\n",
        "      elif (h[i] < proximo):\r\n",
        "        proximo = h[i] # descobre o menor ataque\r\n",
        "\r\n",
        "    aux = 0\r\n",
        "    for i in range(size): # no vetor de -1's, \r\n",
        "      if (h[i] == proximo): # os índices de onde os vizinhos de menor h \r\n",
        "        pos[aux] = i # são salvos nas primeiras posições de pos[]\r\n",
        "        aux = aux + 1\r\n",
        "\r\n",
        "    print(\"-----------\")\r\n",
        "    print(\"Vetor pos[] que guarda as posições de vizinhos de menor h[] (desconsiderar onde houver -1)\")\r\n",
        "    print(pos)\r\n",
        "\r\n",
        "    posicao = random.randint(0, (aux-1)) # escolho um valor aleatório entre as posições de pos que foram de fato alteradas\r\n",
        "    print(\"Posição aleatória do vetor acima:\")\r\n",
        "    print(posicao)\r\n",
        "\r\n",
        "    indice = pos[posicao] # esse índice recebe o exato valor aleatório mencionado anteriormente\r\n",
        "    print(\"Índice original escolhido aleatoriamente:\")\r\n",
        "    print(indice)\r\n",
        "    \r\n",
        "    vizinho = vizinhos[indice] # Sugiro descomentar os 4 últimos prints para ajudar na visualização\r\n",
        "    print(\"Vizinho da posição do índice aleatório\")\r\n",
        "    print(vizinho)\r\n",
        "    hViz = h[posicao] # heurística do nó vizinho\r\n",
        "    fViz = -hViz # função objetivo do nó vizinho\r\n",
        "    if (fViz <= fCorr):\r\n",
        "      return corrente\r\n",
        "    corrente = vizinho # atualiza o novo estado atual\r\n",
        "    print(\"-----------\")\r\n",
        "    print(\"-----------\")\r\n",
        "    print(\"Novo - Tabuleiro Atual:\")\r\n",
        "    print(corrente)\r\n",
        "\r\n",
        "estadoInicial = geraTabuleiro(4)\r\n",
        "hillClimbingAleatorio(4, estadoInicial)"
      ],
      "execution_count": 218,
      "outputs": [
        {
          "output_type": "stream",
          "text": [
            "Tabuleiro Atual:\n",
            "[1 3 3 3]\n",
            "Vizinhos:\n",
            "[[2 3 3 3]\n",
            " [3 3 3 3]\n",
            " [4 3 3 3]\n",
            " [1 1 3 3]\n",
            " [1 2 3 3]\n",
            " [1 4 3 3]\n",
            " [1 3 1 3]\n",
            " [1 3 2 3]\n",
            " [1 3 4 3]\n",
            " [1 3 3 1]\n",
            " [1 3 3 2]\n",
            " [1 3 3 4]]\n",
            "4\n",
            "6\n",
            "4\n",
            "4\n",
            "4\n",
            "3\n",
            "2\n",
            "3\n",
            "3\n",
            "4\n",
            "3\n",
            "4\n",
            "4\n",
            "-----------\n",
            "Vetor pos[] que guarda as posições de vizinhos de menor h[] (desconsiderar onde houver -1)\n",
            "[ 6 -1 -1 -1 -1 -1 -1 -1 -1 -1 -1 -1]\n",
            "Posição aleatória do vetor acima:\n",
            "0\n",
            "Índice original escolhido aleatoriamente:\n",
            "6\n",
            "Vizinho da posição do índice aleatório\n",
            "[1 3 1 3]\n"
          ],
          "name": "stdout"
        },
        {
          "output_type": "execute_result",
          "data": {
            "text/plain": [
              "array([1, 3, 3, 3])"
            ]
          },
          "metadata": {
            "tags": []
          },
          "execution_count": 218
        }
      ]
    },
    {
      "cell_type": "markdown",
      "metadata": {
        "id": "8kLEP8D4jvJ-"
      },
      "source": [
        "<h3>c) Analise o desempenho de cada umas das implementações. Considere: Tabuleiros de tamanho 4, 8, 16 e 32. Para cada tamanho de tabuleiro:\r\n",
        "        – Indique quantas vezes você precisou executar os programas para encontrar uma solução.\r\n",
        "        – Quantos tabuleiros correntes, em média, foram gerados em cada execução dos programas.\r\n"
      ]
    },
    {
      "cell_type": "markdown",
      "metadata": {
        "id": "xnnpfmFxjzXz"
      },
      "source": [
        "bla"
      ]
    },
    {
      "cell_type": "markdown",
      "metadata": {
        "id": "8cQYim_Vj1Y1"
      },
      "source": [
        "<h3>d) Quais conclusões você consegue tirar destes experimentos?"
      ]
    },
    {
      "cell_type": "markdown",
      "metadata": {
        "id": "5NhCkDqSj339"
      },
      "source": [
        "bla"
      ]
    },
    {
      "cell_type": "markdown",
      "metadata": {
        "id": "ZgycO6YIoe2d"
      },
      "source": [
        "<h2> Simulated Annealing"
      ]
    },
    {
      "cell_type": "markdown",
      "metadata": {
        "id": "d6cPqaiUohhE"
      },
      "source": [
        "<h3>a) Implemente o algoritmo Simulated Annealing. Os parâmetros de entrada do programa devem ser temperatura inicial TempInicial, o número máximo de iterações MaxIt e o fator de decaimento α.\r\n",
        "(b) Determine experimentalmente valores para os parâmetros de entrada que permitam que uma solução seja encontrada. Considere apenas tabuleiros de tamanho 4 e 8. Relate como a busca se comportou para os diferentes valores dos parâmetros de entrada que você usou.\r\n",
        "(c) Caso você tenha sido bem sucedido no item anterior (encontrou a solução do problema de 4 e 8 rainhas), use os mesmos parâmetros de entrada usados e execute o programa agora considerando tabuleiros de tamanho 16 e 32. O que acontece?"
      ]
    },
    {
      "cell_type": "code",
      "metadata": {
        "id": "mo_OO6_YouPj"
      },
      "source": [
        ""
      ],
      "execution_count": null,
      "outputs": []
    }
  ]
}