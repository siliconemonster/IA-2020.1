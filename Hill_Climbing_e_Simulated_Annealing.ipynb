{
  "nbformat": 4,
  "nbformat_minor": 0,
  "metadata": {
    "colab": {
      "name": "Hill Climbing e Simulated Annealing.ipynb",
      "provenance": [],
      "authorship_tag": "ABX9TyMtH8CeTdAUhQgwKGx/cUJ6",
      "include_colab_link": true
    },
    "kernelspec": {
      "name": "python3",
      "display_name": "Python 3"
    }
  },
  "cells": [
    {
      "cell_type": "markdown",
      "metadata": {
        "id": "view-in-github",
        "colab_type": "text"
      },
      "source": [
        "<a href=\"https://colab.research.google.com/github/siliconemonster/IA-2020.1/blob/main/Hill_Climbing_e_Simulated_Annealing.ipynb\" target=\"_parent\"><img src=\"https://colab.research.google.com/assets/colab-badge.svg\" alt=\"Open In Colab\"/></a>"
      ]
    },
    {
      "cell_type": "markdown",
      "metadata": {
        "id": "cfjrbF6HoVpO"
      },
      "source": [
        "**<h1> HILL CLIMBING E SIMULATED ANNEALING**\r\n"
      ]
    },
    {
      "cell_type": "markdown",
      "metadata": {
        "id": "S5b3fehXn749"
      },
      "source": [
        "## **Nesta tarefa você vai implementar os algoritmos Hill Climbing e Simulated Annealing e usá-los para resolver o problema das N-Rainhas. Os programas devem ser feitos preferencialmente na linguagem Python.**\r\n",
        "1. Modelagem\r\n",
        "<br>(a) Descreva como um tabuleiro N × N com N rainhas é representado no seu programa.\r\n",
        "2. Implementação: As seguintes funções devem ser implementadas de maneira que possam ser testadas individualmente.\r\n",
        "<br>(a) Defina uma função que dado o tamanho do tabuleiro N, retorna um tabuleiro N ×N com N rainhas.\r\n",
        "O tabuleiro deve ser gerado de maneira aleatória.\r\n",
        "<br>(b) Defina uma função que dado um tabuleiro qualquer, retorna todos os seus vizinhos.\r\n",
        "<br>(c) Defina uma função que dado um tabuleiro qualquer, retorna um de seus vizinhos. A escolha do vizinho a ser retornado pela função deve ser aleatória.\r\n",
        "<br>(d) Defina uma função que dado um tabuleiro qualquer, retorna a avaliação deste tabuleiro (número de ataques entre as rainhas).\r\n",
        "3. Hill Climbing\r\n",
        "<br>(a) Implemente uma versão do algoritmo Hill Climbing, onde o tabuleiro sucessor do tabuleiro corrente será o primeiro vizinho dele (tabuleiro corrente) que tem uma avaliação melhor. Assim, se a avaliação do tabuleiro corrente Tc for igual a k, o primeiro tabuleiro vizinho de Tc encontrado com avaliação menor que k deve passar a ser o novo tabuleiro corrente.\r\n",
        "<br>(b) Implemente uma versão do algoritmo Hill Climbing, onde todos os tabuleiros vizinhos do tabuleiro corrente são avaliados e escolha para ser o novo tabuleiro corrente aquele que mais melhora a avaliação do tabuleiro corrente atual. No caso de haver mais de um tabuleiro, a escolha deve ser\r\n",
        "feita de forma aleatória.\r\n",
        "<br>(c) Analise o desempenho de cada umas das implementações. Considere:\r\n",
        " Tabuleiros de tamanho 4, 8, 16 e 32.\r\n",
        " Para cada tamanho de tabuleiro:<br>\r\n",
        "&nbsp; &nbsp; &nbsp; &nbsp; – Indique quantas vezes você precisou executar os programas para encontrar uma solução.<br>\r\n",
        "&nbsp; &nbsp; &nbsp; &nbsp; – Quantos tabuleiros correntes, em média, foram gerados em cada execução dos programas.\r\n",
        "<br>(d) Quais conclusões você consegue tirar destes experimentos?\r\n",
        "4. Simulated Annealing\r\n",
        "<br>(a) Implemente o algoritmo Simulated Annealing. Os parâmetros de entrada do programa devem ser temperatura inicial TempInicial, o número máximo de iterações MaxIt e o fator de decaimento α.\r\n",
        "<br>(b) Determine experimentalmente valores para os parâmetros de entrada que permitam que uma solução\r\n",
        "seja encontrada. Considere apenas tabuleiros de tamanho 4 e 8. Relate como a busca se comportou para os diferentes valores dos parâmetros de entrada que você usou.\r\n",
        "<br>(c) Caso você tenha sido bem sucedido no item anterior (encontrou a solução do problema de 4 e 8 rainhas), use os mesmos parâmetros de entrada usados e execute o programa agora considerando tabuleiros de tamanho 16 e 32. O que acontece?\r\n",
        "5. Comparando os métodos Hill Climbing e Simulated Annealing na resolução do problema das N-rainhas, o que você pode concluir?"
      ]
    },
    {
      "cell_type": "markdown",
      "metadata": {
        "id": "MRoaV3zhtD3a"
      },
      "source": [
        "--------------------------------------------------------------------------------"
      ]
    },
    {
      "cell_type": "markdown",
      "metadata": {
        "id": "KVUpEjris8yq"
      },
      "source": [
        "<h2>1 - Modelagem"
      ]
    },
    {
      "cell_type": "markdown",
      "metadata": {
        "id": "pKa7-xBteL4h"
      },
      "source": [
        "<h3>a) Representação inicial do tabuleiro:"
      ]
    },
    {
      "cell_type": "code",
      "metadata": {
        "colab": {
          "base_uri": "https://localhost:8080/"
        },
        "id": "8ZlVmseOsFjq",
        "outputId": "e33b36aa-ab7c-41c4-e7be-905c0e09d089"
      },
      "source": [
        "import numpy as np\r\n",
        "import random\r\n",
        "\r\n",
        "x = 4\r\n",
        "tabuleiroVazio = np.zeros((1, x), dtype=int)\r\n",
        "print(tabuleiroVazio)"
      ],
      "execution_count": 27,
      "outputs": [
        {
          "output_type": "stream",
          "text": [
            "[[0 0 0 0]]\n"
          ],
          "name": "stdout"
        }
      ]
    },
    {
      "cell_type": "markdown",
      "metadata": {
        "id": "_jrs5OY-s7dj"
      },
      "source": [
        "No caso de um tabuleiro 4x4, como o caso acima, temos um vetor de 1x4, vazio. Só pode haver uma rainha por coluna, então a coluna em que existir uma, será representada pelo número da linha.<br>\r\n",
        "**Por exemplo:**<br>\r\n",
        "Um tabuleiro do tipo: <br>\r\n",
        "[0 &nbsp; 0 &nbsp; 0 &nbsp; 0]<br>\r\n",
        "[R &nbsp; 0 &nbsp; 0 &nbsp; R]<br>\r\n",
        "[0 &nbsp; R &nbsp; 0 &nbsp; 0]<br>\r\n",
        "[0 &nbsp; 0 &nbsp; R &nbsp; 0]<br>\r\n",
        "onde 0 representa onde está vazio, e R representa onde há uma rainha; na modelagem em questão, é representado por: <br>\r\n",
        "[2 &nbsp; 3 &nbsp; 4 &nbsp; 2]"
      ]
    },
    {
      "cell_type": "markdown",
      "metadata": {
        "id": "xr4kWsaRzarW"
      },
      "source": [
        "<h2> 2 - Implementação"
      ]
    },
    {
      "cell_type": "markdown",
      "metadata": {
        "id": "UpnE8nr0zgAS"
      },
      "source": [
        "<h3>a) Definir uma função que retorna o tabuleiro aleatório:"
      ]
    },
    {
      "cell_type": "code",
      "metadata": {
        "colab": {
          "base_uri": "https://localhost:8080/"
        },
        "id": "eXz91QNZzouu",
        "outputId": "2c2d4433-f636-40e4-bb48-4c410eb1b88e"
      },
      "source": [
        "def geraTabuleiro(n):\r\n",
        "  tabuleiro = np.zeros(( n), dtype=int)\r\n",
        "  #print(tabuleiro)\r\n",
        "\r\n",
        "  for x in range(n):\r\n",
        "    posicaoRainha = random.randint(1, n)\r\n",
        "    #print(posicaoRainha)\r\n",
        "    tabuleiro[x] = posicaoRainha\r\n",
        "\r\n",
        "  print(\"Tabuleiro Atual:\")\r\n",
        "  print(tabuleiro)\r\n",
        "  return tabuleiro\r\n",
        "\r\n",
        "geraTabuleiro(4)"
      ],
      "execution_count": 28,
      "outputs": [
        {
          "output_type": "stream",
          "text": [
            "Tabuleiro Atual:\n",
            "[1 1 4 4]\n"
          ],
          "name": "stdout"
        },
        {
          "output_type": "execute_result",
          "data": {
            "text/plain": [
              "array([1, 1, 4, 4])"
            ]
          },
          "metadata": {
            "tags": []
          },
          "execution_count": 28
        }
      ]
    },
    {
      "cell_type": "markdown",
      "metadata": {
        "id": "TDt8mJLRBME5"
      },
      "source": [
        "<h3> b) Definir uma função que retorna vizinhos:"
      ]
    },
    {
      "cell_type": "code",
      "metadata": {
        "colab": {
          "base_uri": "https://localhost:8080/"
        },
        "id": "GuFuBIH-BhU0",
        "outputId": "9f9de42a-52d0-4979-a8a5-d00cf979c135"
      },
      "source": [
        "def geraVizinhos(n, tabuleiroAtual):\r\n",
        "  quantViz = (n-1)*n # cada dama pode ocupar n-1 novas posições, e são n damas. Um vizinho é uma única dama mudar de posição\r\n",
        "  vizinhos = np.zeros((quantViz, n), dtype=int)\r\n",
        "\r\n",
        "  indice = 0\r\n",
        "  for i in range(n):\r\n",
        "    for j in range (1, n+1):\r\n",
        "      if (tabuleiroAtual[i] != j):\r\n",
        "        aux = []\r\n",
        "        aux = tabuleiroAtual.copy()\r\n",
        "        aux[i] = j\r\n",
        "        vizinhos[indice] = aux\r\n",
        "        indice = indice + 1\r\n",
        "\r\n",
        "  #print(\"Vizinhos:\")\r\n",
        "  #print(vizinhos)\r\n",
        "  return vizinhos\r\n",
        "\r\n",
        "tabuleiro = geraTabuleiro(4)\r\n",
        "geraVizinhos(4, tabuleiro)"
      ],
      "execution_count": 29,
      "outputs": [
        {
          "output_type": "stream",
          "text": [
            "Tabuleiro Atual:\n",
            "[4 4 3 1]\n"
          ],
          "name": "stdout"
        },
        {
          "output_type": "execute_result",
          "data": {
            "text/plain": [
              "array([[1, 4, 3, 1],\n",
              "       [2, 4, 3, 1],\n",
              "       [3, 4, 3, 1],\n",
              "       [4, 1, 3, 1],\n",
              "       [4, 2, 3, 1],\n",
              "       [4, 3, 3, 1],\n",
              "       [4, 4, 1, 1],\n",
              "       [4, 4, 2, 1],\n",
              "       [4, 4, 4, 1],\n",
              "       [4, 4, 3, 2],\n",
              "       [4, 4, 3, 3],\n",
              "       [4, 4, 3, 4]])"
            ]
          },
          "metadata": {
            "tags": []
          },
          "execution_count": 29
        }
      ]
    },
    {
      "cell_type": "markdown",
      "metadata": {
        "id": "R9Z1lfEBfwjw"
      },
      "source": [
        "<h3>c) Definir uma função que gera um vizinho aleatório"
      ]
    },
    {
      "cell_type": "code",
      "metadata": {
        "colab": {
          "base_uri": "https://localhost:8080/"
        },
        "id": "woappYf0f8w5",
        "outputId": "8a08f82e-3c94-41c5-843a-7cb4b3b7b37f"
      },
      "source": [
        "def vizinhoAleatorio(n, vizinhos):\r\n",
        "  quantViz = (n-1)*n # cada dama pode ocupar n-1 novas posições, e são n damas. Um vizinho é uma única dama mudar de posição\r\n",
        "  vizAleatorio = np.zeros(( n), dtype=int)\r\n",
        "\r\n",
        "  posicao = random.randint(0, (quantViz-1))\r\n",
        "\r\n",
        "  for x in range(n):\r\n",
        "    vizAleatorio[x] = vizinhos[posicao][x]\r\n",
        "\r\n",
        "  print(\"Vizinho aleatório:\")\r\n",
        "  print(vizAleatorio)\r\n",
        "  return vizAleatorio\r\n",
        "\r\n",
        "tabuleiro = geraTabuleiro(4)\r\n",
        "vizinhos = geraVizinhos(4, tabuleiro)\r\n",
        "vizinhoAleatorio(4, vizinhos)"
      ],
      "execution_count": 30,
      "outputs": [
        {
          "output_type": "stream",
          "text": [
            "Tabuleiro Atual:\n",
            "[4 1 2 4]\n",
            "Vizinho aleatório:\n",
            "[4 1 4 4]\n"
          ],
          "name": "stdout"
        },
        {
          "output_type": "execute_result",
          "data": {
            "text/plain": [
              "array([4, 1, 4, 4])"
            ]
          },
          "metadata": {
            "tags": []
          },
          "execution_count": 30
        }
      ]
    },
    {
      "cell_type": "markdown",
      "metadata": {
        "id": "rkeiMIFWjE3J"
      },
      "source": [
        "<h3>d) Definir uma função que conta o número de ataques"
      ]
    },
    {
      "cell_type": "code",
      "metadata": {
        "colab": {
          "base_uri": "https://localhost:8080/"
        },
        "id": "zW9sdK8LjPNf",
        "outputId": "ce4d010a-72e3-4f43-b305-4ddd6ac41f42"
      },
      "source": [
        "def avaliaAtaques(n, tabuleiro):\r\n",
        "  ataques = 0\r\n",
        "\r\n",
        "  for i in range(n-1): # caso esteja na mesma coluna\r\n",
        "    for j in range(i+1, n):\r\n",
        "      if (tabuleiro[i] == tabuleiro[j]):\r\n",
        "        ataques = ataques + 1\r\n",
        "\r\n",
        "  for i in range(n-1): # caso esteja na mesma diagonal. Para baixo e para cima, respectivamente\r\n",
        "    for j in range(i+1, n):\r\n",
        "      if ((tabuleiro[i] == tabuleiro[j] + (j - i)) or (tabuleiro[i] == tabuleiro[j] - (j - i))):\r\n",
        "        ataques = ataques + 1\r\n",
        "  if (ataques == 0):\r\n",
        "    print(\"Número de ataques:\")\r\n",
        "    print(ataques)\r\n",
        "  return ataques\r\n",
        "\r\n",
        "tabuleiro = geraTabuleiro(4)\r\n",
        "avaliaAtaques(4, tabuleiro)"
      ],
      "execution_count": 31,
      "outputs": [
        {
          "output_type": "stream",
          "text": [
            "Tabuleiro Atual:\n",
            "[1 3 4 3]\n"
          ],
          "name": "stdout"
        },
        {
          "output_type": "execute_result",
          "data": {
            "text/plain": [
              "3"
            ]
          },
          "metadata": {
            "tags": []
          },
          "execution_count": 31
        }
      ]
    },
    {
      "cell_type": "markdown",
      "metadata": {
        "id": "OJtoq_aG6UaM"
      },
      "source": [
        "<h2>3 - Hill Climbing"
      ]
    },
    {
      "cell_type": "markdown",
      "metadata": {
        "id": "eHgXhPiR6Wtn"
      },
      "source": [
        "<h3>a) Definir uma versão do algoritmo Hill Climbing, onde o tabuleiro sucessor do tabuleiro corrente será o primeiro vizinho dele que tem uma avaliação melhor"
      ]
    },
    {
      "cell_type": "code",
      "metadata": {
        "colab": {
          "base_uri": "https://localhost:8080/"
        },
        "id": "-uwp-GpB6No_",
        "outputId": "a8997032-547c-4fb5-bd7f-38ebbcbb96f6"
      },
      "source": [
        "def hillClimbingPrimeiro (n, estadoInicial):\r\n",
        "  corrente = estadoInicial\r\n",
        "  \r\n",
        "  while True:\r\n",
        "    vizinhos = geraVizinhos(n, corrente)\r\n",
        "    size = len(vizinhos)\r\n",
        "    h = np.zeros(size, dtype=int)\r\n",
        "\r\n",
        "    for i in range(size):\r\n",
        "      aux = vizinhos[i]\r\n",
        "      h[i] = avaliaAtaques(n, aux) # h[i] representa a heurística do vizinho[i]\r\n",
        "\r\n",
        "    # hill climbing começa de fato aqui\r\n",
        "    hCorr = avaliaAtaques(n, corrente) # heurística do nó corrente\r\n",
        "    fCorr = -hCorr # função objetivo do nó corrente\r\n",
        "    for i in range(size):\r\n",
        "      if (i == 0):\r\n",
        "        proximo = h[i]\r\n",
        "        pos = 0\r\n",
        "      elif (h[i] < proximo):\r\n",
        "        proximo = h[i] # pega o primeiro menor ataque\r\n",
        "        pos = i # pega a posição onde está o menor ataque\r\n",
        "    vizinho = vizinhos[pos]\r\n",
        "    hViz = h[pos] # heurística do nó vizinho\r\n",
        "    fViz = -hViz # função objetivo do nó vizinho\r\n",
        "    if (fViz <= fCorr):\r\n",
        "      return corrente\r\n",
        "    corrente = vizinho # atualiza o novo estado atual\r\n",
        "    print(\"Novo - Tabuleiro Atual:\")\r\n",
        "    print(corrente)\r\n",
        "\r\n",
        "# caso de tabuleiro 4x4 perfeito\r\n",
        "#estadoInicial = [2,4,1,3]\r\n",
        "\r\n",
        "# caso de tabuleiro 8x8 perfeito\r\n",
        "#estadoInicial = [7,5,3,1,6,8,2,4]\r\n",
        "\r\n",
        "\"\"\"print(\"Tabuleiro Atual:\")\r\n",
        "print(estadoInicial)\"\"\"\r\n",
        "\r\n",
        "estadoInicial = geraTabuleiro(4)\r\n",
        "hillClimbingPrimeiro(4, estadoInicial)"
      ],
      "execution_count": 32,
      "outputs": [
        {
          "output_type": "stream",
          "text": [
            "Tabuleiro Atual:\n",
            "[4 2 2 1]\n",
            "Novo - Tabuleiro Atual:\n",
            "[4 2 3 1]\n"
          ],
          "name": "stdout"
        },
        {
          "output_type": "execute_result",
          "data": {
            "text/plain": [
              "array([4, 2, 3, 1])"
            ]
          },
          "metadata": {
            "tags": []
          },
          "execution_count": 32
        }
      ]
    },
    {
      "cell_type": "markdown",
      "metadata": {
        "id": "qqxPPjkEUt5U"
      },
      "source": [
        "<h3>b) Definir uma versão do algoritmo Hill Climbing, onde todos os tabuleiros vizinhos do tabuleiro corrente são avaliados e escolha para ser o novo tabuleiro corrente aquele que mais melhora a avaliação do tabuleiro corrente atual. No caso de haver mais de um tabuleiro, a escolha deve ser\r\n",
        "feita de forma aleatória."
      ]
    },
    {
      "cell_type": "code",
      "metadata": {
        "colab": {
          "base_uri": "https://localhost:8080/"
        },
        "id": "BW292e8tWHDp",
        "outputId": "1d70b838-2921-4abb-cf80-997fb13c2fa0"
      },
      "source": [
        "def hillClimbingAleatorio (n, estadoInicial):\r\n",
        "  corrente = estadoInicial\r\n",
        "  \r\n",
        "  while True:\r\n",
        "    vizinhos = geraVizinhos(n, corrente)\r\n",
        "    size = len(vizinhos)\r\n",
        "    h = np.zeros(size, dtype=int)\r\n",
        "    pos = np.zeros(size, dtype=int)\r\n",
        "\r\n",
        "    for i in range(size): # preencher o vetor de posições com -1\r\n",
        "      pos[i] = -1\r\n",
        "\r\n",
        "    for i in range(size):\r\n",
        "      aux = vizinhos[i]\r\n",
        "      h[i] = avaliaAtaques(n, aux) # h[i] representa a heurística do vizinho[i]\r\n",
        "\r\n",
        "    # hill climbing começa de fato aqui\r\n",
        "    hCorr = avaliaAtaques(n, corrente) # heurística do nó corrente\r\n",
        "    fCorr = -hCorr # função objetivo do nó corrente\r\n",
        "\r\n",
        "    for i in range(size):\r\n",
        "      if (i == 0):\r\n",
        "        proximo = h[i]\r\n",
        "      elif (h[i] < proximo):\r\n",
        "        proximo = h[i] # descobre o menor ataque\r\n",
        "\r\n",
        "    aux = 0\r\n",
        "    for i in range(size): # no vetor de -1's, \r\n",
        "      if (h[i] == proximo): # os índices de onde os vizinhos de menor h \r\n",
        "        pos[aux] = i # são salvos nas primeiras posições de pos[]\r\n",
        "        aux = aux + 1\r\n",
        "\r\n",
        "    #print(\"-----------\")\r\n",
        "    #print(\"Vetor pos[] que guarda as posições de vizinhos de menor h[] (desconsiderar onde houver -1)\")\r\n",
        "    #print(pos)\r\n",
        "\r\n",
        "    posicao = random.randint(0, (aux-1)) # escolho um valor aleatório entre as posições de pos que foram de fato alteradas\r\n",
        "    #print(\"Posição aleatória do vetor acima:\")\r\n",
        "    #print(posicao)\r\n",
        "\r\n",
        "    indice = pos[posicao] # esse índice recebe o exato valor aleatório mencionado anteriormente\r\n",
        "    #print(\"Índice original escolhido aleatoriamente:\")\r\n",
        "    #print(indice)\r\n",
        "    \r\n",
        "    vizinho = vizinhos[indice] # Sugiro descomentar os 4 últimos prints para ajudar na visualização\r\n",
        "    #print(\"Vizinho da posição do índice aleatório\")\r\n",
        "    #print(vizinho)\r\n",
        "    hViz = h[indice] # heurística do nó vizinho\r\n",
        "    fViz = -hViz # função objetivo do nó vizinho\r\n",
        "    \"\"\"print(\"fViz:\")\r\n",
        "    print(fViz)\"\"\"\r\n",
        "    if (fViz <= fCorr):\r\n",
        "      return corrente\r\n",
        "    corrente = vizinho # atualiza o novo estado atual\r\n",
        "    #print(\"-----------\")\r\n",
        "    print(\"Novo - Tabuleiro Atual:\")\r\n",
        "    print(corrente)\r\n",
        "\r\n",
        "\r\n",
        "# caso de tabuleiro 4x4 perfeito\r\n",
        "#estadoInicial = [2,4,1,3]\r\n",
        "\r\n",
        "# caso de tabuleiro 8x8 perfeito\r\n",
        "#estadoInicial = [7,5,3,1,6,8,2,4]\r\n",
        "\r\n",
        "\"\"\"print(\"Tabuleiro Atual:\")\r\n",
        "print(estadoInicial)\"\"\"\r\n",
        "\r\n",
        "estadoInicial = geraTabuleiro(4)\r\n",
        "hillClimbingAleatorio(4, estadoInicial)"
      ],
      "execution_count": 33,
      "outputs": [
        {
          "output_type": "stream",
          "text": [
            "Tabuleiro Atual:\n",
            "[3 4 4 3]\n",
            "Novo - Tabuleiro Atual:\n",
            "[1 4 4 3]\n",
            "Novo - Tabuleiro Atual:\n",
            "[1 4 2 3]\n"
          ],
          "name": "stdout"
        },
        {
          "output_type": "execute_result",
          "data": {
            "text/plain": [
              "array([1, 4, 2, 3])"
            ]
          },
          "metadata": {
            "tags": []
          },
          "execution_count": 33
        }
      ]
    },
    {
      "cell_type": "markdown",
      "metadata": {
        "id": "8kLEP8D4jvJ-"
      },
      "source": [
        "<h3>c) Analise o desempenho de cada umas das implementações. Considere: Tabuleiros de tamanho 4, 8, 16 e 32. Para cada tamanho de tabuleiro:\r\n",
        "        – Indique quantas vezes você precisou executar os programas para encontrar uma solução.\r\n",
        "        – Quantos tabuleiros correntes, em média, foram gerados em cada execução dos programas.\r\n"
      ]
    },
    {
      "cell_type": "markdown",
      "metadata": {
        "id": "xnnpfmFxjzXz"
      },
      "source": [
        "4x4 - Foram gerados em média:\r\n",
        "*   Primeiro menor (3a): 3 tabuleiros correntes quando encontrava a solução, e 2 tabuleiros correntes quando não encontrava. Encontrava solução 50% das tentativas.\r\n",
        "*   Aleatório (3b): 3 tabuleiros correntes quando encontrava a solução, e 2 tabuleiros correntes quando não encontrava. Encontrava solução 50% das tentativas.\r\n",
        "\r\n",
        "\r\n",
        "8x8 - Foram gerados em média:\r\n",
        "*   Primeiro menor (3a): 6 tabuleiros correntes quando encontrava a solução, e 4 tabuleiros correntes quando não encontrava. Encontrava solução 50% das tentativas.\r\n",
        "*   Aleatório (3b): 6 tabuleiros correntes quando encontrava a solução, e 4 tabuleiros correntes quando não encontrava. Encontrava solução 25% das tentativas.\r\n",
        "\r\n",
        "16x16 - Foram gerados em média:\r\n",
        "*   Primeiro menor (3a): 10 tabuleiros correntes quando encontrava a solução, e 8 tabuleiros correntes quando não encontrava. Encontrava solução 5% das tentativas.\r\n",
        "*   Aleatório (3b):  7 tabuleiros correntes quando não encontrava solução. Não encontrou nenhuma solução.\r\n",
        "\r\n",
        "32x32 - Foram gerados em média:\r\n",
        "*   Primeiro menor (3a): 17 tabuleiros correntes quando não encontrava solução. Não encontrou nenhuma solução.\r\n",
        "*   Aleatório (3b): 15 tabuleiros correntes quando não encontrava solução. Não encontrou nenhuma solução.\r\n",
        "\r\n",
        "É possível que esses valores se alterem um pouco, conforme outras tentativas sejam feitas, porém não significativamente."
      ]
    },
    {
      "cell_type": "markdown",
      "metadata": {
        "id": "8cQYim_Vj1Y1"
      },
      "source": [
        "<h3>d) Quais conclusões você consegue tirar destes experimentos?"
      ]
    },
    {
      "cell_type": "markdown",
      "metadata": {
        "id": "5NhCkDqSj339"
      },
      "source": [
        "O algoritmo Hill Climbing é relativamente bom em casos onde o tabuleiro não é muito grande. Ele encontra a solução em aproximadamente metade das tentativas.<br>\r\n",
        "As versões desse algoritmo onde se pega o primeiro vizinho de menor heurística e onde se pega um aleatório, dentre os de menor heurística, não fizeram muita diferença em relação a performances, com exceção no caso de 8x8, onde encontrou um pouco mais raramente ao usar o aleatório; e no caso de 16x16, onde o primeiro encontrou solução em alguns poucos casos, e o aleatório não encontrou em nenhum.<br>\r\n",
        "O algoritmo não é eficiente para tabuleiros de n grandes, mesmo que a quantidade de casos aumente conforme esse n aumenta. Disso surge a necessidade de um outro algoritmo, o Simulated Annealing, implementado na próxima seção.\r\n"
      ]
    },
    {
      "cell_type": "markdown",
      "metadata": {
        "id": "ZgycO6YIoe2d"
      },
      "source": [
        "<h2>4 - Simulated Annealing"
      ]
    },
    {
      "cell_type": "markdown",
      "metadata": {
        "id": "d6cPqaiUohhE"
      },
      "source": [
        "<h3>a) Definir o algoritmo Simulated Annealing\r\n"
      ]
    },
    {
      "cell_type": "code",
      "metadata": {
        "colab": {
          "base_uri": "https://localhost:8080/"
        },
        "id": "bh-96MaoEuI9",
        "outputId": "6616d3cb-c8b5-45b7-b1ff-9db4e15e2de0"
      },
      "source": [
        "def simAnnealing(tempInicial, maxIt, alfa):\r\n",
        "  n = 4\r\n",
        "  corrente = geraTabuleiro(n)\r\n",
        "  melhorEstado = corrente\r\n",
        "  tempCorrente = tempInicial\r\n",
        "\r\n",
        "  for i in range(maxIt):\r\n",
        "    vizinhos = geraVizinhos(n, corrente)\r\n",
        "    vizinho = vizinhoAleatorio(n, vizinhos)\r\n",
        "    hMelhor = avaliaAtaques(n, melhorEstado)\r\n",
        "    fMelhor = -hMelhor\r\n",
        "    hCorr = avaliaAtaques(n, corrente)\r\n",
        "    fCorr = -hCorr\r\n",
        "    hViz = avaliaAtaques(n, vizinho)\r\n",
        "    fViz = -hViz\r\n",
        "    delta = fViz - fCorr\r\n",
        "    if (delta <= 0):\r\n",
        "      corrente = vizinho\r\n",
        "      if (fViz <= fMelhor):\r\n",
        "        melhorEstado = vizinho\r\n",
        "    else:\r\n",
        "      aleatorio = random.randint(0, 1)\r\n",
        "      eulerPronto = np.exp((-delta)/tempCorrente)\r\n",
        "      if (eulerPronto > aleatorio):\r\n",
        "        corrente = vizinho\r\n",
        "\r\n",
        "    tempCorrente = alfa * tempCorrente\r\n",
        "    print(hCorr)\r\n",
        "    return (melhorEstado, fMelhor)\r\n",
        "\r\n",
        "simAnnealing(500, 50, 10)"
      ],
      "execution_count": 34,
      "outputs": [
        {
          "output_type": "stream",
          "text": [
            "Tabuleiro Atual:\n",
            "[1 4 2 3]\n",
            "Vizinho aleatório:\n",
            "[1 4 2 1]\n",
            "1\n"
          ],
          "name": "stdout"
        },
        {
          "output_type": "execute_result",
          "data": {
            "text/plain": [
              "(array([1, 4, 2, 1]), -1)"
            ]
          },
          "metadata": {
            "tags": []
          },
          "execution_count": 34
        }
      ]
    },
    {
      "cell_type": "markdown",
      "metadata": {
        "id": "3TChq8vrOZ2Q"
      },
      "source": [
        "<h3>b) Determine experimentalmente valores para os parâmetros de entrada que permitam que uma solução seja encontrada. Considere apenas tabuleiros de tamanho 4 e 8. Relate como a busca se comportou para os diferentes valores dos parâmetros de entrada que você usou.\r\n",
        "(c) Caso você tenha sido bem sucedido no item anterior (encontrou a solução do problema de 4 e 8 rainhas), use os mesmos parâmetros de entrada usados e execute o programa agora considerando tabuleiros de tamanho 16 e 32. O que acontece?"
      ]
    }
  ]
}