{
  "nbformat": 4,
  "nbformat_minor": 0,
  "metadata": {
    "kernelspec": {
      "display_name": "Python 3",
      "language": "python",
      "name": "python3"
    },
    "language_info": {
      "codemirror_mode": {
        "name": "ipython",
        "version": 3
      },
      "file_extension": ".py",
      "mimetype": "text/x-python",
      "name": "python",
      "nbconvert_exporter": "python",
      "pygments_lexer": "ipython3",
      "version": "3.6.9"
    },
    "colab": {
      "name": "exercício_AlineLarissa_regressao_linear.ipynb",
      "provenance": [],
      "collapsed_sections": [],
      "include_colab_link": true
    }
  },
  "cells": [
    {
      "cell_type": "markdown",
      "metadata": {
        "id": "view-in-github",
        "colab_type": "text"
      },
      "source": [
        "<a href=\"https://colab.research.google.com/github/siliconemonster/IA-2020.1/blob/main/exerc%C3%ADcio_AlineLarissa_regressao_linear.ipynb\" target=\"_parent\"><img src=\"https://colab.research.google.com/assets/colab-badge.svg\" alt=\"Open In Colab\"/></a>"
      ]
    },
    {
      "cell_type": "code",
      "metadata": {
        "collapsed": true,
        "id": "fMDtWVM67Cak"
      },
      "source": [
        "# Carregando Bibliotecas\r\n",
        "import pandas as pd\r\n",
        "import numpy as np  # biblioteca que suporta arrays e matrizes multidimensionais - https://numpy.org/\r\n",
        "from sklearn import preprocessing # usado para preprocessar a base de dados (normalização)\r\n",
        "import matplotlib.pyplot as plt # biblioteca para plotar gráficos\r\n",
        "import seaborn as sns # biblioteca de visualização de dados\r\n",
        "from sklearn.linear_model import LinearRegression\r\n",
        "from sklearn.model_selection import train_test_split\r\n",
        "from sklearn.metrics import mean_squared_error"
      ],
      "execution_count": 29,
      "outputs": []
    },
    {
      "cell_type": "code",
      "metadata": {
        "colab": {
          "base_uri": "https://localhost:8080/"
        },
        "id": "qPelKRigXugZ",
        "outputId": "f039d627-c5e7-4fe0-d186-818daad83080"
      },
      "source": [
        "from google.colab import drive\n",
        "drive.mount('/content/drive')"
      ],
      "execution_count": 3,
      "outputs": [
        {
          "output_type": "stream",
          "text": [
            "Mounted at /content/drive\n"
          ],
          "name": "stdout"
        }
      ]
    },
    {
      "cell_type": "markdown",
      "metadata": {
        "id": "Ew979_BTXndw"
      },
      "source": [
        "Vamos usar o arquivo \"exemplo.csv\". Inicialmente, carregamos o arquivo e imprimimos o seu conteúdo e plotamos o gráfico."
      ]
    },
    {
      "cell_type": "code",
      "metadata": {
        "colab": {
          "base_uri": "https://localhost:8080/",
          "height": 806
        },
        "id": "BWCjbb0UXnd1",
        "outputId": "f7f8666c-791d-4ab8-f731-fe51f6b9ccff"
      },
      "source": [
        "plt.rc(\"font\", size=14)\n",
        "\n",
        "sns.set(style=\"white\")\n",
        "sns.set(style=\"whitegrid\", color_codes=True)\n",
        "\n",
        "data = pd.read_csv('/content/drive/MyDrive/trab_regressão_linear/exemplo.csv',header=0)\n",
        "print(data)\n",
        "\n",
        "# gráfico de dispersão - pode usar plt.plot(data['X'],data['Y'],'ro')\n",
        "plt.scatter(data['X'], data['Y'],cmap='red')\n",
        "\n",
        "# rótulo dos eixos e salvando o arquivo com a imagem\n",
        "plt.xlabel(\"Eixo X\")\n",
        "plt.ylabel(\"Eixo Y\")\n",
        "plt.savefig('pontos.png')\n",
        "plt.show()\n",
        "\n",
        "# transformando X e Y para numpy array. Ele precisa ser bidimensional (-1,1)\n",
        "X = data.iloc[:, 0].values.reshape(-1, 1) \n",
        "Y = data.iloc[:, 1].values.reshape(-1, 1) \n",
        "\n",
        "print(X)\n",
        "print(Y)"
      ],
      "execution_count": 30,
      "outputs": [
        {
          "output_type": "stream",
          "text": [
            "           X           Y\n",
            "0  28.816847   60.854133\n",
            "1  35.757619   67.590670\n",
            "2  53.821076  110.762773\n",
            "3  58.215693  115.785785\n",
            "4  66.809748  125.311129\n",
            "5  78.252814  149.003866\n",
            "6  80.648697  159.619414\n",
            "7  81.296082  157.985286\n",
            "8  95.724162  197.179636\n",
            "9  99.958481  196.907397\n"
          ],
          "name": "stdout"
        },
        {
          "output_type": "display_data",
          "data": {
            "image/png": "[encoded data removed]",
            "text/plain": [
              "<Figure size 432x288 with 1 Axes>"
            ]
          },
          "metadata": {
            "tags": []
          }
        },
        {
          "output_type": "stream",
          "text": [
            "[[28.81684742]\n",
            " [35.75761893]\n",
            " [53.82107634]\n",
            " [58.21569264]\n",
            " [66.80974831]\n",
            " [78.25281369]\n",
            " [80.64869706]\n",
            " [81.29608217]\n",
            " [95.72416241]\n",
            " [99.95848131]]\n",
            "[[ 60.85413282]\n",
            " [ 67.59066954]\n",
            " [110.76277271]\n",
            " [115.78578459]\n",
            " [125.31112852]\n",
            " [149.00386554]\n",
            " [159.61941373]\n",
            " [157.98528569]\n",
            " [197.17963609]\n",
            " [196.90739698]]\n"
          ],
          "name": "stdout"
        }
      ]
    },
    {
      "cell_type": "markdown",
      "metadata": {
        "id": "UT-bsmEQXnd3"
      },
      "source": [
        "Vamos agora calcular a reta da regressão linear usando as fórmula apresentadas no vídeo 1 da aula 10:"
      ]
    },
    {
      "cell_type": "code",
      "metadata": {
        "colab": {
          "base_uri": "https://localhost:8080/",
          "height": 687
        },
        "id": "plBvumopXnd3",
        "outputId": "5e8dd782-a3b9-4671-e8c1-71508f6dc3ee"
      },
      "source": [
        "mediaX  = np.mean(X)\n",
        "mediaX2 = np.mean(X**2)\n",
        "mediaY  = np.mean(Y)\n",
        "mediaY2 = np.mean(Y**2)\n",
        "mediaXY = np.mean(X*Y)\n",
        "\n",
        "teta0 = (mediaY*mediaX2 - mediaX*mediaXY)/(mediaX2 - (mediaX)**2)\n",
        "teta1 =(mediaXY - mediaX*mediaY)/(mediaX2 - (mediaX)**2)\n",
        "\n",
        "print('media X:',np.mean(X))\n",
        "print('media X²:',np.mean(X**2))\n",
        "print('media Y:',np.mean(Y))\n",
        "print('media Y²:',np.mean(Y**2))\n",
        "print('media X*Y:',np.mean(X*Y))\n",
        "print()\n",
        "print('teta0:',teta0)\n",
        "print('teta1:',teta1)\n",
        "print()\n",
        "print('Equação da Reta: Y =', teta0,' + ',teta1,'* X' )\n",
        "\n",
        "# plotando os pontos previstos e a reta\n",
        "Y_pred_media = teta0+teta1*X\n",
        "\n",
        "plt.scatter(X, Y,marker='o',color='blue')  #pontos originais\n",
        "plt.scatter(X, Y_pred_media,marker='+',color='red') #pontos previstos\n",
        "plt.savefig('pontos_originais_previstos.png')\n",
        "plt.show()\n",
        "\n",
        "plt.scatter(X, Y,marker='o',color='blue')  #pontos originais\n",
        "plt.scatter(X, Y_pred_media,marker='+',color='red') #pontos previstos\n",
        "plt.plot(X, Y_pred_media, color='gray')\n",
        "plt.savefig('reta_prevista.png')\n",
        "plt.show()"
      ],
      "execution_count": 34,
      "outputs": [
        {
          "output_type": "stream",
          "text": [
            "media X: 67.93012202823\n",
            "media X²: 5124.991702295573\n",
            "media Y: 134.10000862119998\n",
            "media Y²: 19994.15343073811\n",
            "media X*Y: 10117.850602443814\n",
            "\n",
            "teta0: -0.08892359520725088\n",
            "teta1: 1.975396601829183\n",
            "\n",
            "Equação da Reta: Y = -0.08892359520725088  +  1.975396601829183 * X\n"
          ],
          "name": "stdout"
        },
        {
          "output_type": "display_data",
          "data": {
            "image/png": "[encoded data removed]",
            "text/plain": [
              "<Figure size 432x288 with 1 Axes>"
            ]
          },
          "metadata": {
            "tags": []
          }
        },
        {
          "output_type": "display_data",
          "data": {
            "image/png": "[encoded data removed]",
            "text/plain": [
              "<Figure size 432x288 with 1 Axes>"
            ]
          },
          "metadata": {
            "tags": []
          }
        }
      ]
    },
    {
      "cell_type": "markdown",
      "metadata": {
        "id": "JJPFv_TEbk2d"
      },
      "source": [
        "<h2>1. Regressão Linear"
      ]
    },
    {
      "cell_type": "markdown",
      "metadata": {
        "id": "AQn0G_ysbpz3"
      },
      "source": [
        "<h3>a) Refaça o exemplo de regressão linear usando o modelo de regressão linear implementado pelo scikit (linear_model). Indique qual o erro quadrático médio."
      ]
    },
    {
      "cell_type": "code",
      "metadata": {
        "colab": {
          "base_uri": "https://localhost:8080/"
        },
        "id": "VAUnEs-2cdt0",
        "outputId": "f152bcef-ad61-4e99-a01f-7b03ce6a375f"
      },
      "source": [
        "regressao = LinearRegression()\r\n",
        "regressao.fit(X, Y)\r\n",
        "yPrevisao = regressao.predict(X) # é a linha que indica os valores\r\n",
        "\r\n",
        "# O score retorna o coeficiente de determinação R² da previsão (???)\r\n",
        "print(\"Score:\", regressao.score(X, Y))\r\n",
        "# O erro quadrático médio é quão distante o ponto está da linha\r\n",
        "print(\"Erro quadrático médio:\", mean_squared_error(Y, yPrevisao))"
      ],
      "execution_count": 35,
      "outputs": [
        {
          "output_type": "stream",
          "text": [
            "Score: 0.9903992477649591\n",
            "Erro quadrático médio: 19.310387739177337\n"
          ],
          "name": "stdout"
        }
      ]
    },
    {
      "cell_type": "markdown",
      "metadata": {
        "id": "BiJizTkVbyuF"
      },
      "source": [
        "<h3>b) Refaça o item (a), dividindo o arquivo de exemplos em treinamento (70%) e teste (30%). Indique qual o erro quadrático médio."
      ]
    },
    {
      "cell_type": "code",
      "metadata": {
        "colab": {
          "base_uri": "https://localhost:8080/",
          "height": 302
        },
        "id": "ZygZ70kTfOTg",
        "outputId": "a8c4a888-3898-411d-9248-f0dac542fe82"
      },
      "source": [
        "feature_cols = ['X']\r\n",
        "X = data[feature_cols]\r\n",
        "Y = data.Y\r\n",
        "\r\n",
        "# 70% treinamento - 30% teste\r\n",
        "X_train, X_test, Y_train, Y_test = train_test_split(X, Y, test_size=0.3)\r\n",
        "\r\n",
        "# Regressão linear\r\n",
        "regressao = LinearRegression()\r\n",
        "regressao.fit(X_train, Y_train)\r\n",
        "yPrevisao = regressao.predict(X_test)\r\n",
        "\r\n",
        "print(\"Score:\", regressao.score(X_test, Y_test))\r\n",
        "print(\"Erro quadrático médio:\", mean_squared_error(Y_test, yPrevisao))\r\n",
        "\r\n",
        "# Plotando o gráfico\r\n",
        "plt.scatter(X_test, Y_test, color='blue')\r\n",
        "plt.plot(X_test, yPrevisao, color='gray')\r\n",
        "plt.savefig('reta_prevista.png')\r\n",
        "plt.show()"
      ],
      "execution_count": 36,
      "outputs": [
        {
          "output_type": "stream",
          "text": [
            "Score: 0.9919705675439626\n",
            "Erro quadrático médio: 26.28290389341947\n"
          ],
          "name": "stdout"
        },
        {
          "output_type": "display_data",
          "data": {
            "image/png": "[encoded data removed]",
            "text/plain": [
              "<Figure size 432x288 with 1 Axes>"
            ]
          },
          "metadata": {
            "tags": []
          }
        }
      ]
    },
    {
      "cell_type": "markdown",
      "metadata": {
        "id": "V4kn6PPeb6Cn"
      },
      "source": [
        "<h3>c) Comente os resultados obtidos."
      ]
    },
    {
      "cell_type": "markdown",
      "metadata": {
        "id": "h60lIKy4k0CL"
      },
      "source": [
        "Em a) O valor do score foi de 0.9903992477649591, o que pareceu muito satisfatório, e o erro quadrático médio foi de 19.310387739177337.<br><br>\r\n",
        "Já em b), o score em ambos fica na casa dos 0.99... também, mas sempre variando.\r\n",
        "O erro quadrático médio varia muito, aproximadamente de 5 a 25.<br><br>\r\n",
        "Julguei esses valores baixos, e por consequência, bons."
      ]
    },
    {
      "cell_type": "markdown",
      "metadata": {
        "id": "wWlLcfwNcBB0"
      },
      "source": [
        "<h2>2. Considere a base de dados multi.csv. Ela contém dados com 4 features (X1,X2,X3 e X4) e um atributos alvo (X5)."
      ]
    },
    {
      "cell_type": "markdown",
      "metadata": {
        "id": "XETCxUXXcBB9"
      },
      "source": [
        "<h3>a) Plote os gráficos para X1 x X5, X2 x X5, X3 x X5 e X4 x X5, e determine qual par de atributos (Xi,X5) possui uma relação linear."
      ]
    },
    {
      "cell_type": "code",
      "metadata": {
        "colab": {
          "base_uri": "https://localhost:8080/",
          "height": 1000
        },
        "id": "KOy7_1LtmT5w",
        "outputId": "7cdbc284-3d2a-4a17-e7c8-fc02e8737bf8"
      },
      "source": [
        "multi = pd.read_csv('/content/drive/MyDrive/trab_regressão_linear/multi.csv',header=0)\r\n",
        "print(multi)\r\n",
        "\r\n",
        "print(\"\")\r\n",
        "print(\"X1 x X5\")\r\n",
        "plt.scatter(multi['X1'], multi['X5'])\r\n",
        "plt.xlabel(\"Eixo X1\")\r\n",
        "plt.ylabel(\"Eixo X5\")\r\n",
        "plt.savefig('X1xX5.png')\r\n",
        "plt.show()\r\n",
        "\r\n",
        "print(\"\")\r\n",
        "print(\"X2 x X5\")\r\n",
        "plt.scatter(multi['X2'], multi['X5'])\r\n",
        "plt.xlabel(\"Eixo X1\")\r\n",
        "plt.ylabel(\"Eixo X5\")\r\n",
        "plt.savefig('X2xX5.png')\r\n",
        "plt.show()\r\n",
        "\r\n",
        "print(\"\")\r\n",
        "print(\"X3 x X5\")\r\n",
        "plt.scatter(multi['X3'], multi['X5'])\r\n",
        "plt.xlabel(\"Eixo X1\")\r\n",
        "plt.ylabel(\"Eixo X5\")\r\n",
        "plt.savefig('X3xX5.png')\r\n",
        "plt.show()\r\n",
        "\r\n",
        "print(\"\")\r\n",
        "print(\"X4 x X5\")\r\n",
        "plt.scatter(multi['X4'], multi['X5'])\r\n",
        "plt.xlabel(\"Eixo X4\")\r\n",
        "plt.ylabel(\"Eixo X5\")\r\n",
        "plt.savefig('X4xX5.png')\r\n",
        "plt.show()"
      ],
      "execution_count": 37,
      "outputs": [
        {
          "output_type": "stream",
          "text": [
            "      X1  X2    X3   X4    X5\n",
            "0   2017  12  2.75  5.3  1464\n",
            "1   2017  11  2.50  5.3  1394\n",
            "2   2017  10  2.50  5.3  1357\n",
            "3   2017   9  2.50  5.3  1293\n",
            "4   2017   8  2.50  5.4  1256\n",
            "5   2017   7  2.50  5.6  1254\n",
            "6   2017   6  2.50  5.5  1234\n",
            "7   2017   5  2.25  5.5  1195\n",
            "8   2017   4  2.25  5.5  1159\n",
            "9   2017   3  2.25  5.6  1167\n",
            "10  2017   2  2.00  5.7  1130\n",
            "11  2017   1  2.00  5.9  1075\n",
            "12  2016  12  2.00  6.0  1047\n",
            "13  2016  11  1.75  5.9   965\n",
            "14  2016  10  1.75  5.8   943\n",
            "15  2016   9  1.75  6.1   958\n",
            "16  2016   8  1.75  6.2   971\n",
            "17  2016   7  1.75  6.1   949\n",
            "18  2016   6  1.75  6.1   884\n",
            "19  2016   5  1.75  6.1   866\n",
            "20  2016   4  1.75  5.9   876\n",
            "21  2016   3  1.75  6.2   822\n",
            "22  2016   2  1.75  6.2   704\n",
            "23  2016   1  1.75  6.1   719\n",
            "\n",
            "X1 x X5\n"
          ],
          "name": "stdout"
        },
        {
          "output_type": "display_data",
          "data": {
            "image/png": "[encoded data removed]",
            "text/plain": [
              "<Figure size 432x288 with 1 Axes>"
            ]
          },
          "metadata": {
            "tags": []
          }
        },
        {
          "output_type": "stream",
          "text": [
            "\n",
            "X2 x X5\n"
          ],
          "name": "stdout"
        },
        {
          "output_type": "display_data",
          "data": {
            "image/png": "[encoded data removed]",
            "text/plain": [
              "<Figure size 432x288 with 1 Axes>"
            ]
          },
          "metadata": {
            "tags": []
          }
        },
        {
          "output_type": "stream",
          "text": [
            "\n",
            "X3 x X5\n"
          ],
          "name": "stdout"
        },
        {
          "output_type": "display_data",
          "data": {
            "image/png": "[encoded data removed]",
            "text/plain": [
              "<Figure size 432x288 with 1 Axes>"
            ]
          },
          "metadata": {
            "tags": []
          }
        },
        {
          "output_type": "stream",
          "text": [
            "\n",
            "X4 x X5\n"
          ],
          "name": "stdout"
        },
        {
          "output_type": "display_data",
          "data": {
            "image/png": "[encoded data removed]",
            "text/plain": [
              "<Figure size 432x288 with 1 Axes>"
            ]
          },
          "metadata": {
            "tags": []
          }
        }
      ]
    },
    {
      "cell_type": "markdown",
      "metadata": {
        "id": "IX4dUvcqUcZX"
      },
      "source": [
        "X4 x X5 parece ter a relação mais linear delas"
      ]
    },
    {
      "cell_type": "markdown",
      "metadata": {
        "id": "FIwUtcHAcBB9"
      },
      "source": [
        "<h3>b) Utilizando os atributos que possuem uma relação linear com X5, utilize a regressão linear para determinar os coeficientes da equação correspondentes. Utilize o modelo de regressão linear do scikit e todo o conjunto de dados no treinamento."
      ]
    },
    {
      "cell_type": "code",
      "metadata": {
        "colab": {
          "base_uri": "https://localhost:8080/"
        },
        "id": "fOLlQqzinw58",
        "outputId": "7fc01fda-5a6b-4168-d3be-49e43f71aa84"
      },
      "source": [
        "feature_cols = ['X3', 'X4']\r\n",
        "X = multi[feature_cols]\r\n",
        "Y = multi.X5\r\n",
        "\r\n",
        "regressao = LinearRegression()\r\n",
        "regressao.fit(X, Y)\r\n",
        "yPrevisao = regressao.predict(X)\r\n",
        "print(\"Score:\", regressao.score(X, Y))\r\n",
        "print(\"Erro quadrático médio:\", mean_squared_error(Y, yPrevisao))"
      ],
      "execution_count": 38,
      "outputs": [
        {
          "output_type": "stream",
          "text": [
            "Score: 0.8976335894170216\n",
            "Erro quadrático médio: 4356.611357123124\n"
          ],
          "name": "stdout"
        }
      ]
    },
    {
      "cell_type": "markdown",
      "metadata": {
        "id": "fEzBAiHEcBB9"
      },
      "source": [
        "<h3>c) Divida os dados em conjuntos de  treinamento (75%) e teste (25%)."
      ]
    },
    {
      "cell_type": "code",
      "metadata": {
        "colab": {
          "base_uri": "https://localhost:8080/"
        },
        "id": "pfqKnl6tn5Z7",
        "outputId": "0114747b-4a58-4b2a-bf0c-9b13d93ee3ca"
      },
      "source": [
        "feature_cols = ['X2', 'X3', 'X4']\r\n",
        "X = multi[feature_cols]\r\n",
        "Y = multi.X5\r\n",
        "\r\n",
        "X_train, X_test, Y_train, Y_test = train_test_split(X, Y, test_size=0.25)\r\n",
        "\r\n",
        "regressao = LinearRegression()\r\n",
        "regressao.fit(X_train, Y_train)\r\n",
        "yPrevisao = regressao.predict(X_test)\r\n",
        "print(\"Score: \", regressao.score(X_test, Y_test))\r\n",
        "print(\"Erro quadrático médio: \", mean_squared_error(Y_test, yPrevisao))"
      ],
      "execution_count": 40,
      "outputs": [
        {
          "output_type": "stream",
          "text": [
            "Score:  0.9733461529153794\n",
            "Erro quadrático médio:  938.2243019943447\n"
          ],
          "name": "stdout"
        }
      ]
    },
    {
      "cell_type": "markdown",
      "metadata": {
        "id": "REVHx9oMndPB"
      },
      "source": [
        "Links:\r\n",
        "\r\n",
        "https://scikit-learn.org/stable/auto_examples/linear_model/plot_ols.html#sphx-glr-auto-examples-linear-model-plot-ols-py\r\n",
        "\r\n",
        "https://scikit-learn.org/stable/modules/generated/sklearn.linear_model.LinearRegression.html#sklearn.linear_model.LinearRegression.score\r\n"
      ]
    }
  ]
}